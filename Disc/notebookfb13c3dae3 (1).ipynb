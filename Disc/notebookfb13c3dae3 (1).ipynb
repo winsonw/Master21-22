{
 "cells": [
  {
   "cell_type": "markdown",
   "metadata": {
    "_cell_guid": "665c0f60-cca0-4cb4-a546-0411cd122af7",
    "_uuid": "4557758a-a5b5-4331-ab55-26971199d99b",
    "id": "LR4bovYL4CJz"
   },
   "source": [
    "## COMP5623M Assessment Coursework 1 - Image Classification [100 marks]\n",
    "\n",
    "The maximum number of marks for each part are shown in the section headers. As indicated in the main heading above, the overall assessment carries a maximum of 100 marks.\n",
    "\n",
    "This summative assessment is weighted 25% of the final grade for the module.\n",
    "\n",
    "### Motivation \n",
    "\n",
    "Through this coursework, you will:\n",
    "\n",
    "> 1. Practice building, evaluating, and finetuning a convolutional neural network on an image dataset from development to testing. \n",
    "> 2. Gain a deeper understanding of feature maps and filters by visualizing some from a pre-trained network. \n",
    "\n",
    "\n",
    "### Setup and resources \n",
    "\n",
    "You must work using this provided template notebook.\n",
    "\n",
    "Having a GPU will speed up the training process, especially for Question 1.3. See the provided document on Minerva about setting up a working environment for various ways to access a GPU.\n",
    "\n",
    "Please implement the coursework using **Python and PyTorch**, and refer to the notebooks and exercises provided.\n",
    "\n",
    "This coursework will use a subset of images from Tiny ImageNet, which is a subset of the ImageNet dataset [https://image-net.org/]. Our subset of Tiny ImageNet contains 30 different categories, we will refer to it as TinyImageNet30. The training set has 450 resized images (64x64 pixels) for each category (13,500 images in total). You can download the training and test set from the Kaggle website:\n",
    "\n",
    ">[Private class Kaggle competition and data](https://www.kaggle.com/t/9b703e0d71824a658e186d5f69960e27)\n",
    "\n",
    "To access the dataset, you will need an account on the Kaggle website. Even if you have an existing Kaggle account, please carefully adhere to these instructions, or we may not be able to locate your entries:\n",
    "\n",
    "> 1. Use your **university email** to register a new account.\n",
    "> 2. Set your **Kaggle account NAME** to your university username, for example, ``sc15jb``.\n",
    "\n",
    "The class Kaggle competition also includes a blind test set, which will be used in Question 1 for evaluating your custom model's performance on a test set. The competition website will compute the test set accuracy, as well as position your model on the class leaderboard.\n",
    "\n",
    "### Submission\n",
    "\n",
    "Please submit the following:\n",
    "\n",
    "> 1. Your completed Jupyter notebook file, without removing anything in the template, in **.ipynb format.**\n",
    "> 2. The **.html version** of your notebook; File > Download as > HTML (.html). Check that all cells have been run and all outputs (including all graphs you would like to be marked) displayed in the .html for marking.\n",
    "> 3. Your selected image from section 2.4.2 \"Failure analysis\"\n",
    "\n",
    "Final note:\n",
    "\n",
    "> **Please display everything that you would like to be marked. Under each section, put the relevant code containing your solution. You may re-use functions you defined previously, but any new code must be in the relevant section.** Feel free to add as many code cells as you need under each section.\n",
    "\n",
    "Your student username (for example, ```sc15jb```):"
   ]
  },
  {
   "cell_type": "markdown",
   "metadata": {
    "_cell_guid": "f64119fd-3fc9-44b5-9c0b-3e7e25fc7df5",
    "_uuid": "8582a9f5-85d6-4083-85e7-ebdc80eecb8e",
    "id": "LKZdFXsuW0bb"
   },
   "source": [
    "sc212zw"
   ]
  },
  {
   "cell_type": "markdown",
   "metadata": {
    "_cell_guid": "a0521445-260e-40d8-942f-a6f9a564d34a",
    "_uuid": "87226655-1fb4-4345-8f03-c119296abd75",
    "id": "6lXJZadGW0bc"
   },
   "source": [
    "Your full name:"
   ]
  },
  {
   "cell_type": "markdown",
   "metadata": {
    "_cell_guid": "0a4f6495-b807-4a4d-aa2e-4648d28d486e",
    "_uuid": "edef803e-8a4a-452e-8426-193867bd0eab",
    "id": "As-rXIWJW0bc"
   },
   "source": [
    "Ziwei Wang"
   ]
  },
  {
   "cell_type": "markdown",
   "metadata": {
    "_cell_guid": "4f198035-5de3-4ea6-87b8-5a1cac96a36e",
    "_uuid": "2e58ca11-c523-41f3-a09c-8095a6f16cb1",
    "id": "iSStRP1dW0bd"
   },
   "source": [
    "## Imports\n",
    "\n",
    "Feel free to add to this section as needed.\n",
    "\n",
    "You may need to download `cv2` using [pip](https://pypi.org/project/opencv-python/) or [conda](https://anaconda.org/conda-forge/opencv)."
   ]
  },
  {
   "cell_type": "code",
   "execution_count": 1,
   "metadata": {
    "_cell_guid": "564165f5-d8f8-4d96-98e2-ee92f035c3a0",
    "_uuid": "a1c76ca1-a18b-4ff2-a769-ab16f880b37f",
    "execution": {
     "iopub.execute_input": "2022-02-28T03:17:09.452383Z",
     "iopub.status.busy": "2022-02-28T03:17:09.452072Z",
     "iopub.status.idle": "2022-02-28T03:17:20.666945Z",
     "shell.execute_reply": "2022-02-28T03:17:20.666186Z",
     "shell.execute_reply.started": "2022-02-28T03:17:09.452304Z"
    },
    "id": "mxlzGxQEW0bd",
    "jupyter": {
     "outputs_hidden": false
    }
   },
   "outputs": [],
   "source": [
    "import cv2\n",
    "import math\n",
    "\n",
    "import torch\n",
    "import numpy as np\n",
    "import torch.nn as nn\n",
    "from torch import optim\n",
    "\n",
    "import torchvision.transforms as transforms\n",
    "from torch.hub import load_state_dict_from_url\n",
    "\n",
    "from torchvision.datasets import ImageFolder\n",
    "from torch.utils.data import DataLoader\n",
    "\n",
    "from PIL import Image\n",
    "import matplotlib.pyplot as plt\n",
    "import os\n",
    "os.environ[\"KMP_DUPLICATE_LIB_OK\"]=\"TRUE\"\n",
    "device = torch.device(\"cuda\" if torch.cuda.is_available() else \"cpu\")\n",
    "\n",
    "import pandas as pd\n",
    "from torchvision.io import read_image\n",
    "from torch.utils.data import Dataset\n",
    "! pip install natsort\n",
    "from natsort import natsorted\n",
    "\n",
    "from sklearn.metrics import confusion_matrix\n",
    "import seaborn as sns"
   ]
  },
  {
   "cell_type": "markdown",
   "metadata": {
    "_cell_guid": "a4f04b82-10d8-4b79-8cb1-402f8fd998b6",
    "_uuid": "4aae8551-e9d0-4d2f-aaea-b57402be421c",
    "id": "kfR--uYXHdIi"
   },
   "source": [
    "## QUESTION 1 [55 marks]\n",
    "\n",
    "One challenge of building a deep learning model is to choose an architecture that can learn the features in the dataset without being unnecessarily complex. The first part of the coursework involves building a CNN and training it on TinyImageNet30. \n",
    "\n",
    "### **Overview:**\n",
    "*   **1.1.1** PyTorch ```Dataset``` and ```DataLoader``` classes\n",
    "*   **1.1.2** PyTorch ```Model``` class for simple CNN model\n",
    "*   **1.1.3** Overfitting on a single batch\n",
    "*   **1.2.1** Training on complete dataset\n",
    "*   **1.2.2** Fine-tuning model\n",
    "*   **1.2.3** Generating confusion matrices\n",
    "*   **1.3**   Testing on test set on Kaggle\n",
    "\n",
    "\n",
    "## 1.1 Single-batch training [14 marks]\n",
    "\n",
    "We will use a method of development called “single-batch training”, or \"overfitting a single batch\", in which we check that our model and the training code is working properly and can overfit a single training batch (i.e., we can drive the training loss to zero). Then we move on to training on the complete training set and adjust for any overfitting and fine-tune the model via regularisation.\n",
    "\n",
    "### 1.1.1 Dataset class [3 marks]\n",
    "\n",
    "Write a PyTorch ```Dataset``` class (an example [here](https://www.askpython.com/python-modules/pytorch-custom-datasets) for reference) which loads the TinyImage30 dataset and ```DataLoaders``` for training and validation sets."
   ]
  },
  {
   "cell_type": "code",
   "execution_count": null,
   "metadata": {
    "_cell_guid": "bf45cc3a-57ba-4a36-b23d-30a3d99b4e24",
    "_uuid": "949e0fee-1be9-44e8-b625-8bbb02eb358e",
    "execution": {
     "iopub.execute_input": "2022-02-27T17:02:20.146354Z",
     "iopub.status.busy": "2022-02-27T17:02:20.146117Z",
     "iopub.status.idle": "2022-02-27T17:02:20.152791Z",
     "shell.execute_reply": "2022-02-27T17:02:20.152051Z",
     "shell.execute_reply.started": "2022-02-27T17:02:20.146327Z"
    },
    "id": "GAx7ey00W0bg",
    "jupyter": {
     "outputs_hidden": false
    },
    "outputId": "61543360-722e-42bd-a673-1383f87b5ac1"
   },
   "outputs": [],
   "source": [
    "# from google.colab import drive\n",
    "# drive.mount('/content/gdrive')"
   ]
  },
  {
   "cell_type": "code",
   "execution_count": null,
   "metadata": {
    "_cell_guid": "49845baa-79a5-49a1-b819-a22243b59f9c",
    "_uuid": "b9941549-3a78-4fef-bfac-0caf491aa7e1",
    "id": "JLZjwS3PW0bg",
    "jupyter": {
     "outputs_hidden": false
    }
   },
   "outputs": [],
   "source": [
    "# ! cp \"/content/gdrive/MyDrive/Colab Notebooks/data.zip\" \"data.zip\"\n",
    "# ! unzip data.zip"
   ]
  },
  {
   "cell_type": "code",
   "execution_count": 2,
   "metadata": {
    "_cell_guid": "70977013-0568-42c6-94b2-f396ffe37abc",
    "_uuid": "46c41fe6-38d4-4fce-a318-a489bc3d7127",
    "execution": {
     "iopub.execute_input": "2022-02-28T03:18:08.368389Z",
     "iopub.status.busy": "2022-02-28T03:18:08.368131Z",
     "iopub.status.idle": "2022-02-28T03:18:12.331294Z",
     "shell.execute_reply": "2022-02-28T03:18:12.330433Z",
     "shell.execute_reply.started": "2022-02-28T03:18:08.368361Z"
    },
    "id": "A_F_A1l3W0bg",
    "jupyter": {
     "outputs_hidden": false
    }
   },
   "outputs": [],
   "source": [
    "# dataset = ImageFolder(root=\"data/train_set/train_set/\", transform=transforms.ToTensor())\n",
    "dataset = ImageFolder(root=\"../input/something/train_set/train_set\", transform=transforms.ToTensor())\n",
    "dataloader = DataLoader(dataset, batch_size=64, shuffle=True)"
   ]
  },
  {
   "cell_type": "markdown",
   "metadata": {
    "_cell_guid": "527cf2c3-6195-481b-9ad6-9d50c0a8a818",
    "_uuid": "358e65ad-4c54-4456-82da-6b55138d6a8e",
    "id": "-h_03GZ3W0bh"
   },
   "source": [
    "### 1.1.2 Define a CNN model [3 marks]\n",
    "\n",
    "Create a new model class using a combination of convolutional and fully connected layers, ReLU, and max-pool."
   ]
  },
  {
   "cell_type": "code",
   "execution_count": 4,
   "metadata": {
    "_cell_guid": "1b39ded7-fdb3-47f4-8e5d-e124e782cd27",
    "_uuid": "1bfbf41b-8f60-4c50-b85d-24e266b2c52c",
    "execution": {
     "iopub.execute_input": "2022-02-28T03:18:14.106200Z",
     "iopub.status.busy": "2022-02-28T03:18:14.105532Z",
     "iopub.status.idle": "2022-02-28T03:18:14.113521Z",
     "shell.execute_reply": "2022-02-28T03:18:14.112761Z",
     "shell.execute_reply.started": "2022-02-28T03:18:14.106165Z"
    },
    "id": "k4teLMReW0bh",
    "jupyter": {
     "outputs_hidden": false
    }
   },
   "outputs": [],
   "source": [
    "# TO COMPLETE\n",
    "# define a Model class\n",
    "\n",
    "class Simple_CNN(nn.Sequential):\n",
    "    def __init__(self):\n",
    "        super().__init__()\n",
    "        layers = [    \n",
    "            nn.Conv2d(in_channels=3,out_channels=32, kernel_size=3),    \n",
    "            nn.ReLU(),\n",
    "            nn.Conv2d(in_channels=32,out_channels=32, kernel_size=3),\n",
    "            nn.ReLU(),\n",
    "            nn.MaxPool2d(kernel_size=2, stride=2),\n",
    "            nn.Conv2d(in_channels=32,out_channels=64, kernel_size=3),    \n",
    "            nn.ReLU(),\n",
    "            nn.Conv2d(in_channels=64,out_channels=64, kernel_size=3),\n",
    "            nn.ReLU(),\n",
    "            nn.MaxPool2d(kernel_size=2, stride=2),\n",
    "            nn.Flatten(),\n",
    "            nn.Linear(64*13*13,512),\n",
    "            nn.ReLU(),\n",
    "            nn.Linear(512,30),\n",
    "            nn.LogSoftmax(dim=1),\n",
    "        ]\n",
    "        for idx, module in enumerate(layers):\n",
    "            self.add_module(str(idx), module)"
   ]
  },
  {
   "cell_type": "markdown",
   "metadata": {
    "_cell_guid": "08a68e6c-cfc6-409a-94fa-2874cb78e6a2",
    "_uuid": "a179dd22-d01f-4e89-9eaa-ec3714a92da2",
    "id": "4T4m0R30W0bi"
   },
   "source": [
    "### 1.1.3 Single-batch training [8 marks]\n",
    "\n",
    "Write the foundational code which trains your network given **one single batch** of training data and computes the loss on the complete validation set for each epoch. Set ```batch_size = 64```. \n",
    "\n",
    "Display the graph of the training and validation loss over training epochs, showing as long as necessary to show you can drive the training loss to zero.\n",
    "\n",
    "> Please leave all graphs and code you would like to be marked clearly displayed without needing to run code cells or wait for training."
   ]
  },
  {
   "cell_type": "code",
   "execution_count": 5,
   "metadata": {
    "_cell_guid": "653e788b-4957-4ef8-911f-d6feaba0e776",
    "_uuid": "2871639f-19b6-40b1-a3b8-5a4fbf198d12",
    "execution": {
     "iopub.execute_input": "2022-02-28T03:18:16.657440Z",
     "iopub.status.busy": "2022-02-28T03:18:16.657187Z",
     "iopub.status.idle": "2022-02-28T03:18:16.669616Z",
     "shell.execute_reply": "2022-02-28T03:18:16.668904Z",
     "shell.execute_reply.started": "2022-02-28T03:18:16.657411Z"
    },
    "id": "0Lr69ExUW0bi",
    "jupyter": {
     "outputs_hidden": false
    }
   },
   "outputs": [],
   "source": [
    "class Foundation_Classification():\n",
    "    def __init__(self, dataloader):    \n",
    "        self.batch_size = 64\n",
    "        self.stat = {\"train_loss\":[], \"validation_loss\":[]}\n",
    "        self.results_path = 'single_batch.pt'\n",
    "        self.dataloader = dataloader\n",
    "        self.epoch_size = len(self.dataloader)\n",
    "        \n",
    "    def simple_fig_init(self):     \n",
    "        self.net = Simple_CNN().to(device)\n",
    "        self.loss_fn = nn.CrossEntropyLoss().to(device)\n",
    "        self.optimizer = optim.Adam(self.net.parameters(), lr=0.001)\n",
    "        \n",
    "    def accuracy(self, outputs, labels):\n",
    "        _, predicted = torch.max(outputs.data, 1)\n",
    "        correct = (predicted == labels).sum().item()\n",
    "        return correct/labels.shape[0]\n",
    "    \n",
    "    def train(self, inputs, labels):\n",
    "        self.optimizer.zero_grad()\n",
    "        outputs = self.net(inputs.to(device))\n",
    "        loss = self.loss_fn(outputs, labels.to(device))\n",
    "        loss.backward()\n",
    "        self.optimizer.step()\n",
    "        return loss.item()\n",
    "\n",
    "    def predict(self, inputs):\n",
    "        with torch.no_grad():\n",
    "          output = int(torch.argmax(self.net(inputs.to(device))))\n",
    "        return output\n",
    "\n",
    "    def validate(self, inputs, labels):\n",
    "        with torch.no_grad():\n",
    "          outputs = self.net(inputs.to(device)).to(device)\n",
    "          loss = self.loss_fn(outputs, labels.to(device)).item()\n",
    "        return loss\n",
    "    \n",
    "    def plot(self):\n",
    "        plt.plot(self.stat[\"train_loss\"], 'r', label = 'training loss', )\n",
    "        plt.plot(self.stat[\"validation_loss\"], 'g', label = 'validation loss' )\n",
    "        plt.xlabel('epoch')\n",
    "        plt.ylabel('loss')\n",
    "        plt.title('Training and test loss')"
   ]
  },
  {
   "cell_type": "code",
   "execution_count": 8,
   "metadata": {
    "_cell_guid": "6921975d-ddcf-410f-b267-d7b662df09ba",
    "_uuid": "4e853b11-38a7-48e2-90e6-d35815f8d473",
    "execution": {
     "iopub.execute_input": "2022-02-28T03:18:51.838450Z",
     "iopub.status.busy": "2022-02-28T03:18:51.837684Z",
     "iopub.status.idle": "2022-02-28T03:18:51.848297Z",
     "shell.execute_reply": "2022-02-28T03:18:51.847419Z",
     "shell.execute_reply.started": "2022-02-28T03:18:51.838415Z"
    },
    "id": "8W87-pEbW0bi",
    "jupyter": {
     "outputs_hidden": false
    }
   },
   "outputs": [],
   "source": [
    "class Single_Batch(Foundation_Classification):\n",
    "    def __init__(self, dataloader, validation_ratio=0.2):\n",
    "        super().__init__(dataloader)\n",
    "        self.validation_ratio = validation_ratio\n",
    "        self.validation_index = int(self.batch_size * (1 - self.validation_ratio))\n",
    "        self.simple_fig_init()\n",
    "    \n",
    "    def training(self): \n",
    "        data = next(iter(self.dataloader))\n",
    "        inputs, labels = data\n",
    "        train_inputs = inputs[:self.validation_index]\n",
    "        validation_inputs = inputs[self.validation_index:]\n",
    "        train_labels = labels[:self.validation_index]\n",
    "        validation_labels = labels[self.validation_index:]\n",
    "        train_loss = 999\n",
    "        \n",
    "        epoch = 0\n",
    "        \n",
    "        while round(train_loss,3) != 0.0:\n",
    "\n",
    "            train_loss = self.train(train_inputs, train_labels)\n",
    "            validation_loss = self.validate(validation_inputs, validation_labels)\n",
    "\n",
    "            self.stat[\"train_loss\"].append(train_loss)\n",
    "            self.stat[\"validation_loss\"].append(validation_loss)\n",
    "            # print(f\"epoch: {epoch} training loss: {train_loss: .3f} validation loss: {validation_loss: .3f}\")\n",
    "            epoch += 1\n",
    "            \n",
    "        torch.save({\"single_state_dict\": self.net.state_dict()}, self.results_path)"
   ]
  },
  {
   "cell_type": "code",
   "execution_count": 9,
   "metadata": {
    "_cell_guid": "e59ef65f-94d8-4e6d-b48a-3ed7b2eea66a",
    "_uuid": "20e61b81-7322-4a83-b2d1-3f8340b04c96",
    "execution": {
     "iopub.execute_input": "2022-02-28T03:18:53.837121Z",
     "iopub.status.busy": "2022-02-28T03:18:53.836454Z",
     "iopub.status.idle": "2022-02-28T03:19:04.300000Z",
     "shell.execute_reply": "2022-02-28T03:19:04.299263Z",
     "shell.execute_reply.started": "2022-02-28T03:18:53.837088Z"
    },
    "id": "tcRSKyeJW0bj",
    "jupyter": {
     "outputs_hidden": false
    },
    "outputId": "8e75a4f6-fd42-4fe7-c8d6-a64849f67f66",
    "scrolled": true
   },
   "outputs": [],
   "source": [
    "s = Single_Batch(dataloader)\n",
    "s.training()\n",
    "s.plot()"
   ]
  },
  {
   "cell_type": "markdown",
   "metadata": {
    "_cell_guid": "c6466ce2-8dcd-4bf6-ad4a-55f53f1609f7",
    "_uuid": "22d04889-30ab-4e87-807a-aa0ff381a679",
    "id": "4yA2DsAhW0bj"
   },
   "source": [
    "\n",
    "\n",
    "## 1.2 Training on complete dataset [23 marks]\n",
    "\n",
    "### 1.2.1 Train CNN and show loss graph [6 marks]\n",
    "\n",
    "Train your model on the complete training dataset, and use the validation set to determine when to stop training.\n",
    "\n",
    "Display the graph of training and validation loss over epochs to show how you determined the optimal number of training epochs.\n",
    "\n",
    "> As in previous sections, please leave the graph clearly displayed."
   ]
  },
  {
   "cell_type": "code",
   "execution_count": null,
   "metadata": {
    "_cell_guid": "87c820e5-3bbd-451c-aee1-8ca4367b0b9b",
    "_uuid": "d6c66c4f-c061-46eb-90b4-46cd630a83fe",
    "execution": {
     "iopub.status.busy": "2022-02-28T03:22:26.952429Z",
     "iopub.status.idle": "2022-02-28T03:22:26.952851Z",
     "shell.execute_reply": "2022-02-28T03:22:26.952648Z",
     "shell.execute_reply.started": "2022-02-28T03:22:26.952624Z"
    },
    "id": "J9fSJbOSW0bj",
    "jupyter": {
     "outputs_hidden": false
    }
   },
   "outputs": [],
   "source": [
    "# TO COMPLETE\n",
    "class Complete_Dataset(Foundation_Classification):\n",
    "    def __init__(self, dataloader, fig=False):\n",
    "        super().__init__(dataloader)\n",
    "        if not fig:\n",
    "            self.complete_fig_init(lr=0.004)\n",
    "\n",
    "    def complete_fig_init(self, lr=0.001, step_size=3):     \n",
    "        self.net = Simple_CNN().to(device)\n",
    "        self.loss_fn = nn.CrossEntropyLoss().to(device)\n",
    "        self.optimizer = optim.Adam(self.net.parameters(), lr=lr)\n",
    "        self.step_size = step_size\n",
    "        self.scheduler = optim.lr_scheduler.StepLR(self.optimizer, step_size=step_size, gamma=0.5)\n",
    "\n",
    "    def training(self, epoch_max, k_fold=8, total_step=12):\n",
    "\n",
    "        validation_size = int(self.epoch_size / k_fold)\n",
    "        max_scheduler_step = total_step\n",
    "        last_loss = None\n",
    "\n",
    "        for epoch in range(epoch_max):\n",
    "            batch_count = 0\n",
    "            train_loss = 0.0\n",
    "            validation_loss = 0.0\n",
    "            validation_idx1 = (epoch % k_fold) * validation_size\n",
    "            validation_idx2 = ((epoch % k_fold) + 1) * validation_size\n",
    "\n",
    "            for inputs, labels in self.dataloader:\n",
    "                if batch_count < validation_idx1 or batch_count >= validation_idx2:\n",
    "                    loss = self.train(inputs, labels)\n",
    "                    train_loss += loss/ (self.epoch_size - validation_size)\n",
    "                else:\n",
    "                    loss = self.validate(inputs, labels)\n",
    "                    validation_loss += loss/ validation_size\n",
    "                batch_count +=1\n",
    "\n",
    "            if last_loss and last_loss <= train_loss and max_scheduler_step >= 0:\n",
    "                self.scheduler.step()\n",
    "                max_scheduler_step -= 1\n",
    "\n",
    "            last_loss = train_loss\n",
    "\n",
    "            self.stat[\"train_loss\"].append(train_loss)\n",
    "            self.stat[\"validation_loss\"].append(validation_loss)\n",
    "            if epoch % 10 == 0:\n",
    "                print(f\"epoch: {epoch} training loss: {train_loss: .3f} validation loss: {validation_loss: .3f}\")\n",
    "            if round(train_loss,3) == 0:\n",
    "                break\n",
    "            else:\n",
    "                epoch += 1\n",
    "        torch.save({\"state_dict\": self.net.state_dict()}, \"complete\"+self.results_path)"
   ]
  },
  {
   "cell_type": "code",
   "execution_count": null,
   "metadata": {
    "_cell_guid": "10428abe-41c8-40dd-b349-95b27647ba57",
    "_uuid": "79c9c80b-7e5a-4e6e-84da-56ec9e98b134",
    "execution": {
     "iopub.execute_input": "2022-02-28T03:26:27.782033Z",
     "iopub.status.busy": "2022-02-28T03:26:27.781784Z"
    },
    "id": "MbP_z9lPW0bj",
    "jupyter": {
     "outputs_hidden": false
    }
   },
   "outputs": [],
   "source": [
    "c = Complete_Dataset(dataloader)\n",
    "c.training(300)"
   ]
  },
  {
   "cell_type": "code",
   "execution_count": 11,
   "metadata": {
    "_cell_guid": "8154aa95-e7a4-4bb0-bb12-b46a09c2d5b1",
    "_uuid": "6b510143-2889-453a-8a6c-8b66b9842105",
    "execution": {
     "iopub.execute_input": "2022-02-28T01:56:24.200717Z",
     "iopub.status.busy": "2022-02-28T01:56:24.200464Z",
     "iopub.status.idle": "2022-02-28T01:56:24.419364Z",
     "shell.execute_reply": "2022-02-28T01:56:24.418587Z",
     "shell.execute_reply.started": "2022-02-28T01:56:24.200687Z"
    },
    "id": "yKUrIqUYW0bk",
    "jupyter": {
     "outputs_hidden": false
    },
    "outputId": "7766010c-71b8-49f0-faca-42f1bcb82310"
   },
   "outputs": [],
   "source": [
    "c.plot()"
   ]
  },
  {
   "cell_type": "markdown",
   "metadata": {
    "_cell_guid": "a886d75c-d868-4b15-8d82-a081507d1b7f",
    "_uuid": "ee5ed93b-b757-4ab9-b2ce-da4e7472440d",
    "id": "z1AKoQUXW0bk"
   },
   "source": [
    "\n",
    "### 1.2.2 Finetuning [6 marks]\n",
    "\n",
    "Now finetune your architecture by implementing at least 2 methods of reducing overfitting and increasing the model's ability to generalise. You are encouraged to further adjust the model after you have done the minimum requirement, to increase your model performance. Please do not use any pre-trained weights from a model trained on ImageNet."
   ]
  },
  {
   "cell_type": "markdown",
   "metadata": {
    "_cell_guid": "56fab90f-ef3a-46c2-a666-ea66dda8d007",
    "_uuid": "10ba7cff-d3c8-4830-ae68-ef7c10c6f3af",
    "id": "3QpfqOB8W0bk"
   },
   "source": [
    "**Method 1:** Data augmentation of your choice"
   ]
  },
  {
   "cell_type": "markdown",
   "metadata": {
    "_cell_guid": "b180dad8-7b43-471c-a8e1-b1edfe8637ba",
    "_uuid": "3c7ffa13-3f0d-42d4-8e65-89dab61354a7",
    "id": "nSfel3xJW0bk"
   },
   "source": [
    "**Method 2:** Adding dropout and/or batch normalisation to the model"
   ]
  },
  {
   "cell_type": "markdown",
   "metadata": {
    "_cell_guid": "6449175f-211f-49be-aa59-6bd027148c9e",
    "_uuid": "705039f2-e21a-4ec0-9065-2ba591f78b87",
    "id": "lOFVbI1eW0bk"
   },
   "source": [
    "If you adjust the Model class, redefine it below and instantiate it as ```model_122a```, ```model_122b```, and so on."
   ]
  },
  {
   "cell_type": "code",
   "execution_count": 26,
   "metadata": {
    "_cell_guid": "c9d8f4cd-e0e2-4e52-8a36-69cf26542194",
    "_uuid": "61d90eb0-5ead-4b51-b653-139ee9317946",
    "execution": {
     "iopub.execute_input": "2022-02-28T02:09:27.526856Z",
     "iopub.status.busy": "2022-02-28T02:09:27.526587Z",
     "iopub.status.idle": "2022-02-28T02:09:27.542075Z",
     "shell.execute_reply": "2022-02-28T02:09:27.541246Z",
     "shell.execute_reply.started": "2022-02-28T02:09:27.526828Z"
    },
    "id": "33qx0nIJW0bk",
    "jupyter": {
     "outputs_hidden": false
    }
   },
   "outputs": [],
   "source": [
    "# TO COMPLETE\n",
    "class model_122a(nn.Sequential):\n",
    "  def __init__(self):\n",
    "    super().__init__()\n",
    "    layers = [    \n",
    "      nn.Conv2d(in_channels=3,out_channels=32, kernel_size=3),    \n",
    "      nn.ReLU(),\n",
    "      nn.Conv2d(in_channels=32,out_channels=32, kernel_size=3),\n",
    "      nn.ReLU(),\n",
    "      nn.MaxPool2d(kernel_size=2, stride=2),\n",
    "      nn.Conv2d(in_channels=32,out_channels=64, kernel_size=3),    \n",
    "      nn.ReLU(),\n",
    "      nn.Conv2d(in_channels=64,out_channels=64, kernel_size=3),\n",
    "      nn.ReLU(),\n",
    "      nn.MaxPool2d(kernel_size=2, stride=2),\n",
    "      nn.Flatten(),\n",
    "#       nn.Dropout(p=0.25),\n",
    "      nn.Linear(64*13*13,512),\n",
    "      nn.ReLU(),\n",
    "      nn.Dropout(p=0.25),\n",
    "      nn.Linear(512,30),\n",
    "      nn.LogSoftmax(dim=1)\n",
    "    ]\n",
    "    for idx, module in enumerate(layers):\n",
    "      self.add_module(str(idx), module)\n",
    "\n",
    "    \n",
    "class model_122b(nn.Sequential):\n",
    "  def __init__(self):\n",
    "    super().__init__()\n",
    "    layers = [    \n",
    "      nn.Conv2d(in_channels=3,out_channels=64, kernel_size=5),    \n",
    "      nn.ReLU(),\n",
    "      nn.Conv2d(in_channels=64,out_channels=64, kernel_size=5),\n",
    "      nn.ReLU(),\n",
    "      nn.MaxPool2d(kernel_size=2, stride=2),\n",
    "      nn.Conv2d(in_channels=64,out_channels=64, kernel_size=3),\n",
    "      nn.ReLU(),\n",
    "      nn.Conv2d(in_channels=64,out_channels=64, kernel_size=3),\n",
    "      nn.ReLU(),\n",
    "      nn.Conv2d(in_channels=64,out_channels=64, kernel_size=3),\n",
    "      nn.ReLU(),\n",
    "      nn.MaxPool2d(kernel_size=2, stride=2),\n",
    "      nn.Conv2d(in_channels=64,out_channels=128, kernel_size=3),\n",
    "      nn.ReLU(),\n",
    "      nn.Flatten(),\n",
    "      nn.Linear(128*9*9,256),\n",
    "      nn.ReLU(),\n",
    "      nn.Dropout(0.5),\n",
    "      nn.Linear(256,256),\n",
    "      nn.ReLU(),\n",
    "      nn.Dropout(0.5),\n",
    "      nn.Linear(256,30),\n",
    "      nn.LogSoftmax(dim=1)\n",
    "    ]\n",
    "    for idx, module in enumerate(layers):\n",
    "      self.add_module(str(idx), module)"
   ]
  },
  {
   "cell_type": "code",
   "execution_count": 27,
   "metadata": {
    "_cell_guid": "4e9cdc6d-2695-49b0-a3ce-bc544b64cc15",
    "_uuid": "25607664-35ff-40e5-8f83-7618c0e7193e",
    "execution": {
     "iopub.execute_input": "2022-02-28T02:10:37.679552Z",
     "iopub.status.busy": "2022-02-28T02:10:37.679010Z",
     "iopub.status.idle": "2022-02-28T02:10:37.686140Z",
     "shell.execute_reply": "2022-02-28T02:10:37.685185Z",
     "shell.execute_reply.started": "2022-02-28T02:10:37.679515Z"
    },
    "id": "PnsgrWiBW0bl",
    "jupyter": {
     "outputs_hidden": false
    }
   },
   "outputs": [],
   "source": [
    "class Fine_tune(Complete_Dataset):\n",
    "    def __init__(self, dataloader):\n",
    "        super().__init__(dataloader, fig=True)\n",
    "        self.fine_fig_init()\n",
    "\n",
    "    def fine_fig_init(self, lr=0.002, step_size=50):     \n",
    "        self.net = model_122a().to(device)\n",
    "        self.loss_fn = nn.CrossEntropyLoss().to(device)\n",
    "        self.optimizer = optim.Adam(self.net.parameters(), lr=lr)\n",
    "        self.step_size = step_size\n",
    "        self.scheduler = optim.lr_scheduler.StepLR(self.optimizer, step_size=step_size, gamma=0.5)"
   ]
  },
  {
   "cell_type": "code",
   "execution_count": null,
   "metadata": {
    "_cell_guid": "60bb7886-4732-4463-8d54-a4c7ff5cba75",
    "_uuid": "9373bd35-8002-47d3-96b6-d0e25a89ac21",
    "execution": {
     "iopub.execute_input": "2022-02-28T02:18:17.974622Z",
     "iopub.status.busy": "2022-02-28T02:18:17.974061Z"
    },
    "id": "TzoBVJgjW0bl",
    "jupyter": {
     "outputs_hidden": false
    },
    "outputId": "bc3adfa7-1432-48c9-e73f-8d0fcdb7e16d"
   },
   "outputs": [],
   "source": [
    "f_transforms = transforms.Compose([\n",
    "      transforms.ColorJitter(hue=0.2, saturation=0.2, brightness=0.2),\n",
    "      transforms.RandomRotation(degrees=180),\n",
    "      transforms.ToTensor()\n",
    "    ])\n",
    "f_dataset = ImageFolder(root=\"../input/something/train_set/train_set\", transform=f_transforms)\n",
    "f_dataloader = DataLoader(f_dataset, batch_size=64, shuffle=True)\n",
    "f = Fine_tune(f_dataloader)\n",
    "f.training(400, total_step=150)"
   ]
  },
  {
   "cell_type": "code",
   "execution_count": null,
   "metadata": {
    "_cell_guid": "66e5a29e-ae0a-4d18-b586-e53db13f6335",
    "_uuid": "8c7ef481-5aee-4dcb-bccf-280989a34dc8",
    "id": "IOQeDkcsW0bl",
    "jupyter": {
     "outputs_hidden": false
    }
   },
   "outputs": [],
   "source": [
    "# instantiate your new Model class\n",
    "# model_122\n",
    "f.plot()"
   ]
  },
  {
   "cell_type": "markdown",
   "metadata": {
    "_cell_guid": "8640447f-332d-40e4-a1db-154b4509ddea",
    "_uuid": "a73b94c3-742d-41a6-b710-b50bfd870ed4",
    "id": "32ScB8PFW0bl"
   },
   "source": [
    "\n",
    "### 1.2.3 Training comparison [4 marks]\n",
    "\n",
    "Display, side-by-side or on one single graph, the training and validation loss graphs for the single-batch training (section 1.1.3), on the full training set (1.2.1) and your final fine-tuned model (1.2.2)."
   ]
  },
  {
   "cell_type": "code",
   "execution_count": null,
   "metadata": {
    "_cell_guid": "067b42b1-3812-4db2-8f68-e9ecabf025f0",
    "_uuid": "7d69c418-7cf3-47f9-90c8-575b8622612c",
    "execution": {
     "iopub.execute_input": "2022-02-27T23:27:09.675549Z",
     "iopub.status.busy": "2022-02-27T23:27:09.675233Z",
     "iopub.status.idle": "2022-02-27T23:27:09.683727Z",
     "shell.execute_reply": "2022-02-27T23:27:09.682791Z",
     "shell.execute_reply.started": "2022-02-27T23:27:09.675517Z"
    },
    "id": "qLBiPDhwW0bl",
    "jupyter": {
     "outputs_hidden": false
    }
   },
   "outputs": [],
   "source": [
    "def plot_comparsison(s, c, f):\n",
    "    fig, axs = plt.subplots(3, sharex=True, sharey=True)\n",
    "\n",
    "    plt.title('training comparision')\n",
    "    plt.xlabel('epoch')\n",
    "    plt.ylabel('loss')\n",
    "    axs[0].plot(s.stat[\"train_loss\"], 'r', label = 'training loss')\n",
    "    axs[0].plot(s.stat[\"validation_loss\"], 'b', label = 'validation_loss')\n",
    "\n",
    "    axs[1].plot(c.stat[\"train_loss\"], 'r', label = 'training loss')\n",
    "    axs[1].plot(c.stat[\"validation_loss\"], 'b', label = 'validation_loss')\n",
    "\n",
    "    axs[2].plot(f.stat[\"train_loss\"], 'r', label = 'training loss')\n",
    "    axs[2].plot(f.stat[\"validation_loss\"], 'b', label = 'validation_loss')\n",
    "\n",
    "    plt.plot()"
   ]
  },
  {
   "cell_type": "code",
   "execution_count": null,
   "metadata": {
    "_cell_guid": "c271ae09-43e1-4646-941d-e1446de91282",
    "_uuid": "8f881a4f-cf2d-4581-a0b2-8a908a31d037",
    "execution": {
     "iopub.execute_input": "2022-02-27T23:27:11.759487Z",
     "iopub.status.busy": "2022-02-27T23:27:11.759124Z",
     "iopub.status.idle": "2022-02-27T23:27:11.776740Z",
     "shell.execute_reply": "2022-02-27T23:27:11.775849Z",
     "shell.execute_reply.started": "2022-02-27T23:27:11.759453Z"
    },
    "id": "EAxEgSDTW0bl",
    "jupyter": {
     "outputs_hidden": false
    },
    "outputId": "85931b75-f564-442a-e478-885f03c6c131"
   },
   "outputs": [],
   "source": [
    "plot_comparsison(s, c, f)"
   ]
  },
  {
   "cell_type": "markdown",
   "metadata": {
    "_cell_guid": "8ddf7664-e613-4cdb-9f7c-e71d942f6958",
    "_uuid": "9020868d-fb8b-48e4-8a95-930f63e98c7b",
    "id": "VXX8UHi9W0bm"
   },
   "source": [
    "In the single batch training, the validation loss goes the opposite direction as the training loss reach zero in the relatively short amount of epoch taken.\n",
    "\n",
    "\n",
    "While using the complete dataset, the validation loss has similar trends with the corresponding training loss. Nevertheless, there is a shape reduction in both loss curves in the early stage of the training process.\n",
    "\n",
    "\n",
    "With the implementation of finetuning, the training loss and validation loss go down with a smoother curve. In contrast, those two loss curves do not reach zero and fluctuate at a float number close to zero."
   ]
  },
  {
   "cell_type": "markdown",
   "metadata": {
    "_cell_guid": "a01c898b-883b-42fb-953a-5f7dcfb8b133",
    "_uuid": "6bcbe9de-1393-482d-95cd-14731c3e4a14",
    "id": "61XYAMVjW0bm"
   },
   "source": [
    "\n",
    "### 1.2.4 Confusion matrices [7 marks]\n",
    "\n",
    "Use your architecture with best accuracy to generate two confusion matrices, one for the training set and one for the validation set. Remember to use the whole validation and training sets, and to include all your relevant code. Display the confusion matrices in a meaningful way which clearly indicates what percentage of the data is represented in each position."
   ]
  },
  {
   "cell_type": "code",
   "execution_count": 18,
   "metadata": {
    "_cell_guid": "fbb64248-697b-497a-911f-2dc41f2098cb",
    "_uuid": "0db422c7-222d-48b2-ae85-3d8637939e47",
    "execution": {
     "iopub.execute_input": "2022-02-28T02:06:13.472144Z",
     "iopub.status.busy": "2022-02-28T02:06:13.471869Z",
     "iopub.status.idle": "2022-02-28T02:06:30.705040Z",
     "shell.execute_reply": "2022-02-28T02:06:30.704007Z",
     "shell.execute_reply.started": "2022-02-28T02:06:13.472095Z"
    },
    "id": "1WQEPddsW0bm",
    "jupyter": {
     "outputs_hidden": false
    }
   },
   "outputs": [],
   "source": [
    "# TO COMPLETE\n",
    "def plot_conf(model, dataloader, figsize=(25,10), train=True) :\n",
    "    validation_batch = int(211 * (1 - 0.2))\n",
    "    train_pred = np.array([])\n",
    "    train_true = np.array([])\n",
    "    validation_pred = np.array([])\n",
    "    validation_true = np.array([])\n",
    "    batch_count = 0\n",
    "    with torch.no_grad():\n",
    "        for inputs, labels in dataloader:\n",
    "            outputs = model.net(inputs.to(device)).to(torch.device(\"cpu\"))\n",
    "            _, pred = torch.max(outputs.data, 1)\n",
    "            if batch_count <= validation_batch:\n",
    "                train_pred = np.append(train_pred, pred)\n",
    "                train_true = np.append(train_true, labels)\n",
    "            else:\n",
    "                validation_pred = np.append(validation_pred, pred)\n",
    "                validation_true = np.append(validation_true, labels)\n",
    "            batch_count +=1\n",
    "    \n",
    "    if train:\n",
    "        cm = confusion_matrix(train_true, train_pred)\n",
    "        cm = cm / (model.batch_size * validation_batch) * 100\n",
    "        fig_name = \"training\"\n",
    "    else:\n",
    "        cm = confusion_matrix(validation_true, validation_pred)        \n",
    "        cm = cm / (model.batch_size * (211 - validation_batch)) * 100\n",
    "        fig_name = \"validation\"\n",
    "        \n",
    "    fig, ax = plt.subplots(figsize=figsize)         # Sample figsize in inches\n",
    "    fig.suptitle(fig_name + \" confusion matrix percentage\")\n",
    "    f = sns.heatmap(cm, annot=True, linewidths=.5, ax=ax)\n",
    "\n",
    "plot_conf(c, dataloader, train=True)"
   ]
  },
  {
   "cell_type": "code",
   "execution_count": 19,
   "metadata": {
    "_cell_guid": "e54b7c32-024c-436c-bf86-42b76b81c134",
    "_uuid": "59db5e24-b7fd-4d63-ba44-f6ce1d4e388d",
    "execution": {
     "iopub.execute_input": "2022-02-28T02:06:30.707496Z",
     "iopub.status.busy": "2022-02-28T02:06:30.706675Z",
     "iopub.status.idle": "2022-02-28T02:06:48.517600Z",
     "shell.execute_reply": "2022-02-28T02:06:48.516591Z",
     "shell.execute_reply.started": "2022-02-28T02:06:30.707449Z"
    },
    "id": "N6dcqksQW0bm",
    "jupyter": {
     "outputs_hidden": false
    },
    "outputId": "f359bf62-0bb7-40cb-d59f-a975b40367ca"
   },
   "outputs": [],
   "source": [
    "plot_conf(c, dataloader, train=False)"
   ]
  },
  {
   "cell_type": "markdown",
   "metadata": {
    "_cell_guid": "7070ff0a-a992-4f27-a19d-d80c5db7b52f",
    "_uuid": "ede54b12-0714-4f72-b4fc-a3b7fcea1148",
    "id": "elOrOU8gW0bm"
   },
   "source": [
    "What conclusions can be drawn from the confusion matrices?"
   ]
  },
  {
   "cell_type": "markdown",
   "metadata": {
    "_cell_guid": "88570800-0ef1-429e-b11f-f45e3b659cb8",
    "_uuid": "49a464a1-3615-4acf-820c-5af4b7c9c85a",
    "id": "DS8a9iyDW0bm"
   },
   "source": [
    "The architecture used in the graph is already reached zero in both training and validation loss. In addition, I use cross-validation to split the train and validation set. In this case, nearly all the inputs are corrected except for the only one image in training has been misclassify. As a result, the confusion matrix can only show the distribution of the image classes. The confusion matrix is shown as an identity matrix with main diagonal filled with non-zero attributes while others are zero."
   ]
  },
  {
   "cell_type": "markdown",
   "metadata": {
    "_cell_guid": "c7335eb2-5c2c-4a87-884d-87aae641b0af",
    "_uuid": "3cb8cc81-ab3d-45ab-94e9-1e63c7026003",
    "id": "LXFWH_KPW0bm"
   },
   "source": [
    "\n",
    "\n",
    "## 1.3 Testing on test data [18 marks]\n",
    "\n",
    "### 1.3.1 Dataset and generating predictions [6 marks]\n",
    "\n",
    "Create a PyTorch ```Dataset``` for the unlabeled test data in the test_set folder of the Kaggle competition and generate predictions using your final model."
   ]
  },
  {
   "cell_type": "code",
   "execution_count": null,
   "metadata": {
    "_cell_guid": "fb25bfa0-8038-4667-bdd9-dce0e117ead3",
    "_uuid": "8746a93d-92d6-4e64-b991-55633faeea7a",
    "id": "HNktSeKQW0bn",
    "jupyter": {
     "outputs_hidden": false
    }
   },
   "outputs": [],
   "source": [
    "# TO COMPLETE"
   ]
  },
  {
   "cell_type": "code",
   "execution_count": 22,
   "metadata": {
    "_cell_guid": "e70d5110-4340-4d93-a2f8-fcbe6c17318c",
    "_uuid": "f7814f54-f5b4-49f8-b5ad-39d920867e88",
    "execution": {
     "iopub.execute_input": "2022-02-28T02:07:13.784291Z",
     "iopub.status.busy": "2022-02-28T02:07:13.783999Z",
     "iopub.status.idle": "2022-02-28T02:07:13.793169Z",
     "shell.execute_reply": "2022-02-28T02:07:13.792303Z",
     "shell.execute_reply.started": "2022-02-28T02:07:13.784253Z"
    },
    "id": "jTOZAvhlW0bn",
    "jupyter": {
     "outputs_hidden": false
    }
   },
   "outputs": [],
   "source": [
    "class Test_Dataset(Dataset):\n",
    "    def __init__(self, main_dir, transform):\n",
    "        self.main_dir = main_dir\n",
    "        self.transform = transform\n",
    "        all_imgs = os.listdir(main_dir)\n",
    "        self.total_imgs = natsorted(all_imgs)\n",
    "\n",
    "    def __len__(self):\n",
    "        return len(self.total_imgs)\n",
    "\n",
    "    def __getitem__(self, idx):\n",
    "        img_loc = os.path.join(self.main_dir, self.total_imgs[idx])\n",
    "\n",
    "        image = Image.open(img_loc).convert(\"RGB\")\n",
    "        id = self.total_imgs[idx]\n",
    "        tensor_image = self.transform(image)\n",
    "        return tensor_image, self.total_imgs[idx]"
   ]
  },
  {
   "cell_type": "code",
   "execution_count": 23,
   "metadata": {
    "_cell_guid": "ca2b9fbf-627b-4b54-a448-41215b7279ad",
    "_uuid": "a8ccd469-8515-4e02-9aa1-ff6f79bec84f",
    "execution": {
     "iopub.execute_input": "2022-02-28T02:07:15.802637Z",
     "iopub.status.busy": "2022-02-28T02:07:15.802385Z",
     "iopub.status.idle": "2022-02-28T02:07:16.060677Z",
     "shell.execute_reply": "2022-02-28T02:07:16.059897Z",
     "shell.execute_reply.started": "2022-02-28T02:07:15.802609Z"
    },
    "id": "0cy_f5XfW0bn",
    "jupyter": {
     "outputs_hidden": false
    }
   },
   "outputs": [],
   "source": [
    "test_dataset = Test_Dataset(\"../input/something/test_set/test_set\", transform=transforms.ToTensor())\n",
    "test_dataloader = DataLoader(test_dataset)"
   ]
  },
  {
   "cell_type": "markdown",
   "metadata": {
    "_cell_guid": "96aaea53-ade0-478c-b1ae-43e8d150dcf8",
    "_uuid": "c8342a19-8d11-482d-9571-8ff0a732d136",
    "id": "ACX_XSfDW0bn"
   },
   "source": [
    "\n",
    "### 1.3.2 CSV file and test set accuracy [12 marks]\n",
    "\n",
    "Save all test predictions to a CSV file and submit it to the private class Kaggle competition. **Please save your test CSV file submissions using your student username (the one with letters, ie., ``sc15jb``, not the ID with only numbers)**, for example, `sc15jb.csv`. That will help us to identify your submissions.\n",
    "\n",
    "The CSV file must contain only two columns: ‘Id’ and ‘Category’ (predicted class ID) as shown below:\n",
    "\n",
    "```txt\n",
    "Id,Category\n",
    "28d0f5e9_373c.JPEG,2\n",
    "bbe4895f_40bf.JPEG,18\n",
    "```\n",
    "\n",
    "The ‘Id’ column should include the name of the image. It is important to keep the same name as the one on the test set. Do not include any path, just the name of file (with extension). Your csv file must contain 1501 rows, one for each image on test set and 1 row for the headers.\n",
    "\n",
    "> You may submit multiple times. We will use your personal top entry for allocating marks for this [10 marks]. The class leaderboard will not affect marking (brownie points!)."
   ]
  },
  {
   "cell_type": "code",
   "execution_count": 20,
   "metadata": {
    "_cell_guid": "6b8c8f93-1dbd-4ca5-a62d-90ba95274324",
    "_uuid": "9f233a16-a25f-4834-8029-d334a14e0159",
    "execution": {
     "iopub.execute_input": "2022-02-28T02:07:07.283749Z",
     "iopub.status.busy": "2022-02-28T02:07:07.283489Z",
     "iopub.status.idle": "2022-02-28T02:07:07.287585Z",
     "shell.execute_reply": "2022-02-28T02:07:07.286495Z",
     "shell.execute_reply.started": "2022-02-28T02:07:07.283721Z"
    },
    "id": "HmN8ca3JW0bn",
    "jupyter": {
     "outputs_hidden": false
    }
   },
   "outputs": [],
   "source": [
    "# TO COMPLETE\n",
    "import csv"
   ]
  },
  {
   "cell_type": "code",
   "execution_count": 24,
   "metadata": {
    "_cell_guid": "98c7881f-7d58-42ae-be1b-541c1d327cb9",
    "_uuid": "0e717d85-2ebc-449a-8e79-7e541b699384",
    "execution": {
     "iopub.execute_input": "2022-02-28T02:07:19.247672Z",
     "iopub.status.busy": "2022-02-28T02:07:19.247003Z",
     "iopub.status.idle": "2022-02-28T02:07:19.252421Z",
     "shell.execute_reply": "2022-02-28T02:07:19.251713Z",
     "shell.execute_reply.started": "2022-02-28T02:07:19.247635Z"
    },
    "id": "wHEASjUKW0bn",
    "jupyter": {
     "outputs_hidden": false
    }
   },
   "outputs": [],
   "source": [
    "def test(model, dataloader):\n",
    "    with open(\"sc212zw.csv\", \"w\") as output_file:\n",
    "        output_writer = csv.writer(output_file)\n",
    "        output_writer.writerow([\"Id\",\"Category\"])\n",
    "\n",
    "        for test_inputs, test_id in dataloader:\n",
    "            tets_output = model.predict(test_inputs)\n",
    "            output_writer.writerow([test_id[0], tets_output])"
   ]
  },
  {
   "cell_type": "code",
   "execution_count": 25,
   "metadata": {
    "_cell_guid": "859b1486-6864-439f-8b5d-996234ec3536",
    "_uuid": "fedcf9d3-69f8-4c9e-8392-46236665ec79",
    "execution": {
     "iopub.execute_input": "2022-02-28T02:07:21.385672Z",
     "iopub.status.busy": "2022-02-28T02:07:21.385065Z",
     "iopub.status.idle": "2022-02-28T02:07:29.265228Z",
     "shell.execute_reply": "2022-02-28T02:07:29.264492Z",
     "shell.execute_reply.started": "2022-02-28T02:07:21.385623Z"
    },
    "id": "RuHooT2QW0bn",
    "jupyter": {
     "outputs_hidden": false
    }
   },
   "outputs": [],
   "source": [
    "test(c, test_dataloader)"
   ]
  },
  {
   "cell_type": "markdown",
   "metadata": {
    "_cell_guid": "ab62f849-7d74-4a99-abd1-c5c7d9b0213e",
    "_uuid": "298886b4-8aeb-4f81-8c9b-67aa6d42077b",
    "id": "C_sR8Gc04CJ2"
   },
   "source": [
    "\n",
    "\n",
    "## QUESTION 2 [40 marks]\n",
    "\n",
    "\n",
    "\n",
    "In this question, you will visualize the filters and feature maps of a fully-trained CNN (AlexNet) on the full ImageNet 2012 dataset.\n",
    "\n",
    "> Please do not alter the name of the function or the number and type of its arguments and return values, otherwise the automatic grading function will not work correctly. You are welcome to import other modules (though the simplest solution only requires the ones below)."
   ]
  },
  {
   "cell_type": "markdown",
   "metadata": {
    "_cell_guid": "180e4b85-c2a1-4ccb-9fc6-6c236be53d2c",
    "_uuid": "d7a0d031-c19f-42fb-9502-cb6a3562b5aa",
    "id": "r-HIUgQ-HK8Y"
   },
   "source": [
    "### **Overview:**\n",
    "*   **2.1.1** Extract filters from model: ``fetch_filters(layer_idx, model)``\n",
    "*   **2.2.1** Load test image\n",
    "*   **2.2.2** Extract feature maps for given test image: ``fetch_feature_maps(image, model)``\n",
    "*   **2.2.3** Display feature maps\n",
    "*   **2.3.1** Generate Grad-CAM heatmaps: ``generate_heatmap(output, class_id, model, image)``\n",
    "*   **2.3.2** Display heatmaps: add code to cell\n",
    "*   **2.3.3** Generate heatmaps for failure analysis"
   ]
  },
  {
   "cell_type": "markdown",
   "metadata": {
    "_cell_guid": "84cbae5a-554d-4bb5-a06b-1666068f370f",
    "_uuid": "8b14d644-1647-4e8e-bbb0-d4ad6a00be3b",
    "id": "-gYdjXng4CJ5"
   },
   "source": [
    "### Loading a pre-trained model\n",
    "\n",
    "Run the cell below to load an AlexNet model with pre-trained weights."
   ]
  },
  {
   "cell_type": "code",
   "execution_count": 4,
   "metadata": {
    "_cell_guid": "1d961a36-9c38-4fa0-b846-8f2f61912029",
    "_uuid": "3608fcd6-6cb5-4129-83b2-863724d8c572",
    "execution": {
     "iopub.execute_input": "2022-02-28T01:25:07.994434Z",
     "iopub.status.busy": "2022-02-28T01:25:07.994054Z",
     "iopub.status.idle": "2022-02-28T01:25:15.798869Z",
     "shell.execute_reply": "2022-02-28T01:25:15.797971Z",
     "shell.execute_reply.started": "2022-02-28T01:25:07.994393Z"
    },
    "id": "ik9dzD4S4CJ6",
    "jupyter": {
     "outputs_hidden": false
    },
    "outputId": "e5173823-4d22-43f5-9b4c-ae0e18930429"
   },
   "outputs": [],
   "source": [
    "model = torch.hub.load('pytorch/vision:v0.6.0', 'alexnet', pretrained=True)\n",
    "model.eval()"
   ]
  },
  {
   "cell_type": "code",
   "execution_count": 5,
   "metadata": {
    "_cell_guid": "39ab30ed-52ae-4ed1-8e92-172748a117f7",
    "_uuid": "36b744d0-8da6-437a-8686-0dfabe526d58",
    "execution": {
     "iopub.execute_input": "2022-02-28T01:25:18.042802Z",
     "iopub.status.busy": "2022-02-28T01:25:18.042347Z",
     "iopub.status.idle": "2022-02-28T01:25:18.051056Z",
     "shell.execute_reply": "2022-02-28T01:25:18.050042Z",
     "shell.execute_reply.started": "2022-02-28T01:25:18.042759Z"
    },
    "id": "JL8i4VrlW0bo",
    "jupyter": {
     "outputs_hidden": false
    },
    "outputId": "38cf5112-d76a-4df3-81c3-9effe0eee100"
   },
   "outputs": [],
   "source": [
    "model.features"
   ]
  },
  {
   "cell_type": "code",
   "execution_count": 6,
   "metadata": {
    "_cell_guid": "2e8c33e5-049f-433a-a6f5-885ec737b364",
    "_uuid": "984c5aef-1d63-4a0e-bdfc-dc70afb4139a",
    "execution": {
     "iopub.execute_input": "2022-02-28T01:25:20.578985Z",
     "iopub.status.busy": "2022-02-28T01:25:20.578437Z",
     "iopub.status.idle": "2022-02-28T01:25:20.585557Z",
     "shell.execute_reply": "2022-02-28T01:25:20.584543Z",
     "shell.execute_reply.started": "2022-02-28T01:25:20.578927Z"
    },
    "id": "NP5pqV1MW0bp",
    "jupyter": {
     "outputs_hidden": false
    },
    "outputId": "2c48d190-7f71-4b39-ccdf-9a6b9a93b492"
   },
   "outputs": [],
   "source": [
    "model.features[0]"
   ]
  },
  {
   "cell_type": "code",
   "execution_count": 7,
   "metadata": {
    "_cell_guid": "697c22b5-7428-4d08-9885-98ff4495b124",
    "_uuid": "a2a00472-b578-46be-99ab-7bd3a12a66a3",
    "execution": {
     "iopub.execute_input": "2022-02-28T01:25:22.676262Z",
     "iopub.status.busy": "2022-02-28T01:25:22.675081Z",
     "iopub.status.idle": "2022-02-28T01:25:22.683893Z",
     "shell.execute_reply": "2022-02-28T01:25:22.682810Z",
     "shell.execute_reply.started": "2022-02-28T01:25:22.676202Z"
    },
    "id": "-KNuCmNRW0bp",
    "jupyter": {
     "outputs_hidden": false
    },
    "outputId": "5c6b81bf-0afd-4b32-a150-3d53ec9cf65b"
   },
   "outputs": [],
   "source": [
    "model.features[0].weight.shape"
   ]
  },
  {
   "cell_type": "markdown",
   "metadata": {
    "_cell_guid": "31a552d7-3dfc-451a-9dc0-c2decdc05a4f",
    "_uuid": "95e9855a-0067-4096-9fcc-db36f209ca5b",
    "id": "GXzlLbstCE7f"
   },
   "source": [
    "\n",
    "## 2.1 Extract and visualize the filters [6 marks]\n",
    "\n",
    "In this section you will extract and visualize the filters from the pre-trained AlexNet."
   ]
  },
  {
   "cell_type": "markdown",
   "metadata": {
    "_cell_guid": "bc2f1ce6-4ce7-460f-9d83-dec1b3969472",
    "_uuid": "a61e35c9-1be3-49a3-8682-d5a0e4393438",
    "id": "_vOrqr2J4CJ7"
   },
   "source": [
    "### 2.1.1 Extract filters [4 marks]\n",
    "\n",
    "Complete the following function ```fetch_filters``` to return all the filters from the convolutional layers at the given index in ```model.features``` (see printed model above for reference). \n",
    "\n",
    "\n",
    "\n",
    "\n",
    "\n",
    "> We will not test the behaviour of your function using invalid indices."
   ]
  },
  {
   "cell_type": "code",
   "execution_count": 8,
   "metadata": {
    "_cell_guid": "fb7aa022-0e68-4dce-8d5b-cd255d4d6a33",
    "_uuid": "0c6713d2-709b-4145-b386-4f4362ea7247",
    "execution": {
     "iopub.execute_input": "2022-02-28T01:25:25.163358Z",
     "iopub.status.busy": "2022-02-28T01:25:25.162390Z",
     "iopub.status.idle": "2022-02-28T01:25:25.169382Z",
     "shell.execute_reply": "2022-02-28T01:25:25.168108Z",
     "shell.execute_reply.started": "2022-02-28T01:25:25.163285Z"
    },
    "id": "sdbDXckn4CJ8",
    "jupyter": {
     "outputs_hidden": false
    }
   },
   "outputs": [],
   "source": [
    "def fetch_filters(layer_idx, model):\n",
    "    \"\"\" \n",
    "        Args:\n",
    "            layer_idx (int): the index of model.features specifying which conv layer\n",
    "            model (AlexNet): PyTorch AlexNet object\n",
    "        Return:\n",
    "            filters (Tensor):      \n",
    "    \"\"\"\n",
    "    # TO COMPLETE\n",
    "    # return filters\n",
    "    return model.features[layer_idx].weight"
   ]
  },
  {
   "cell_type": "code",
   "execution_count": 9,
   "metadata": {
    "_cell_guid": "d095e54a-59b8-40e6-af63-00e3cec3017c",
    "_uuid": "f11cb376-000a-4225-af4c-ba000b424ec4",
    "execution": {
     "iopub.execute_input": "2022-02-28T01:25:27.515141Z",
     "iopub.status.busy": "2022-02-28T01:25:27.512405Z",
     "iopub.status.idle": "2022-02-28T01:25:27.522066Z",
     "shell.execute_reply": "2022-02-28T01:25:27.520933Z",
     "shell.execute_reply.started": "2022-02-28T01:25:27.515025Z"
    },
    "id": "HNxPI5y-4CJ8",
    "jupyter": {
     "outputs_hidden": false
    }
   },
   "outputs": [],
   "source": [
    "# all the indices of the conv layers\n",
    "conv_layer_idx = [0, 3, 6, 8, 10]\n",
    "\n",
    "filters = []\n",
    "\n",
    "for layer_idx in conv_layer_idx:\n",
    "    filters.append(fetch_filters(layer_idx, model))"
   ]
  },
  {
   "cell_type": "markdown",
   "metadata": {
    "_cell_guid": "8177469a-b9c6-4908-8cb5-e6ca7aa27f94",
    "_uuid": "7d826766-3353-47a1-8968-b0cd28e01bb8",
    "id": "PWSpX94c4CKD"
   },
   "source": [
    "For your testing purposes, the following code blocks test the dimensions of the function output."
   ]
  },
  {
   "cell_type": "code",
   "execution_count": 10,
   "metadata": {
    "_cell_guid": "64fcb83f-f49d-4a46-bd8f-173049ad779e",
    "_uuid": "9ad431f2-9060-459a-ab80-9bc4767aeccc",
    "execution": {
     "iopub.execute_input": "2022-02-28T01:25:30.026979Z",
     "iopub.status.busy": "2022-02-28T01:25:30.025563Z",
     "iopub.status.idle": "2022-02-28T01:25:30.035773Z",
     "shell.execute_reply": "2022-02-28T01:25:30.034899Z",
     "shell.execute_reply.started": "2022-02-28T01:25:30.026902Z"
    },
    "id": "TXeQtKkK4CKE",
    "jupyter": {
     "outputs_hidden": false
    },
    "outputId": "35ce6aa7-bd58-4498-f441-2b08a7c9c621"
   },
   "outputs": [],
   "source": [
    "filters[0].shape"
   ]
  },
  {
   "cell_type": "code",
   "execution_count": 11,
   "metadata": {
    "_cell_guid": "1e682da7-2012-4db5-ba68-4068c6dd312d",
    "_uuid": "90a015d1-ad49-4b5c-93a6-7a265fdcfb19",
    "execution": {
     "iopub.execute_input": "2022-02-28T01:25:32.113904Z",
     "iopub.status.busy": "2022-02-28T01:25:32.112703Z",
     "iopub.status.idle": "2022-02-28T01:25:32.119743Z",
     "shell.execute_reply": "2022-02-28T01:25:32.118571Z",
     "shell.execute_reply.started": "2022-02-28T01:25:32.113849Z"
    },
    "id": "QZnC8Eth4CKF",
    "jupyter": {
     "outputs_hidden": false
    }
   },
   "outputs": [],
   "source": [
    "assert list(filters[0].shape) == [64, 3, 11, 11]"
   ]
  },
  {
   "cell_type": "markdown",
   "metadata": {
    "_cell_guid": "3fd11c3c-dbf8-415d-b0c5-a46a1be09739",
    "_uuid": "7d8cdae5-0112-40cf-af60-b0dfe003ac2b",
    "id": "ECx7Ktsg4CKG"
   },
   "source": [
    "\n",
    "\n",
    "### 2.1.2 Display filters [2 marks]\n",
    "\n",
    "The following code will visualize some of the filters from each layer. Play around with viewing filters at different depths into the network. Note that ```filters[0]``` could be viewed in colour if you prefer, whereas the subsequent layers must be viewed one channel at a time in grayscale."
   ]
  },
  {
   "cell_type": "code",
   "execution_count": null,
   "metadata": {
    "_cell_guid": "e640c577-a5bd-4aa8-807f-2f11dc6cd329",
    "_uuid": "e016be8d-cf64-415a-be0b-c32bbec388d6",
    "execution": {
     "iopub.execute_input": "2022-02-27T23:17:23.544010Z",
     "iopub.status.busy": "2022-02-27T23:17:23.543552Z",
     "iopub.status.idle": "2022-02-27T23:17:24.016413Z",
     "shell.execute_reply": "2022-02-27T23:17:24.015743Z",
     "shell.execute_reply.started": "2022-02-27T23:17:23.543972Z"
    },
    "id": "7K6N3ThU4CKG",
    "jupyter": {
     "outputs_hidden": false
    },
    "outputId": "6c9417c4-98a7-4219-9ca0-10f7765faf9d"
   },
   "outputs": [],
   "source": [
    "# limit how many filters to show\n",
    "to_show = 16\n",
    "\n",
    "# compute the dimensions of the plot\n",
    "plt_dim = int(math.sqrt(to_show))\n",
    "\n",
    "# plot the first channel of each filter in a grid\n",
    "for i, filt in enumerate(filters[0].detach().numpy()[:to_show]):\n",
    "    plt.subplot(plt_dim, plt_dim, i+1)\n",
    "    plt.imshow(filt[0], cmap=\"gray\")\n",
    "    plt.axis('off')\n",
    "plt.show()"
   ]
  },
  {
   "cell_type": "markdown",
   "metadata": {
    "_cell_guid": "7979ab21-1575-45eb-a247-2b03703a0fe6",
    "_uuid": "1002f1b2-dd77-41e4-8acb-f09da4cc0cb5",
    "id": "yCJF9IIF4CKI"
   },
   "source": [
    "\n",
    "\n",
    "## 2.2 Extract and visualize feature maps [10 marks]\n",
    "\n",
    "In this section, you will pass a test image through the AlexNet and extract and visualize the resulting convolutional layer feature maps.\n",
    "\n",
    "Complete the following code cell to load the test image ```man_bike.JPEG```."
   ]
  },
  {
   "cell_type": "markdown",
   "metadata": {
    "_cell_guid": "4e53c3ec-52a4-41b3-8aea-45eabe6e6db2",
    "_uuid": "c51439e4-c872-43bd-888f-3b23a032a6b8",
    "id": "bVfEgbC4I_dE"
   },
   "source": [
    "### 2.2.1 Load test image [1 mark]"
   ]
  },
  {
   "cell_type": "code",
   "execution_count": 12,
   "metadata": {
    "_cell_guid": "1a8d6f12-dbb1-4000-9211-d078721ed9b5",
    "_uuid": "976f8664-d996-42a1-9a75-cb329c1196c1",
    "execution": {
     "iopub.execute_input": "2022-02-28T01:25:36.306970Z",
     "iopub.status.busy": "2022-02-28T01:25:36.306654Z",
     "iopub.status.idle": "2022-02-28T01:25:36.340641Z",
     "shell.execute_reply": "2022-02-28T01:25:36.339595Z",
     "shell.execute_reply.started": "2022-02-28T01:25:36.306938Z"
    },
    "id": "xypfUN7y4CKI",
    "jupyter": {
     "outputs_hidden": false
    }
   },
   "outputs": [],
   "source": [
    "# TO COMPLETE\n",
    "# ! mkdir image\n",
    "# ! cp \"/content/gdrive/MyDrive/Colab Notebooks/man_bike.JPEG\" \"image/man_bike.JPEG\"\n",
    "\n",
    "im = Image.open(\"../input/something-2/man_bike.JPEG\").convert(\"RGB\")"
   ]
  },
  {
   "cell_type": "markdown",
   "metadata": {
    "_cell_guid": "0f43bdbb-24d7-424e-a33e-45e9eff63483",
    "_uuid": "ea536257-2779-4820-9e07-c7305c4d4ec7",
    "id": "aF2t9uOk4CKJ"
   },
   "source": [
    "Run the code cell below to apply the image transformation expected by the model."
   ]
  },
  {
   "cell_type": "code",
   "execution_count": 13,
   "metadata": {
    "_cell_guid": "6bf3ddc9-7efe-4971-8266-8391bf1616ae",
    "_uuid": "5af7feb7-21bc-49b3-8113-6bc6d65f3143",
    "execution": {
     "iopub.execute_input": "2022-02-28T01:25:38.404269Z",
     "iopub.status.busy": "2022-02-28T01:25:38.403856Z",
     "iopub.status.idle": "2022-02-28T01:25:38.484158Z",
     "shell.execute_reply": "2022-02-28T01:25:38.479791Z",
     "shell.execute_reply.started": "2022-02-28T01:25:38.404232Z"
    },
    "id": "Jt0tJQsM4CKO",
    "jupyter": {
     "outputs_hidden": false
    }
   },
   "outputs": [],
   "source": [
    "# ImageNet normalisation values, to apply to the image transform\n",
    "norm_mean = [0.485, 0.456, 0.406]\n",
    "norm_std = [0.229, 0.224, 0.225]\n",
    "\n",
    "data_transform = transforms.Compose([\n",
    "        transforms.Resize(256),\n",
    "        transforms.CenterCrop(256),\n",
    "        transforms.ToTensor(),\n",
    "        transforms.Normalize(norm_mean, norm_std),\n",
    "    ])\n",
    "\n",
    "im = data_transform(im)"
   ]
  },
  {
   "cell_type": "markdown",
   "metadata": {
    "_cell_guid": "a777c136-d660-4b9a-969e-7a0d036699f8",
    "_uuid": "c54e7cc5-41bb-4b4c-a1a6-43e0115669e6",
    "id": "5VQKNo384CKP"
   },
   "source": [
    "\n",
    "### 2.2.2 Extract feature maps [5 marks]\n",
    "\n",
    "Complete the function below to pass the test image through a single forward pass of the network. We are interested in the outputs of the max pool layers (outputs of conv layers at model.features indices 0, 3, and 10) for best visualization. Note that the input should pass through *every layer* of the model."
   ]
  },
  {
   "cell_type": "code",
   "execution_count": 14,
   "metadata": {
    "_cell_guid": "af7c9707-4c46-4797-8d25-85530e451d66",
    "_uuid": "d485c086-a086-4729-9508-7d183b3cd301",
    "execution": {
     "iopub.execute_input": "2022-02-28T01:25:40.107375Z",
     "iopub.status.busy": "2022-02-28T01:25:40.106950Z",
     "iopub.status.idle": "2022-02-28T01:25:40.116838Z",
     "shell.execute_reply": "2022-02-28T01:25:40.114965Z",
     "shell.execute_reply.started": "2022-02-28T01:25:40.107214Z"
    },
    "id": "kmqQ_mJ54CKP",
    "jupyter": {
     "outputs_hidden": false
    }
   },
   "outputs": [],
   "source": [
    "def fetch_feature_maps(image, model):\n",
    "    \"\"\"\n",
    "    Args:\n",
    "        image (Tensor): a single input image with transform applied\n",
    "        model (AlexNet): PyTorch AlexNet object\n",
    "        \n",
    "    Return:\n",
    "        feature_maps (Tensor): all the feature maps from conv layers \n",
    "                    at indices 0, 3, and 10 (outputs of the MaxPool layers)\n",
    "    \"\"\"\n",
    "\n",
    "    # TO COMPLETE\n",
    "    conv_layer_idx = [2, 5, 11]\n",
    "\n",
    "    filters = []\n",
    "\n",
    "    for layer_idx in range(len(model.features)):\n",
    "        image = model.features[layer_idx](image)\n",
    "        if layer_idx in conv_layer_idx:\n",
    "            filters.append(image)\n",
    "    return filters"
   ]
  },
  {
   "cell_type": "code",
   "execution_count": 15,
   "metadata": {
    "_cell_guid": "9cf75f37-ff0d-4dda-acfb-c43f5c11fc14",
    "_uuid": "3baed779-ad16-4470-a204-fcbf9e728c5a",
    "execution": {
     "iopub.execute_input": "2022-02-28T01:25:43.159397Z",
     "iopub.status.busy": "2022-02-28T01:25:43.158954Z",
     "iopub.status.idle": "2022-02-28T01:25:43.336096Z",
     "shell.execute_reply": "2022-02-28T01:25:43.335346Z",
     "shell.execute_reply.started": "2022-02-28T01:25:43.159366Z"
    },
    "id": "ORkRxCVo4CKQ",
    "jupyter": {
     "outputs_hidden": false
    }
   },
   "outputs": [],
   "source": [
    "feature_maps = fetch_feature_maps(im.unsqueeze(0), model)"
   ]
  },
  {
   "cell_type": "markdown",
   "metadata": {
    "_cell_guid": "bf765a86-9afd-494d-b6a8-4589043edcb1",
    "_uuid": "63c7b957-0cde-4c27-b73e-75835e65e902",
    "id": "Pf3SZoFu4CKQ"
   },
   "source": [
    "For your testing purposes, the following code block tests the dimensions of part of the function output. Note that the first dimension is the batch size."
   ]
  },
  {
   "cell_type": "code",
   "execution_count": 16,
   "metadata": {
    "_cell_guid": "5d13225a-ecc3-49d2-a6c2-07f954019c2f",
    "_uuid": "e38b043b-f146-4503-98c7-3b99910d3416",
    "execution": {
     "iopub.execute_input": "2022-02-28T01:25:44.865594Z",
     "iopub.status.busy": "2022-02-28T01:25:44.864498Z",
     "iopub.status.idle": "2022-02-28T01:25:44.872762Z",
     "shell.execute_reply": "2022-02-28T01:25:44.871589Z",
     "shell.execute_reply.started": "2022-02-28T01:25:44.865531Z"
    },
    "id": "Ow7jGdQ94CKR",
    "jupyter": {
     "outputs_hidden": false
    }
   },
   "outputs": [],
   "source": [
    "assert len(feature_maps) == 3\n",
    "assert list(feature_maps[0].shape) == [1, 64, 31, 31]"
   ]
  },
  {
   "cell_type": "markdown",
   "metadata": {
    "_cell_guid": "1dfa9ad4-9a4a-476b-8623-c21edf03de84",
    "_uuid": "6a0c679e-0b50-45aa-b5dc-9c1cea5edfb6",
    "id": "yDmwrp-w4CKR"
   },
   "source": [
    "\n",
    "\n",
    "### 2.2.3 Display feature maps [4 marks]\n",
    "\n",
    "Using the code for displaying filters as reference, write code in the block below to display the outputs of the first **16 feature maps from each of the 3 max-pool layers**."
   ]
  },
  {
   "cell_type": "code",
   "execution_count": 17,
   "metadata": {
    "_cell_guid": "53594a65-9ceb-4749-b6d1-2b83ace961fe",
    "_uuid": "f0b64347-d1ea-4c84-93b4-af8b261248ca",
    "execution": {
     "iopub.execute_input": "2022-02-28T01:25:46.827079Z",
     "iopub.status.busy": "2022-02-28T01:25:46.826180Z",
     "iopub.status.idle": "2022-02-28T01:25:49.208520Z",
     "shell.execute_reply": "2022-02-28T01:25:49.207741Z",
     "shell.execute_reply.started": "2022-02-28T01:25:46.827027Z"
    },
    "id": "Y2O8TZG74CKS",
    "jupyter": {
     "outputs_hidden": false
    },
    "outputId": "f1ffa331-1381-45d9-c045-c80c7aba8e38"
   },
   "outputs": [],
   "source": [
    "# TO COMPLETE\n",
    "# limit how many filters to show\n",
    "to_show = 16\n",
    "\n",
    "# compute the dimensions of the plot\n",
    "plt_dim = int(math.sqrt(to_show))\n",
    "\n",
    "plt.rcParams[\"figure.figsize\"] = (20,20)\n",
    "\n",
    "# plot the first channel of each filter in a grid\n",
    "for feature_idx in range(3):\n",
    "  for i, filt in enumerate(feature_maps[feature_idx][0].detach().numpy()[:to_show]):\n",
    "    plt.subplot(3*plt_dim, plt_dim , (16* feature_idx + i+1))\n",
    "    plt.imshow(filt, cmap=\"gray\")\n",
    "    plt.axis('off')\n",
    "plt.show()"
   ]
  },
  {
   "cell_type": "markdown",
   "metadata": {
    "_cell_guid": "3122af9e-c356-4a9a-a7b4-8751e0e48577",
    "_uuid": "5115897e-be31-4ba1-80be-ae5084dccc3e",
    "id": "BZNGf5WQ4CKG"
   },
   "source": [
    "\n",
    "\n",
    "\n",
    "## 2.3 Understanding of filters and feature maps [7 marks]\n",
    "\n",
    "Respond in detail to the questions below. (Note that all text boxes can be formatted using Markdown if desired).\n",
    "\n",
    "### 2.3.1 [3 marks]\n",
    "Describe what the three filters at indices 0, 4, and 6 from the first convolutional layer are detecting (reference the corresponding feature maps to support your discussion)."
   ]
  },
  {
   "cell_type": "markdown",
   "metadata": {
    "_cell_guid": "5fe339e5-82fa-4af9-9643-ddc63ab3a0a6",
    "_uuid": "20c922a5-6d32-45ef-aa85-851b765ab987",
    "id": "m9CzUSC9W0bw"
   },
   "source": [
    "The first filters detect the shape or the outlines of the image. We can recognise the shape of the people in the middle with his bicycle in most of the filters from the first three rows of filters shown above.\n",
    "\n",
    "Processing to the second filters, in this level, most of the filters are blurred or shown as mosaic particles. We can still detect the board outline of the people. For example, the filter at the fifth-row third column can see the head as the brightest part and his body in the slightly darker parts. \n",
    "\n",
    "As for the last filters, there is an only main focus in each filter. In the filter of the first column, tenth row, the light area at the middle indicts the people."
   ]
  },
  {
   "cell_type": "markdown",
   "metadata": {
    "_cell_guid": "1a36673b-aafc-422d-953b-bd6d7db57ceb",
    "_uuid": "c44f0a60-2f07-4acf-b4c1-7011659aea75",
    "id": "lxRVrqVsW0bw"
   },
   "source": [
    "### 2.3.2 [2 marks]\n",
    "Discuss how the filters change with depth into the network."
   ]
  },
  {
   "cell_type": "markdown",
   "metadata": {
    "_cell_guid": "028b8122-078d-4b3a-a19d-83c034fe440d",
    "_uuid": "b1223993-473a-4376-a964-c31474ab46fc",
    "id": "fvGQpE3TW0bw"
   },
   "source": [
    "The number of filters grows from 64 to 384 in the early stage then decreases from 384 to 256. Less detail is shown in each filter, while each focuses on one specific detail."
   ]
  },
  {
   "cell_type": "markdown",
   "metadata": {
    "_cell_guid": "faa6f610-9034-4b31-a6c2-02f5b92f45ab",
    "_uuid": "431657cf-4eed-4350-94ad-2eb0ed7b946b",
    "id": "_8vsPpLPW0bw"
   },
   "source": [
    "### 2.3.3 [2 marks]\n",
    "Discuss how the feature maps change with depth into the network."
   ]
  },
  {
   "cell_type": "markdown",
   "metadata": {
    "_cell_guid": "edf09322-2f46-4f09-8815-98c3d0a9e804",
    "_uuid": "116bb00a-b2d4-4dba-8464-08dc40d3e4e2",
    "id": "VM1zZ90AW0bw"
   },
   "source": [
    "The feature maps are the output of filters. That is, the more specific focus, the more blurred image. Inrelvence details are being discarded as going deeper into the networks, and the feature maps are shown as focus on specific details."
   ]
  },
  {
   "cell_type": "markdown",
   "metadata": {
    "_cell_guid": "4be694e4-a127-45ca-90c1-58f213381e30",
    "_uuid": "e58e13c3-6958-41cc-b0e6-da2ff44689e5",
    "id": "ZXeO_agI4CKS"
   },
   "source": [
    "\n",
    "## 2.4 Gradient-weighted Class Activation Mapping (Grad-CAM) [17 marks]\n",
    "\n",
    "In this section, we will explore using Gradient-weighted Class Activation Mapping (Grad-CAM) to generate coarse localization maps highlighting the important regions in the test images guiding the model's prediction. We will continue using the pre-trained AlexNet.\n",
    "\n",
    "#### Preparation\n",
    ">It is recommended to first read the relevant paper [Grad-CAM: Visual Explanations from Deep Networks via Gradient-based Localization](https://arxiv.org/abs/1610.02391), and refer to relevant course material.\n",
    "\n",
    "#### The AlexNet class\n",
    "\n",
    ">To implement Grad-CAM, we need to edit the AlexNet ```module``` class itself, so instead of loading the AlexNet model from ```torch.hub``` as we did above, we will use the official PyTorch AlexNet class code ([taken from here](https://pytorch.org/vision/stable/_modules/torchvision/models/alexnet.html)). In addition to the class definition, there is also a function below called ```alexnet()``` which allows you to specify whether you want the pretrained version or not, and if so, loads the weights. \n",
    "\n",
    "#### The hook\n",
    "\n",
    ">[Hooks](https://pytorch.org/tutorials/beginner/former_torchies/nnft_tutorial.html#forward-and-backward-function-hooks) in PyTorch are functions which can be registered, or attached, to a ```Module``` or ```Tensor```. Hooks can be *forward* hooks or *backward* hooks; forward hooks are called with ```forward()``` and backward hooks with ```backward()```. In the model below, we register a forward hook that saves the **gradients of the activations** to the Tensor output of ```model.features```. The gradients are saved to a class variable so we can easily access them.\n",
    "\n",
    "Carefully read the code block below. You do not need to add anything to the model."
   ]
  },
  {
   "cell_type": "code",
   "execution_count": 18,
   "metadata": {
    "_cell_guid": "bca25eda-4f6a-421d-b04c-b7feb210d491",
    "_uuid": "9e808297-2cf1-4fdc-8878-aadf8a22f192",
    "execution": {
     "iopub.execute_input": "2022-02-28T01:25:57.380460Z",
     "iopub.status.busy": "2022-02-28T01:25:57.380089Z",
     "iopub.status.idle": "2022-02-28T01:25:57.400675Z",
     "shell.execute_reply": "2022-02-28T01:25:57.399504Z",
     "shell.execute_reply.started": "2022-02-28T01:25:57.380410Z"
    },
    "id": "74G4wPeG4CKS",
    "jupyter": {
     "outputs_hidden": false
    }
   },
   "outputs": [],
   "source": [
    "# defining where to load the pre-trained weights from\n",
    "model_urls = {\n",
    "    'alexnet': 'https://download.pytorch.org/models/alexnet-owt-7be5be79.pth',\n",
    "}\n",
    "\n",
    "# the class definition\n",
    "class AlexNet(nn.Module):\n",
    "\n",
    "    def __init__(self, num_classes=1000):\n",
    "        super(AlexNet, self).__init__()\n",
    "        \n",
    "        # a placeholder for storing the gradients\n",
    "        self.gradients = None\n",
    "        \n",
    "        self.features = nn.Sequential(\n",
    "            nn.Conv2d(3, 64, kernel_size=11, stride=4, padding=2),\n",
    "            nn.ReLU(inplace=True),\n",
    "            nn.MaxPool2d(kernel_size=3, stride=2),\n",
    "            nn.Conv2d(64, 192, kernel_size=5, padding=2),\n",
    "            nn.ReLU(inplace=True),\n",
    "            nn.MaxPool2d(kernel_size=3, stride=2),\n",
    "            nn.Conv2d(192, 384, kernel_size=3, padding=1),\n",
    "            nn.ReLU(inplace=True),\n",
    "            nn.Conv2d(384, 256, kernel_size=3, padding=1),\n",
    "            nn.ReLU(inplace=True),\n",
    "            nn.Conv2d(256, 256, kernel_size=3, padding=1),\n",
    "            nn.ReLU(inplace=True),\n",
    "            nn.MaxPool2d(kernel_size=3, stride=2),\n",
    "        )\n",
    "        \n",
    "        self.avgpool = nn.AdaptiveAvgPool2d((6, 6))\n",
    "        self.classifier = nn.Sequential(\n",
    "            nn.Dropout(),\n",
    "            nn.Linear(256 * 6 * 6, 4096),\n",
    "            nn.ReLU(inplace=True),\n",
    "            nn.Dropout(),\n",
    "            nn.Linear(4096, 4096),\n",
    "            nn.ReLU(inplace=True),\n",
    "            nn.Linear(4096, num_classes),\n",
    "        )\n",
    "        \n",
    "    # the hook for the gradients of the activations\n",
    "    def activations_hook(self, grad):\n",
    "        # stores the gradients of the hook's tensor to our placeholder variable\n",
    "        self.gradients = grad\n",
    "\n",
    "    # a method for extracting the activations of the last conv layer only (when we're \n",
    "    # not interested in a full forward pass)\n",
    "    def get_activations(self, x):\n",
    "        return self.features(x)\n",
    "    \n",
    "    def forward(self, x):\n",
    "        x = self.features(x)\n",
    "        \n",
    "        # we register the hook here to save the gradients of the last convolutional\n",
    "        # layer outputs\n",
    "        hook = x.register_hook(self.activations_hook)\n",
    "        \n",
    "        x = self.avgpool(x)\n",
    "        x = torch.flatten(x, 1)\n",
    "        x = self.classifier(x)\n",
    "        return x\n",
    "\n",
    "\n",
    "def alexnet(pretrained=False, progress=True, **kwargs) -> AlexNet:\n",
    "    \"\"\"AlexNet model architecture from the\n",
    "    `\"One weird trick...\" <https://arxiv.org/abs/1404.5997>`_ paper.\n",
    "\n",
    "    Args:\n",
    "        pretrained (bool): If True, returns a model pre-trained on ImageNet\n",
    "        progress (bool): If True, displays a progress bar of the download to stderr\n",
    "    \"\"\"\n",
    "    model = AlexNet(**kwargs)\n",
    "    if pretrained:\n",
    "        state_dict = load_state_dict_from_url(model_urls['alexnet'],\n",
    "                                              progress=progress)\n",
    "        model.load_state_dict(state_dict)\n",
    "    return model"
   ]
  },
  {
   "cell_type": "code",
   "execution_count": 19,
   "metadata": {
    "_cell_guid": "11d78bdb-84f6-46b5-a3b3-f3156a99394a",
    "_uuid": "2168803e-7b89-4b1b-b373-33299322bcbe",
    "execution": {
     "iopub.execute_input": "2022-02-28T01:26:00.927946Z",
     "iopub.status.busy": "2022-02-28T01:26:00.927418Z",
     "iopub.status.idle": "2022-02-28T01:26:01.925027Z",
     "shell.execute_reply": "2022-02-28T01:26:01.921989Z",
     "shell.execute_reply.started": "2022-02-28T01:26:00.927754Z"
    },
    "id": "8FZEiLFv4CKT",
    "jupyter": {
     "outputs_hidden": false
    }
   },
   "outputs": [],
   "source": [
    "model = alexnet(pretrained=True)"
   ]
  },
  {
   "cell_type": "code",
   "execution_count": 20,
   "metadata": {
    "_cell_guid": "3a2315a7-56e4-4156-8424-96cb15fde1a1",
    "_uuid": "83a0a4b9-46c2-4148-b22c-f5ef834bd35f",
    "execution": {
     "iopub.execute_input": "2022-02-28T01:26:04.020756Z",
     "iopub.status.busy": "2022-02-28T01:26:04.020437Z",
     "iopub.status.idle": "2022-02-28T01:26:04.113155Z",
     "shell.execute_reply": "2022-02-28T01:26:04.112155Z",
     "shell.execute_reply.started": "2022-02-28T01:26:04.020725Z"
    },
    "id": "WiBjgrST4CKT",
    "jupyter": {
     "outputs_hidden": false
    }
   },
   "outputs": [],
   "source": [
    "# pass our test image through our new model with the hook\n",
    "output = model(im.unsqueeze(0))\n",
    "\n",
    "# save the predicted class\n",
    "_, pred_cls = output.max(dim=1, keepdim=True)"
   ]
  },
  {
   "cell_type": "markdown",
   "metadata": {
    "_cell_guid": "f88c8d90-a2e2-4a32-a1f9-85cdbde04f7c",
    "_uuid": "59827e34-deee-4705-8856-f2806d149d0c",
    "id": "GzCYhGyI4CKT"
   },
   "source": [
    "Examine and understand the values stored in ```output``` and ```pred_cls```. What does AlexNet classify the test image as?"
   ]
  },
  {
   "cell_type": "code",
   "execution_count": 21,
   "metadata": {
    "_cell_guid": "a1b1d2ba-0ae7-4c27-ab1c-09d9621d9777",
    "_uuid": "00a59ecd-7c94-427e-a596-941dd662218e",
    "execution": {
     "iopub.execute_input": "2022-02-28T01:26:06.502054Z",
     "iopub.status.busy": "2022-02-28T01:26:06.501690Z",
     "iopub.status.idle": "2022-02-28T01:26:06.511184Z",
     "shell.execute_reply": "2022-02-28T01:26:06.510304Z",
     "shell.execute_reply.started": "2022-02-28T01:26:06.502016Z"
    },
    "id": "TU5QjsuP4CKU",
    "jupyter": {
     "outputs_hidden": false
    },
    "outputId": "00f29596-e2a8-48c8-a8be-ceed6813d929"
   },
   "outputs": [],
   "source": [
    "pred_cls"
   ]
  },
  {
   "cell_type": "markdown",
   "metadata": {
    "_cell_guid": "d4ae6bc8-a1f5-4465-8804-91efd95b736d",
    "_uuid": "a9462678-739b-4565-aa6a-2e070ba57ae2",
    "id": "Mr4svXcg4CKU"
   },
   "source": [
    "### 2.4.1 Generate Grad-CAM heatmaps [8 marks]\n",
    "\n",
    "With the hooks in place, now implement the code to generate Grad-CAM heatmaps, by following the guiding comments in the code block below."
   ]
  },
  {
   "cell_type": "code",
   "execution_count": 22,
   "metadata": {
    "_cell_guid": "3ba26369-c10d-41fb-9afe-ce1507d479cc",
    "_uuid": "315c1e5f-e135-48dd-bd58-bc49ff45878a",
    "execution": {
     "iopub.execute_input": "2022-02-28T01:26:09.904952Z",
     "iopub.status.busy": "2022-02-28T01:26:09.903768Z",
     "iopub.status.idle": "2022-02-28T01:26:09.916120Z",
     "shell.execute_reply": "2022-02-28T01:26:09.914666Z",
     "shell.execute_reply.started": "2022-02-28T01:26:09.904877Z"
    },
    "id": "Rdlr69tw4CKU",
    "jupyter": {
     "outputs_hidden": false
    }
   },
   "outputs": [],
   "source": [
    "def generate_heatmap(output, class_id, model, image):\n",
    "    \n",
    "    # 1. compute the gradient of the score for the predicted class (logit)\n",
    "    # with respect to the feature map activations of the last convolutional layer\n",
    "    # Hint: calling .backward() on a Tensor computes its gradients\n",
    "    # TO COMPLETE\n",
    "    loss = nn.CrossEntropyLoss()(output, class_id[0]).backward()\n",
    "\n",
    "    # 2. get the gradients from the model placeholder variable\n",
    "    # TO COMPLETE\n",
    "\n",
    "    gradients = model.gradients\n",
    "\n",
    "    assert list(gradients.shape) == [1, 256, 7, 7]\n",
    "    \n",
    "    # pool the gradients across the channels\n",
    "    pooled_gradients = torch.mean(gradients, dim=[0, 2, 3])\n",
    "    assert list(pooled_gradients.shape) == [256]\n",
    "    \n",
    "    # 3. get the activations of the last convolutional layer\n",
    "    # TO COMPLETE\n",
    "    activations = model.get_activations(image)\n",
    "\n",
    "    assert list(activations.shape) == [1, 256, 7, 7]\n",
    "    \n",
    "    # 4. weight (multiply) the channels (dim=1 of activations) by the corresponding\n",
    "    # gradients (pooled_gradients)\n",
    "    # TO COMPLETE\n",
    "\n",
    "\n",
    "    # average the channels of the activations and squeeze out the extra dimension\n",
    "    heatmap = torch.mean(activations, dim=1).squeeze()\n",
    "    assert list(heatmap.shape) == [7, 7]\n",
    "    \n",
    "    # 5. apply a ReLU to the linear combination of maps because we are only \n",
    "    # interested in the features that have a positive influence on the class of \n",
    "    # interest, i.e. pixels whose intensity should be increased in order to increase y\n",
    "    # Hint: you can use np.maximum() and torch.max() to perform ReLU if you prefer.\n",
    "\n",
    "    zeros = torch.tensor(np.zeros([7,7]))\n",
    "    heatmap = torch.max(heatmap, zeros)\n",
    "    \n",
    "    # TO COMPLETE\n",
    "    return heatmap"
   ]
  },
  {
   "cell_type": "code",
   "execution_count": 23,
   "metadata": {
    "_cell_guid": "899df3e4-3438-408c-abdf-724ba47a22a1",
    "_uuid": "44cdd331-3e6c-4340-ae90-9548d5538f13",
    "execution": {
     "iopub.execute_input": "2022-02-28T01:26:13.010993Z",
     "iopub.status.busy": "2022-02-28T01:26:13.010598Z",
     "iopub.status.idle": "2022-02-28T01:26:13.259144Z",
     "shell.execute_reply": "2022-02-28T01:26:13.258133Z",
     "shell.execute_reply.started": "2022-02-28T01:26:13.010957Z"
    },
    "id": "4PEmi-aM4CKU",
    "jupyter": {
     "outputs_hidden": false
    }
   },
   "outputs": [],
   "source": [
    "heatmap = generate_heatmap(output, pred_cls, model, im.unsqueeze(0))"
   ]
  },
  {
   "cell_type": "markdown",
   "metadata": {
    "_cell_guid": "c2fc1c56-f96a-4a2d-94c4-9550ee6f345b",
    "_uuid": "27cd20fb-a547-47cf-81f2-5c5dbe7954ee",
    "id": "eaiH3MIO4CKV"
   },
   "source": [
    "Check the dimensions of ```heatmap```. Do they make sense?"
   ]
  },
  {
   "cell_type": "code",
   "execution_count": 24,
   "metadata": {
    "_cell_guid": "40b81018-90bc-44fd-a7ad-b5178e44b44b",
    "_uuid": "b7a52ad1-25a5-4692-bcbf-d28db8158c60",
    "execution": {
     "iopub.execute_input": "2022-02-28T01:26:15.140370Z",
     "iopub.status.busy": "2022-02-28T01:26:15.140073Z",
     "iopub.status.idle": "2022-02-28T01:26:15.147309Z",
     "shell.execute_reply": "2022-02-28T01:26:15.146233Z",
     "shell.execute_reply.started": "2022-02-28T01:26:15.140338Z"
    },
    "id": "qigb0A9F4CKV",
    "jupyter": {
     "outputs_hidden": false
    },
    "outputId": "d943e61b-583f-4ff6-ffaa-5abb5a18f3df"
   },
   "outputs": [],
   "source": [
    "heatmap.shape"
   ]
  },
  {
   "cell_type": "markdown",
   "metadata": {
    "_cell_guid": "4221b3be-b4eb-475f-862f-7d97b317f252",
    "_uuid": "31dded39-8914-4191-ac29-3feac8e3a517",
    "id": "rvyCYUpw4CKW"
   },
   "source": [
    "### 2.4.2 Display heatmaps [4 marks]\n",
    "\n",
    "Display ```heatmap``` as a coloured heatmap super-imposed onto the original image. To get results as shown in the paper, we recommend the following steps:\n",
    "\n",
    "1. Resize the heatmap to match the size of the image.\n",
    "2. Rescale the image to a 0-255 integer range.\n",
    "3. Apply a colormap to the heatmap using ```cv2.applyColorMap(heatmap, cv2.COLORMAP_JET)```.\n",
    "4. Multiply all values of heatmap by 0.4 to reduce colour saturation.\n",
    "5. Superimpose the heatmap onto the original image (Note: please perform cv2's addition - addition of two cv2 images, not numpy addition. See [here](https://opencv24-python-tutorials.readthedocs.io/en/latest/py_tutorials/py_core/py_image_arithmetics/py_image_arithmetics.html#:~:text=addWeighted()%20etc.-,Image%20Addition,OpenCV%20addition%20and%20Numpy%20addition.) for explanation.)\n",
    "6. Normalize the image between 0-255 again.\n",
    "7. Display the resulting image."
   ]
  },
  {
   "cell_type": "code",
   "execution_count": 25,
   "metadata": {
    "_cell_guid": "3e33f1e7-847d-485d-9e96-05f7f428b554",
    "_uuid": "d6a84fd2-1430-41d1-832f-513d078e20c0",
    "execution": {
     "iopub.execute_input": "2022-02-28T01:26:18.256700Z",
     "iopub.status.busy": "2022-02-28T01:26:18.256372Z",
     "iopub.status.idle": "2022-02-28T01:26:18.266377Z",
     "shell.execute_reply": "2022-02-28T01:26:18.265519Z",
     "shell.execute_reply.started": "2022-02-28T01:26:18.256666Z"
    },
    "id": "GwTIJoh84CKX",
    "jupyter": {
     "outputs_hidden": false
    }
   },
   "outputs": [],
   "source": [
    "# TO COMPLETE\n",
    "import torchvision.transforms as T\n",
    "# from google.colab.patches import cv2_imshow\n",
    "\n",
    "def display(heatmap, image):\n",
    "    rescale_hm = heatmap / torch.max(heatmap) * 256\n",
    "\n",
    "    resize_im = T.Resize([image.shape[0],image.shape[1]])(T.ToPILImage()(rescale_hm.detach().numpy().astype(np.uint8)))\n",
    "    resize_hm = T.ToTensor()(resize_im)\n",
    "\n",
    "    rescale_hm_2 = (1 - resize_hm / torch.max(resize_hm)) * 256\n",
    "#     rescale_hm_2 = resize_hm / torch.max(resize_hm) * 256\n",
    "\n",
    "\n",
    "    modified_hm = (rescale_hm_2).numpy().astype(np.uint8)\n",
    "    \n",
    "    colormap_hm = cv2.applyColorMap(modified_hm[0], cv2.COLORMAP_JET)\n",
    "\n",
    "    merge_img = image.copy()\n",
    "    alpha = 0.4\n",
    "    cv2.addWeighted(image, alpha, merge_img, 1-alpha, 0, merge_img)\n",
    "    cv2.addWeighted(colormap_hm, alpha, merge_img, 1-alpha, 0, merge_img)\n",
    "    plt.matshow(merge_img)"
   ]
  },
  {
   "cell_type": "markdown",
   "metadata": {
    "_cell_guid": "eb24de0d-264f-4a44-af5f-b74801d67852",
    "_uuid": "481dd9cc-f245-4bf2-b7f2-ba65c12d4271",
    "id": "Nf9aa-2V4CKX"
   },
   "source": [
    "Show the heatmap for class ```'seashore, coast, seacoast, sea-coast'``` (```class_id = 978```), super-imposed onto the original image."
   ]
  },
  {
   "cell_type": "code",
   "execution_count": 26,
   "metadata": {
    "_cell_guid": "6400681f-41e6-4efe-80d5-4243c3b6251e",
    "_uuid": "d4dd40ec-b6f8-4aa5-ab83-c7f4f9e3a701",
    "execution": {
     "iopub.execute_input": "2022-02-28T01:26:23.731748Z",
     "iopub.status.busy": "2022-02-28T01:26:23.730767Z",
     "iopub.status.idle": "2022-02-28T01:26:24.688062Z",
     "shell.execute_reply": "2022-02-28T01:26:24.687063Z",
     "shell.execute_reply.started": "2022-02-28T01:26:23.731693Z"
    },
    "id": "IeEeEQPrW0by",
    "jupyter": {
     "outputs_hidden": false
    },
    "outputId": "3302b91a-ff98-40e1-f014-fa9ff1b73675"
   },
   "outputs": [],
   "source": [
    "# TO COMPLETE\n",
    "im = Image.open(\"../input/something-2/man_bike.JPEG\").convert(\"RGB\")\n",
    "im = data_transform(im)\n",
    "display(generate_heatmap(model(im.unsqueeze(0)), torch.tensor([[978]]), model, im.unsqueeze(0)), cv2.imread(\"../input/something-2/man_bike.JPEG\"))\n",
    "# display(heatmap, cv2.imread(\"image/man_bike.JPEG\"))"
   ]
  },
  {
   "cell_type": "code",
   "execution_count": null,
   "metadata": {
    "_cell_guid": "c60a3bd2-5a28-4401-8598-171097d4c997",
    "_uuid": "61a90ae2-9bb5-4039-b934-747541dc5ca5",
    "id": "RQUx0x41W0bz",
    "jupyter": {
     "outputs_hidden": false
    }
   },
   "outputs": [],
   "source": []
  },
  {
   "cell_type": "markdown",
   "metadata": {
    "_cell_guid": "8944e487-defb-40d5-b2e1-d05ec6ffb3c4",
    "_uuid": "914bd50b-1ef6-4b5b-b9dc-cd7e3b9f0e14",
    "id": "WbmpeRnjW0bz"
   },
   "source": [
    "### 2.4.3 Failure analysis using Grad-CAM [5 marks]\n",
    "\n",
    "Find an image (online, or from ImageNet or another dataset) which AlexNet classifies *incorrectly*. Display the image below, and show the model's predicted class. Then, generate the Grad-CAM heatmap and display it super-imposed onto the image."
   ]
  },
  {
   "cell_type": "code",
   "execution_count": 27,
   "metadata": {
    "_cell_guid": "58114e70-9c31-46c2-999c-630ccc1420e7",
    "_uuid": "03a44651-3aaf-4493-bf4a-9971211e35c3",
    "execution": {
     "iopub.execute_input": "2022-02-28T01:26:30.210640Z",
     "iopub.status.busy": "2022-02-28T01:26:30.209525Z",
     "iopub.status.idle": "2022-02-28T01:26:30.438989Z",
     "shell.execute_reply": "2022-02-28T01:26:30.438018Z",
     "shell.execute_reply.started": "2022-02-28T01:26:30.210546Z"
    },
    "id": "Y0vOVQqYW0bz",
    "jupyter": {
     "outputs_hidden": false
    }
   },
   "outputs": [],
   "source": [
    "# TO COMPLETE\n",
    "f_dir = \"../input/something-3/saint_j.jpg\"\n",
    "\n",
    "f_im = Image.open(f_dir).convert(\"RGB\")\n",
    "f_im = data_transform(f_im)\n",
    "\n",
    "output = model(f_im.unsqueeze(0))\n",
    "_, pred_cls = output.max(dim=1, keepdim=True)\n",
    "\n",
    "pred_cls"
   ]
  },
  {
   "cell_type": "code",
   "execution_count": 28,
   "metadata": {
    "_cell_guid": "0ccee2f4-c914-4294-93f6-6e3c75cff52b",
    "_uuid": "c49546a8-21ec-4da4-b701-4608803f08fb",
    "execution": {
     "iopub.execute_input": "2022-02-28T01:26:33.382134Z",
     "iopub.status.busy": "2022-02-28T01:26:33.381790Z",
     "iopub.status.idle": "2022-02-28T01:26:35.032032Z",
     "shell.execute_reply": "2022-02-28T01:26:35.029412Z",
     "shell.execute_reply.started": "2022-02-28T01:26:33.382100Z"
    },
    "id": "-vIYaU-NW0bz",
    "jupyter": {
     "outputs_hidden": false
    }
   },
   "outputs": [],
   "source": [
    "display(generate_heatmap(model(f_im.unsqueeze(0)), pred_cls, model, f_im.unsqueeze(0)), cv2.imread(f_dir))"
   ]
  },
  {
   "cell_type": "code",
   "execution_count": null,
   "metadata": {
    "_cell_guid": "5c99d66f-1798-4a0a-b839-f3736ec3237e",
    "_uuid": "1058dfac-9e5e-4e4f-95ce-15000f26b56e",
    "id": "jBc0P7WqW0bz",
    "jupyter": {
     "outputs_hidden": false
    }
   },
   "outputs": [],
   "source": []
  },
  {
   "cell_type": "markdown",
   "metadata": {
    "_cell_guid": "dbeb8b54-c5a2-46da-a896-6bb2a1d5fb51",
    "_uuid": "469b950f-6bc7-466e-a24e-8db3e0ba8fd2",
    "id": "gauvu5RdW0bz"
   },
   "source": [
    "Briefly describe what explanation the Grad-CAM heatmap provides about why the model has failed to correctly classify your test image."
   ]
  },
  {
   "cell_type": "markdown",
   "metadata": {
    "_cell_guid": "8dda0ef2-f18c-465c-8582-90a44ebe4881",
    "_uuid": "ca07a518-ae43-4d25-82c4-0bd555e4a1b1",
    "id": "ylDsVa18W0bz"
   },
   "source": [
    "The AlexNet classifies the above image as triceratops(index 50 of ImageNet's labels) in which the original image should be Saint Jermore. We can see that the heatmap focuses on the skull and the bone on the table and a strange area near Saint Jermore's neck. This misclassification is caused by the  multiple\n",
    "symbols are too close. "
   ]
  },
  {
   "cell_type": "code",
   "execution_count": null,
   "metadata": {
    "_cell_guid": "c37f595d-35bb-46d1-a3bd-11bd82cdd12b",
    "_uuid": "ffb667db-bb07-443b-8689-680d1d3b8d02",
    "id": "etaikfQPW0bz",
    "jupyter": {
     "outputs_hidden": false
    }
   },
   "outputs": [],
   "source": []
  },
  {
   "cell_type": "markdown",
   "metadata": {
    "_cell_guid": "353b4df8-fe32-436b-bb29-066c9262d445",
    "_uuid": "9229363f-1fe0-458e-a9e4-05ad71a04124",
    "id": "tUq5aCULW0bz"
   },
   "source": [
    "### 3 Overall quality [2 marks]\n",
    "\n",
    "Marks awarded for overall degree of code readibility and omission of unnecessary messy outupts (for example, please avoid printed losses for every batch of a long training process, large numpy arrays, etc.) throughout the work."
   ]
  },
  {
   "cell_type": "markdown",
   "metadata": {
    "_cell_guid": "10dfe478-61a6-4fff-92d0-5bd32795cedb",
    "_uuid": "4bd44e8a-1f8f-43cd-9c19-b04af3d38463",
    "id": "I1NWRA2QW0b0"
   },
   "source": [
    "**Please refer to the submission section at the top of this notebook to prepare your submission.**"
   ]
  },
  {
   "cell_type": "code",
   "execution_count": null,
   "metadata": {
    "_cell_guid": "30d5f212-1f17-43ea-86ad-a4cd71618a8d",
    "_uuid": "03fca74f-bef2-4381-bcbc-86747a4833d0",
    "id": "Dp-DrHRxW0b0",
    "jupyter": {
     "outputs_hidden": false
    }
   },
   "outputs": [],
   "source": []
  }
 ],
 "metadata": {
  "kernelspec": {
   "display_name": "Python 3",
   "language": "python",
   "name": "python3"
  },
  "language_info": {
   "codemirror_mode": {
    "name": "ipython",
    "version": 3
   },
   "file_extension": ".py",
   "mimetype": "text/x-python",
   "name": "python",
   "nbconvert_exporter": "python",
   "pygments_lexer": "ipython3",
   "version": "3.7.6"
  }
 },
 "nbformat": 4,
 "nbformat_minor": 4
}
