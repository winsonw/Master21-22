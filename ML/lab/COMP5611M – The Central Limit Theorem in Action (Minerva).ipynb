{
 "cells": [
  {
   "cell_type": "markdown",
   "metadata": {},
   "source": [
    "<a rel=\"license\" href=\"http://creativecommons.org/licenses/by/4.0/\"><img alt=\"Creative Commons Licence\" style=\"border-width:0\" src=\"https://i.creativecommons.org/l/by/4.0/88x31.png\" /></a><br /><span xmlns:dct=\"http://purl.org/dc/terms/\" property=\"dct:title\">COMP5611M – The Central Limit Theorem in Action (Sample Answers) </span> by <span xmlns:cc=\"http://creativecommons.org/ns#\" property=\"cc:attributionName\">Marc de Kamps and University of Leeds</span> is licensed under a <a rel=\"license\" href=\"http://creativecommons.org/licenses/by/4.0/\">Creative Commons Attribution 4.0 International License</a>."
   ]
  },
  {
   "cell_type": "markdown",
   "metadata": {},
   "source": [
    "## The Central Limit Theorem in Action\n",
    "### Objectives\n",
    "\n",
    "In the main text, the cental limit theorem is mentioned. This theorem, somewhat loosely stated, implies that\n",
    "a sum comprised of $N$ terms of stochastic variables, will be distributed approximately according to a normal distribution, even if distribution if the stochastic variables themselves are sampled from a distribution that is not a Guassian. It is assumed that all variables are governed by the same distribution and are independent. The mean and variance of the Gaussian can be estimated in terms of the mean and variance of the non-Gaussian distribution and $N$. \n",
    "\n",
    "In practice, we often sample an unknown distribution $N$ times and calculate its mean. According to the central limit theorem this mean itself follows a distribution that is approximately Gaussian. In this activity, we will simulate  the mean of samples of various distributions and will demonstrate that this indeed follows a \n",
    "Gaussian distribution.\n",
    "\n",
    "\n",
    "\n"
   ]
  },
  {
   "cell_type": "markdown",
   "metadata": {},
   "source": [
    "**Exercise one:** Generate a sample of 10000 points from a Bernoulli process with $\\mu = 0.6$."
   ]
  },
  {
   "cell_type": "markdown",
   "metadata": {},
   "source": [
    "**Exercise two:** Randomly select 5 individuals from this sample and calculate their sum. Store the result.\n",
    "Repeat this 1000 times. Make a histogram of these 1000 sum values. Write you code flexibly, so that you can\n",
    "experiment with the parameters."
   ]
  },
  {
   "cell_type": "markdown",
   "metadata": {},
   "source": [
    "**Exercise three**: The central limit theorem also predicts that if one  estimates $\\mu$ by the sample mean $np$\n",
    "and $\\sigma$ by the sample variance $np(1-p)$. Calculate these quantites for the example above. Then plot a Gaussian distribution function with these parameters in the same figure as the histogram."
   ]
  },
  {
   "cell_type": "markdown",
   "metadata": {},
   "source": [
    "**Exercise four**:  Now repeat the entire process with not five, but twenty individuals. Explain whether the agreement is better or worse than for five individuals and expect whether this is what you expected."
   ]
  },
  {
   "cell_type": "code",
   "execution_count": null,
   "metadata": {},
   "outputs": [],
   "source": []
  }
 ],
 "metadata": {
  "kernelspec": {
   "display_name": "Python 3",
   "language": "python",
   "name": "python3"
  },
  "language_info": {
   "codemirror_mode": {
    "name": "ipython",
    "version": 3
   },
   "file_extension": ".py",
   "mimetype": "text/x-python",
   "name": "python",
   "nbconvert_exporter": "python",
   "pygments_lexer": "ipython3",
   "version": "3.7.6"
  }
 },
 "nbformat": 4,
 "nbformat_minor": 4
}
