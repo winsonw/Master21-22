{
 "cells": [
  {
   "cell_type": "markdown",
   "metadata": {},
   "source": [
    "## P4DS: Assignment 3 (Autumn 2021)\n",
    "\n",
    "# Data Analysis Project\n",
    "\n",
    "#### Notebook template design: Brandon Bennett \n",
    "Original: 2020.11.3<br>\n",
    "Revised: 2021.03.02, 2021.11.10\n",
    "\n",
    "# Prediciton of restaurant's success for clients in Bangalore\n",
    "\n",
    "\n",
    "* Ziwei Wang, sc212zw@leeds.ac.uk"
   ]
  },
  {
   "cell_type": "markdown",
   "metadata": {},
   "source": [
    "# Project Plan\n",
    "\n",
    "## The Data (10 marks)\n",
    "\n",
    "In this project, we will investigate restaurants' data in a specific city, Bangalore, the third most populous city in India. The data is taken from the website Kaggle, and the specific dataset is from Zomato Bangalore Restaurants (https://www.kaggle.com/himanshupoddar/zomato-bangalore-restaurants/version/1) which is obtained from a company called Zomato.\n",
    "\n",
    "The dataset collects data from over 10,000 restaurants with 51,717 data entries. Each data entry contains seventeen features which are 'url', 'address', 'name', 'online_order', 'book_table', 'rate', 'votes', 'phone', 'location', 'rest_type', 'dish_liked', 'cuisines', 'approx_cost(for two people)', 'reviews_list', 'menu_item', 'listed_in(type)', 'listed_in(city)’. Those features representation are shown below.\n",
    "\n",
    "|Feature name|Description|Value characteristic\n",
    "|:---|:-----|:-----|\n",
    "url\t| The url of the restaurant review in the Zomato website\t| String with 51717 unique values\n",
    "address\t| The restaurant address\t|String with 11495 unique values\n",
    "name\t|The restaurant name|String with 8792 unique values\n",
    "online_order\t|Is available for online ordering or not\t|String as Yes or No \n",
    "book_table\t|Is available for table booking or not\t|String as Yes or No\n",
    "rate\t|The overall rating of the restaurant\t|String\n",
    "votes\t|The total number of rating for the restaurant\t|Integer\n",
    "phone\t|The phone number of the restaurant\t|String\n",
    "location\t|The neighbourhood that the restaurant is located\t|String with 94 unique values\n",
    "rest_type\t|The restaurant type\t|String with 94 unique values\n",
    "dish_liked\t|The dishes people liked in the restaurant\t|String\n",
    "cuisines\t|The food styles provided in the restaurant \t|String\n",
    "approx_cost(for two people)\t|The approximate cost of a meal for two people\t|Integer from 40 to 6000\n",
    "reviews_list\t|The list containing reviews for the restaurant in two aspects: rating and review\t|String\n",
    "menu_item\t|The list of menus in the restaurant\t|String\n",
    "listed_in(type)\t|The type of meal restaurant provided\t|String with 7 unique values\n",
    "listed_in(city)\t|The neighbourhood in which the restaurant is listed\t|String with 30 unique values\n",
    "\n",
    "This data is as of March 2019. With over 50,000 unique addresses and only 10,000+ distinct restaurant names, excluding the possibility of various restaurants with the same name and chain restaurants, we can come out with the fact that duplication happens inside the dataset. We can also find that a significant amount of data is unavailable to present helpful information, such as the 7,000+ null entries in the rate column.\n",
    "\n",
    "## Project Aim and Objectives (5 marks)\n",
    "\n",
    "We aim to provide our clients ready to enter the restaurant industry with a tool to make a relatively better decision. Based on the arrangement of the various attributes of the restaurant in the client's plan, this tool determines the degree of success of the client's plan. The degree of success is used as effective feedback to allow the client to enhance the restaurant's attributes. It also serves as an informative suggestion to give the client's plan a better chance of success.\n",
    "\n",
    "\n",
    "To define the level of success of a restaurant, the rating is one of the most critical indicators, and it can also judge a restaurant's performance from the point of view of its customers. However, when a restaurant has very few votes, the bias of the data will be at an appreciable level, regardless of the trend that rating reveal. Thus, we need to look at more than just rating, but the number of customers to the restaurant. Therefore, the number of ratings used as voted in the dataset could represent this attribute to some extent. As a result, we combine the rate and the vote to indicate the restaurant's success in this project.\n",
    "\n",
    "One of our most important tasks is to give a response that is as accurate as possible to the user. In order to achieve this, we need to compare various models across the board to select the one that gives the most accurate response relative to each other. This chosen model we provide will give the customer more helpful information and reduce the risk of loss.\n",
    "\n",
    "In addition, we visualise the data on restaurant prices at the initial stage when the client is deciding on the restaurant's attributes. The heatmap that we will implement gives the client a clear idea of the restaurant concentrations in the city and a clearer understanding of the initial restaurant pricing, providing a solid basis for subsequent planning.\n",
    "\n",
    "### Specific Objectives\n",
    "\n",
    "* __Objective 1:__ The correlation between price and the level of restaurant success is shown with restaurant price distribution. The restaurant prices are displayed on a heat map so that the customer can have an objective view of the commercial area formed by the whole city and provide an initial basis for their decision.\n",
    "* __Objective 2:__ Using the available data, compare the predictions of several algorithmic models suitable for this type of data structure for the restaurant's results providing the conditions. Then select the algorithm that best suits our requirements. In the end, the prediction model as a tool will help the restaurant plan improve by comparing various combinations of restaurant features.\n",
    "\n",
    "## System Design (5 marks)\n",
    "\n",
    "### Architecture\n",
    "\n",
    "The system's overall structure is shown as the red area below, which is divided into three components. They are Initial Preparation, Model Selection, and Data Analysis & Visualisation. In Initial Preparation, the database is read and carry out a number of data cleaning processes, which remove redundant and invalid data and remove the system's unrequired restaurant features. The data then enters a transformation process, where the data used for further analysis transforms into a more computationally friendly form. The data processing part ends here, and the processed data transmit into the Model Selection. After the training section of models, data and models will be sent to Data Analysis & Visualisation while runing model evaluation simultaneously.\n",
    "\n",
    "The Model Selection section enables several models to evaluate their outputs to select the best model. On the other hand, the data is carefully analysed in the Data Analysis & Visualisation section to conclude specific attributes. A series of visualisations are produced based on these.\n",
    "\n",
    "![title](arch_2.png)\n",
    "  \n",
    "### Processing Modules and Algorithms\n",
    "\n",
    "\n",
    "1. K-mean cluster, is used to generate clusters based on restaurants’ rate and votes\n",
    "2. Decision trees, is used as one of the model to predict restaurants’ success\n",
    "3. Extra trees, is used as one of the model to predict restaurants’ success\n",
    "4. Linear regression, is used as one of the model to predict restaurants’ success\n",
    "5. Random forest, is used as one of the model to predict restaurants’ success"
   ]
  },
  {
   "cell_type": "markdown",
   "metadata": {},
   "source": [
    "# Program Code (15 marks)\n",
    "\n",
    "Please note the following about your code:\n",
    "* <b><i>You may import any packages/modules you wish to use for your project.</i></b>\n",
    "\n",
    "\n",
    "* <b><i>You should submit your notebook in a state where all cells have been\n",
    "    executed and are displaying the output that you wish to present for grading.</i></b>\n",
    "    (We will not normally run your code, unless for some reason we wish to check\n",
    "    that the code functionality matches the given description.)\n",
    "    \n",
    "    \n",
    "* Although you may be programming in a \"pipeline\" style, it is strongly suggested you use function definitions to organise your code. As well as being generally good programming practice, it will be helpful for easy and flexibily presentation of results visualisations later in the document. In the visualisation sections you will be able to produce images in a concise and flexible way by calling functions defined in the program code secion."
   ]
  },
  {
   "cell_type": "markdown",
   "metadata": {},
   "source": [
    "#### _Loading libraries_\n",
    "\n",
    "\n",
    "_The following code import the necessary libraries to run the code below_"
   ]
  },
  {
   "cell_type": "code",
   "execution_count": 1,
   "metadata": {},
   "outputs": [],
   "source": [
    "import pandas as pd\n",
    "import numpy as np\n",
    "import matplotlib.pyplot as plt\n",
    "import seaborn as sns\n",
    "from folium import Map\n",
    "from folium.plugins import HeatMap, FastMarkerCluster\n",
    "from geopy.geocoders import Nominatim\n",
    "from sklearn.model_selection import train_test_split\n",
    "from sklearn.metrics import r2_score\n",
    "from sklearn.ensemble import RandomForestRegressor\n",
    "from sklearn.tree import DecisionTreeRegressor\n",
    "from sklearn.linear_model import LinearRegression\n",
    "from sklearn.ensemble import  ExtraTreesRegressor\n",
    "from sklearn.cluster import KMeans"
   ]
  },
  {
   "cell_type": "markdown",
   "metadata": {},
   "source": [
    "#### _Loading dataset_\n",
    "\n",
    "\n",
    "_The following code read the data from the file_"
   ]
  },
  {
   "cell_type": "code",
   "execution_count": 2,
   "metadata": {},
   "outputs": [
    {
     "data": {
      "text/html": [
       "<div>\n",
       "<style scoped>\n",
       "    .dataframe tbody tr th:only-of-type {\n",
       "        vertical-align: middle;\n",
       "    }\n",
       "\n",
       "    .dataframe tbody tr th {\n",
       "        vertical-align: top;\n",
       "    }\n",
       "\n",
       "    .dataframe thead th {\n",
       "        text-align: right;\n",
       "    }\n",
       "</style>\n",
       "<table border=\"1\" class=\"dataframe\">\n",
       "  <thead>\n",
       "    <tr style=\"text-align: right;\">\n",
       "      <th></th>\n",
       "      <th>url</th>\n",
       "      <th>address</th>\n",
       "      <th>name</th>\n",
       "      <th>online_order</th>\n",
       "      <th>book_table</th>\n",
       "      <th>rate</th>\n",
       "      <th>votes</th>\n",
       "      <th>phone</th>\n",
       "      <th>location</th>\n",
       "      <th>rest_type</th>\n",
       "      <th>dish_liked</th>\n",
       "      <th>cuisines</th>\n",
       "      <th>approx_cost(for two people)</th>\n",
       "      <th>reviews_list</th>\n",
       "      <th>menu_item</th>\n",
       "      <th>listed_in(type)</th>\n",
       "      <th>listed_in(city)</th>\n",
       "    </tr>\n",
       "  </thead>\n",
       "  <tbody>\n",
       "    <tr>\n",
       "      <th>0</th>\n",
       "      <td>https://www.zomato.com/bangalore/jalsa-banasha...</td>\n",
       "      <td>942, 21st Main Road, 2nd Stage, Banashankari, ...</td>\n",
       "      <td>Jalsa</td>\n",
       "      <td>Yes</td>\n",
       "      <td>Yes</td>\n",
       "      <td>4.1/5</td>\n",
       "      <td>775</td>\n",
       "      <td>080 42297555\\r\\n+91 9743772233</td>\n",
       "      <td>Banashankari</td>\n",
       "      <td>Casual Dining</td>\n",
       "      <td>Pasta, Lunch Buffet, Masala Papad, Paneer Laja...</td>\n",
       "      <td>North Indian, Mughlai, Chinese</td>\n",
       "      <td>800</td>\n",
       "      <td>[('Rated 4.0', 'RATED\\n  A beautiful place to ...</td>\n",
       "      <td>[]</td>\n",
       "      <td>Buffet</td>\n",
       "      <td>Banashankari</td>\n",
       "    </tr>\n",
       "    <tr>\n",
       "      <th>1</th>\n",
       "      <td>https://www.zomato.com/bangalore/spice-elephan...</td>\n",
       "      <td>2nd Floor, 80 Feet Road, Near Big Bazaar, 6th ...</td>\n",
       "      <td>Spice Elephant</td>\n",
       "      <td>Yes</td>\n",
       "      <td>No</td>\n",
       "      <td>4.1/5</td>\n",
       "      <td>787</td>\n",
       "      <td>080 41714161</td>\n",
       "      <td>Banashankari</td>\n",
       "      <td>Casual Dining</td>\n",
       "      <td>Momos, Lunch Buffet, Chocolate Nirvana, Thai G...</td>\n",
       "      <td>Chinese, North Indian, Thai</td>\n",
       "      <td>800</td>\n",
       "      <td>[('Rated 4.0', 'RATED\\n  Had been here for din...</td>\n",
       "      <td>[]</td>\n",
       "      <td>Buffet</td>\n",
       "      <td>Banashankari</td>\n",
       "    </tr>\n",
       "    <tr>\n",
       "      <th>2</th>\n",
       "      <td>https://www.zomato.com/SanchurroBangalore?cont...</td>\n",
       "      <td>1112, Next to KIMS Medical College, 17th Cross...</td>\n",
       "      <td>San Churro Cafe</td>\n",
       "      <td>Yes</td>\n",
       "      <td>No</td>\n",
       "      <td>3.8/5</td>\n",
       "      <td>918</td>\n",
       "      <td>+91 9663487993</td>\n",
       "      <td>Banashankari</td>\n",
       "      <td>Cafe, Casual Dining</td>\n",
       "      <td>Churros, Cannelloni, Minestrone Soup, Hot Choc...</td>\n",
       "      <td>Cafe, Mexican, Italian</td>\n",
       "      <td>800</td>\n",
       "      <td>[('Rated 3.0', \"RATED\\n  Ambience is not that ...</td>\n",
       "      <td>[]</td>\n",
       "      <td>Buffet</td>\n",
       "      <td>Banashankari</td>\n",
       "    </tr>\n",
       "    <tr>\n",
       "      <th>3</th>\n",
       "      <td>https://www.zomato.com/bangalore/addhuri-udupi...</td>\n",
       "      <td>1st Floor, Annakuteera, 3rd Stage, Banashankar...</td>\n",
       "      <td>Addhuri Udupi Bhojana</td>\n",
       "      <td>No</td>\n",
       "      <td>No</td>\n",
       "      <td>3.7/5</td>\n",
       "      <td>88</td>\n",
       "      <td>+91 9620009302</td>\n",
       "      <td>Banashankari</td>\n",
       "      <td>Quick Bites</td>\n",
       "      <td>Masala Dosa</td>\n",
       "      <td>South Indian, North Indian</td>\n",
       "      <td>300</td>\n",
       "      <td>[('Rated 4.0', \"RATED\\n  Great food and proper...</td>\n",
       "      <td>[]</td>\n",
       "      <td>Buffet</td>\n",
       "      <td>Banashankari</td>\n",
       "    </tr>\n",
       "    <tr>\n",
       "      <th>4</th>\n",
       "      <td>https://www.zomato.com/bangalore/grand-village...</td>\n",
       "      <td>10, 3rd Floor, Lakshmi Associates, Gandhi Baza...</td>\n",
       "      <td>Grand Village</td>\n",
       "      <td>No</td>\n",
       "      <td>No</td>\n",
       "      <td>3.8/5</td>\n",
       "      <td>166</td>\n",
       "      <td>+91 8026612447\\r\\n+91 9901210005</td>\n",
       "      <td>Basavanagudi</td>\n",
       "      <td>Casual Dining</td>\n",
       "      <td>Panipuri, Gol Gappe</td>\n",
       "      <td>North Indian, Rajasthani</td>\n",
       "      <td>600</td>\n",
       "      <td>[('Rated 4.0', 'RATED\\n  Very good restaurant ...</td>\n",
       "      <td>[]</td>\n",
       "      <td>Buffet</td>\n",
       "      <td>Banashankari</td>\n",
       "    </tr>\n",
       "  </tbody>\n",
       "</table>\n",
       "</div>"
      ],
      "text/plain": [
       "                                                 url  \\\n",
       "0  https://www.zomato.com/bangalore/jalsa-banasha...   \n",
       "1  https://www.zomato.com/bangalore/spice-elephan...   \n",
       "2  https://www.zomato.com/SanchurroBangalore?cont...   \n",
       "3  https://www.zomato.com/bangalore/addhuri-udupi...   \n",
       "4  https://www.zomato.com/bangalore/grand-village...   \n",
       "\n",
       "                                             address                   name  \\\n",
       "0  942, 21st Main Road, 2nd Stage, Banashankari, ...                  Jalsa   \n",
       "1  2nd Floor, 80 Feet Road, Near Big Bazaar, 6th ...         Spice Elephant   \n",
       "2  1112, Next to KIMS Medical College, 17th Cross...        San Churro Cafe   \n",
       "3  1st Floor, Annakuteera, 3rd Stage, Banashankar...  Addhuri Udupi Bhojana   \n",
       "4  10, 3rd Floor, Lakshmi Associates, Gandhi Baza...          Grand Village   \n",
       "\n",
       "  online_order book_table   rate  votes                             phone  \\\n",
       "0          Yes        Yes  4.1/5    775    080 42297555\\r\\n+91 9743772233   \n",
       "1          Yes         No  4.1/5    787                      080 41714161   \n",
       "2          Yes         No  3.8/5    918                    +91 9663487993   \n",
       "3           No         No  3.7/5     88                    +91 9620009302   \n",
       "4           No         No  3.8/5    166  +91 8026612447\\r\\n+91 9901210005   \n",
       "\n",
       "       location            rest_type  \\\n",
       "0  Banashankari        Casual Dining   \n",
       "1  Banashankari        Casual Dining   \n",
       "2  Banashankari  Cafe, Casual Dining   \n",
       "3  Banashankari          Quick Bites   \n",
       "4  Basavanagudi        Casual Dining   \n",
       "\n",
       "                                          dish_liked  \\\n",
       "0  Pasta, Lunch Buffet, Masala Papad, Paneer Laja...   \n",
       "1  Momos, Lunch Buffet, Chocolate Nirvana, Thai G...   \n",
       "2  Churros, Cannelloni, Minestrone Soup, Hot Choc...   \n",
       "3                                        Masala Dosa   \n",
       "4                                Panipuri, Gol Gappe   \n",
       "\n",
       "                         cuisines approx_cost(for two people)  \\\n",
       "0  North Indian, Mughlai, Chinese                         800   \n",
       "1     Chinese, North Indian, Thai                         800   \n",
       "2          Cafe, Mexican, Italian                         800   \n",
       "3      South Indian, North Indian                         300   \n",
       "4        North Indian, Rajasthani                         600   \n",
       "\n",
       "                                        reviews_list menu_item  \\\n",
       "0  [('Rated 4.0', 'RATED\\n  A beautiful place to ...        []   \n",
       "1  [('Rated 4.0', 'RATED\\n  Had been here for din...        []   \n",
       "2  [('Rated 3.0', \"RATED\\n  Ambience is not that ...        []   \n",
       "3  [('Rated 4.0', \"RATED\\n  Great food and proper...        []   \n",
       "4  [('Rated 4.0', 'RATED\\n  Very good restaurant ...        []   \n",
       "\n",
       "  listed_in(type) listed_in(city)  \n",
       "0          Buffet    Banashankari  \n",
       "1          Buffet    Banashankari  \n",
       "2          Buffet    Banashankari  \n",
       "3          Buffet    Banashankari  \n",
       "4          Buffet    Banashankari  "
      ]
     },
     "execution_count": 2,
     "metadata": {},
     "output_type": "execute_result"
    }
   ],
   "source": [
    "def read_data():\n",
    "    df = pd.read_csv(\"zomato.csv\")\n",
    "    return df\n",
    "\n",
    "\n",
    "original_df = read_data()\n",
    "original_df.head()"
   ]
  },
  {
   "cell_type": "markdown",
   "metadata": {},
   "source": [
    "_The output shows the basic data structure of the read data._"
   ]
  },
  {
   "cell_type": "markdown",
   "metadata": {},
   "source": [
    "#### _Data cleaning --- drop unnecessary columns_\n",
    "\n",
    "_The following code drop the features that are not going to be used in the project._"
   ]
  },
  {
   "cell_type": "code",
   "execution_count": 3,
   "metadata": {},
   "outputs": [
    {
     "name": "stdout",
     "output_type": "stream",
     "text": [
      "<class 'pandas.core.frame.DataFrame'>\n",
      "RangeIndex: 51717 entries, 0 to 51716\n",
      "Data columns (total 9 columns):\n",
      " #   Column                       Non-Null Count  Dtype \n",
      "---  ------                       --------------  ----- \n",
      " 0   address                      51717 non-null  object\n",
      " 1   online_order                 51717 non-null  object\n",
      " 2   book_table                   51717 non-null  object\n",
      " 3   rate                         43942 non-null  object\n",
      " 4   votes                        51717 non-null  int64 \n",
      " 5   location                     51696 non-null  object\n",
      " 6   rest_type                    51490 non-null  object\n",
      " 7   approx_cost(for two people)  51371 non-null  object\n",
      " 8   listed_in(type)              51717 non-null  object\n",
      "dtypes: int64(1), object(8)\n",
      "memory usage: 3.6+ MB\n"
     ]
    }
   ],
   "source": [
    "df = original_df.copy()\n",
    "\n",
    "def drop_unnecessary_columns(df):\n",
    "    df.drop(columns=['dish_liked', 'cuisines', 'menu_item'], inplace=True)\n",
    "    df.drop(columns=['name', 'url', 'phone', 'reviews_list', \"listed_in(city)\"], inplace=True)\n",
    "    return df\n",
    "\n",
    "\n",
    "df = drop_unnecessary_columns(df)\n",
    "df.info()"
   ]
  },
  {
   "cell_type": "markdown",
   "metadata": {},
   "source": [
    "_The output show the remaining column of the data table._"
   ]
  },
  {
   "cell_type": "markdown",
   "metadata": {},
   "source": [
    "#### _Data cleaning --- rename features_\n",
    "\n",
    "_The follwing code drop address column._"
   ]
  },
  {
   "cell_type": "code",
   "execution_count": 4,
   "metadata": {},
   "outputs": [
    {
     "data": {
      "text/plain": [
       "Index(['address', 'online_order', 'book_table', 'rate', 'votes', 'location',\n",
       "       'rest_type', 'price', 'meal_type'],\n",
       "      dtype='object')"
      ]
     },
     "execution_count": 4,
     "metadata": {},
     "output_type": "execute_result"
    }
   ],
   "source": [
    "def rename_features(df):\n",
    "    df.rename(columns={'approx_cost(for two people)': 'price', 'listed_in(city)': 'city_area',\n",
    "                      'listed_in(type)': 'meal_type'}, inplace=True)\n",
    "    return df\n",
    "\n",
    "\n",
    "df = rename_features(df)\n",
    "df.columns"
   ]
  },
  {
   "cell_type": "markdown",
   "metadata": {},
   "source": [
    "_All the column names after changes._"
   ]
  },
  {
   "cell_type": "markdown",
   "metadata": {},
   "source": [
    "#### _Data cleaning ---  remove invalid entry_\n",
    "\n",
    "_The following code drop invalid data included null and NaN in the table._"
   ]
  },
  {
   "cell_type": "code",
   "execution_count": 5,
   "metadata": {},
   "outputs": [
    {
     "name": "stdout",
     "output_type": "stream",
     "text": [
      "<class 'pandas.core.frame.DataFrame'>\n",
      "Int64Index: 41271 entries, 0 to 51716\n",
      "Data columns (total 9 columns):\n",
      " #   Column        Non-Null Count  Dtype \n",
      "---  ------        --------------  ----- \n",
      " 0   address       41271 non-null  object\n",
      " 1   online_order  41271 non-null  object\n",
      " 2   book_table    41271 non-null  object\n",
      " 3   rate          41271 non-null  object\n",
      " 4   votes         41271 non-null  int64 \n",
      " 5   location      41271 non-null  object\n",
      " 6   rest_type     41271 non-null  object\n",
      " 7   price         41271 non-null  object\n",
      " 8   meal_type     41271 non-null  object\n",
      "dtypes: int64(1), object(8)\n",
      "memory usage: 3.1+ MB\n"
     ]
    }
   ],
   "source": [
    "def remove_nan(df):\n",
    "    df[\"rate\"] = df[\"rate\"].replace(\"NEW\", np.nan)\n",
    "    df[\"rate\"] = df[\"rate\"].replace(\"-\", np.nan)\n",
    "    df.dropna(how='any',inplace=True)\n",
    "    return df\n",
    "\n",
    "\n",
    "df = remove_nan(df)\n",
    "df.info()"
   ]
  },
  {
   "cell_type": "markdown",
   "metadata": {},
   "source": [
    "_The output shows there is no more invalid data in the table._"
   ]
  },
  {
   "cell_type": "markdown",
   "metadata": {},
   "source": [
    "#### _Data cleaning --- remove duplicate_\n",
    "\n",
    "_Drop duplicate data entry_"
   ]
  },
  {
   "cell_type": "code",
   "execution_count": 6,
   "metadata": {},
   "outputs": [
    {
     "name": "stdout",
     "output_type": "stream",
     "text": [
      "<class 'pandas.core.frame.DataFrame'>\n",
      "Int64Index: 29596 entries, 0 to 51716\n",
      "Data columns (total 9 columns):\n",
      " #   Column        Non-Null Count  Dtype \n",
      "---  ------        --------------  ----- \n",
      " 0   address       29596 non-null  object\n",
      " 1   online_order  29596 non-null  object\n",
      " 2   book_table    29596 non-null  object\n",
      " 3   rate          29596 non-null  object\n",
      " 4   votes         29596 non-null  int64 \n",
      " 5   location      29596 non-null  object\n",
      " 6   rest_type     29596 non-null  object\n",
      " 7   price         29596 non-null  object\n",
      " 8   meal_type     29596 non-null  object\n",
      "dtypes: int64(1), object(8)\n",
      "memory usage: 2.3+ MB\n"
     ]
    }
   ],
   "source": [
    "df.drop_duplicates(inplace=True)\n",
    "df.info()"
   ]
  },
  {
   "cell_type": "markdown",
   "metadata": {},
   "source": [
    "_Shows how many data entries have left_"
   ]
  },
  {
   "cell_type": "markdown",
   "metadata": {},
   "source": [
    "#### _Data cleaning --- drop address column_\n",
    "\n",
    "_The following code drop address column of the dataframe_"
   ]
  },
  {
   "cell_type": "code",
   "execution_count": 7,
   "metadata": {},
   "outputs": [],
   "source": [
    "def drop_address(df):\n",
    "    df.drop(columns=[\"address\"], inplace=True)\n",
    "    return df\n",
    "\n",
    "\n",
    "df = drop_address(df)"
   ]
  },
  {
   "cell_type": "markdown",
   "metadata": {},
   "source": [
    "#### _Data tranformation --- transform rate and price_\n",
    "\n",
    "_Transfrom rate in table from \"x.y/5.0\" to \"x.y\" and transform the price from \"x,xxx\" into \"xxxx\" for changing them into numeric type in the further section._"
   ]
  },
  {
   "cell_type": "code",
   "execution_count": 8,
   "metadata": {},
   "outputs": [
    {
     "data": {
      "text/html": [
       "<div>\n",
       "<style scoped>\n",
       "    .dataframe tbody tr th:only-of-type {\n",
       "        vertical-align: middle;\n",
       "    }\n",
       "\n",
       "    .dataframe tbody tr th {\n",
       "        vertical-align: top;\n",
       "    }\n",
       "\n",
       "    .dataframe thead th {\n",
       "        text-align: right;\n",
       "    }\n",
       "</style>\n",
       "<table border=\"1\" class=\"dataframe\">\n",
       "  <thead>\n",
       "    <tr style=\"text-align: right;\">\n",
       "      <th></th>\n",
       "      <th>rate</th>\n",
       "      <th>price</th>\n",
       "    </tr>\n",
       "  </thead>\n",
       "  <tbody>\n",
       "    <tr>\n",
       "      <th>0</th>\n",
       "      <td>4.1</td>\n",
       "      <td>800</td>\n",
       "    </tr>\n",
       "    <tr>\n",
       "      <th>1</th>\n",
       "      <td>4.1</td>\n",
       "      <td>800</td>\n",
       "    </tr>\n",
       "    <tr>\n",
       "      <th>2</th>\n",
       "      <td>3.8</td>\n",
       "      <td>800</td>\n",
       "    </tr>\n",
       "    <tr>\n",
       "      <th>3</th>\n",
       "      <td>3.7</td>\n",
       "      <td>300</td>\n",
       "    </tr>\n",
       "    <tr>\n",
       "      <th>4</th>\n",
       "      <td>3.8</td>\n",
       "      <td>600</td>\n",
       "    </tr>\n",
       "  </tbody>\n",
       "</table>\n",
       "</div>"
      ],
      "text/plain": [
       "   rate  price\n",
       "0   4.1    800\n",
       "1   4.1    800\n",
       "2   3.8    800\n",
       "3   3.7    300\n",
       "4   3.8    600"
      ]
     },
     "execution_count": 8,
     "metadata": {},
     "output_type": "execute_result"
    }
   ],
   "source": [
    "def transform_rate(df):\n",
    "    rates = []\n",
    "    for _, row in df.iterrows():\n",
    "        rate_in_float = float(row[\"rate\"].split(\"/\")[0])\n",
    "        rates.append(rate_in_float)\n",
    "    df[\"rate\"] = rates\n",
    "    return df\n",
    "\n",
    "\n",
    "def transform_price(df):\n",
    "    prices = []\n",
    "    for _, row in df.iterrows():\n",
    "        price_s = row[\"price\"]\n",
    "        price_s = price_s.replace(\",\", \"\")\n",
    "        price = int(price_s)\n",
    "        prices.append(price)\n",
    "    df[\"price\"] = prices\n",
    "    return df\n",
    "\n",
    "\n",
    "df = transform_rate(df)\n",
    "df = transform_price(df)\n",
    "\n",
    "df[[\"rate\", \"price\"]].head()"
   ]
  },
  {
   "cell_type": "markdown",
   "metadata": {},
   "source": [
    "_The rate and price column after tranformation._"
   ]
  },
  {
   "cell_type": "markdown",
   "metadata": {},
   "source": [
    "#### _Data transformation --- transform location into cooridnate_\n",
    "\n",
    "_The following code gets all the location in the table, then get their corresponding latitude and longitude._"
   ]
  },
  {
   "cell_type": "code",
   "execution_count": 9,
   "metadata": {},
   "outputs": [
    {
     "data": {
      "text/plain": [
       "{'Banashankari': (12.9152208, 77.573598),\n",
       " 'Basavanagudi': (12.9417261, 77.5755021),\n",
       " 'Mysore Road': (12.9597523, 77.5561291),\n",
       " 'Jayanagar': (12.9292731, 77.5824229),\n",
       " 'Kumaraswamy Layout': (12.9081487, 77.5553179),\n",
       " 'Rajarajeshwari Nagar': (12.9274413, 77.5155224),\n",
       " 'Vijay Nagar': (12.96595445, 77.61253320881664),\n",
       " 'Uttarahalli': (12.9055682, 77.5455438),\n",
       " 'JP Nagar': (12.9072515, 77.5782713),\n",
       " 'South Bangalore': (12.9172247, 77.6143995),\n",
       " 'City Market': (12.965717999999999, 77.5762705372058),\n",
       " 'Bannerghatta Road': (12.8870547, 77.5969483),\n",
       " 'BTM': (12.911275849999999, 77.60456543431182),\n",
       " 'Kanakapura Road': (12.9065281, 77.5733344),\n",
       " 'Bommanahalli': (12.9089453, 77.6239038),\n",
       " 'Electronic City': (12.8563536, 77.6636073),\n",
       " 'Wilson Garden': (12.9489339, 77.5968273),\n",
       " 'Shanti Nagar': (12.9575547, 77.5979099),\n",
       " 'Koramangala 5th Block': (12.928080600000001, 77.63071968728623),\n",
       " 'Richmond Road': (12.9649453, 77.5982978),\n",
       " 'HSR': (12.9116225, 77.6388622),\n",
       " 'Koramangala 7th Block': (12.928080600000001, 77.63071968728623),\n",
       " 'Bellandur': (12.93577245, 77.66676103753434),\n",
       " 'Sarjapur Road': (12.9242381, 77.6289059),\n",
       " 'Marathahalli': (12.9552572, 77.6984163),\n",
       " 'Whitefield': (12.9696365, 77.7497448),\n",
       " 'East Bangalore': (12.9845687, 77.73766474151809),\n",
       " 'Old Airport Road': (12.9592241, 77.6615183),\n",
       " 'Indiranagar': (12.9732913, 77.6404672),\n",
       " 'Koramangala 1st Block': (12.928080600000001, 77.63071968728623),\n",
       " 'Frazer Town': (12.996845, 77.6130165),\n",
       " 'MG Road': (12.9741854, 77.6124135),\n",
       " 'Brigade Road': (12.9750605, 77.6080323),\n",
       " 'Lavelle Road': (12.9750062, 77.5998217),\n",
       " 'Church Street': (12.9742939, 77.6525189),\n",
       " 'Ulsoor': (12.9778793, 77.6246697),\n",
       " 'Residency Road': (13.0530002, 77.6204833),\n",
       " 'Shivajinagar': (12.986391, 77.6075416),\n",
       " 'Infantry Road': (12.9831774, 77.595831),\n",
       " 'St. Marks Road': (nan, nan),\n",
       " 'Cunningham Road': (12.9904458, 77.5910041),\n",
       " 'Race Course Road': (12.983801, 77.5808654),\n",
       " 'Commercial Street': (12.9821931, 77.6083132),\n",
       " 'Vasanth Nagar': (12.988721250000001, 77.58516877601824),\n",
       " 'Domlur': (12.9624669, 77.6381958),\n",
       " 'Koramangala 8th Block': (12.9417812, 77.6160146),\n",
       " 'Ejipura': (12.945245, 77.6269144),\n",
       " 'Jeevan Bhima Nagar': (12.9678074, 77.6568367),\n",
       " 'Old Madras Road': (13.0086263, 77.6962756),\n",
       " 'Seshadripuram': (12.9931876, 77.5753419),\n",
       " 'Kammanahalli': (13.0093455, 77.6377094),\n",
       " 'Koramangala 6th Block': (12.9400321, 77.6203272),\n",
       " 'Majestic': (12.9757079, 77.5728757),\n",
       " 'Langford Town': (12.957998, 77.6037312),\n",
       " 'Central Bangalore': (13.0101286, 77.5548006),\n",
       " 'Brookefield': (12.9668213, 77.7168891),\n",
       " 'ITPL Main Road, Whitefield': (12.9805381, 77.7273032),\n",
       " 'Varthur Main Road, Whitefield': (12.9414662, 77.7470942),\n",
       " 'Koramangala 2nd Block': (12.9243509, 77.6255562),\n",
       " 'Koramangala 3rd Block': (12.9271867, 77.6266252),\n",
       " 'Koramangala 4th Block': (12.93433385, 77.63040639553275),\n",
       " 'Koramangala': (13.2923988, 77.7519261),\n",
       " 'Hosur Road': (12.9310963, 77.6140388),\n",
       " 'RT Nagar': (13.0227204, 77.595715),\n",
       " 'Banaswadi': (13.0141618, 77.6518539),\n",
       " 'North Bangalore': (12.9767936, 77.590082),\n",
       " 'Nagawara': (13.0431413, 77.6209093),\n",
       " 'Hennur': (13.0258087, 77.6305067),\n",
       " 'Kalyan Nagar': (13.0221416, 77.6403368),\n",
       " 'HBR Layout': (13.0358698, 77.6323597),\n",
       " 'Rammurthy Nagar': (nan, nan),\n",
       " 'Thippasandra': (12.973936, 77.6509982),\n",
       " 'CV Raman Nagar': (12.9854892, 77.6679809),\n",
       " 'Kaggadasapura': (12.9846713, 77.6790908),\n",
       " 'Kengeri': (12.9176571, 77.4837568),\n",
       " 'Sankey Road': (13.0035092, 77.5837816),\n",
       " 'Malleshwaram': (13.0027353, 77.5703253),\n",
       " 'Sanjay Nagar': (12.9578658, 77.6958748),\n",
       " 'Sadashiv Nagar': (15.8782951, 74.5084834),\n",
       " 'Basaveshwara Nagar': (12.9917539, 77.5383401),\n",
       " 'Rajajinagar': (12.9882338, 77.554883),\n",
       " 'Yeshwantpur': (13.02383, 77.5529215),\n",
       " 'New BEL Road': (13.0343483, 77.5683468),\n",
       " 'West Bangalore': (12.9848519, 77.5400626),\n",
       " 'Magadi Road': (12.987027, 77.5201369),\n",
       " 'Yelahanka': (13.1006982, 77.5963454),\n",
       " 'Sahakara Nagar': (13.0621474, 77.58006135480495),\n",
       " 'Jalahalli': (13.0464531, 77.5483803),\n",
       " 'Hebbal': (13.0382184, 77.5919),\n",
       " 'Nagarbhavi': (12.95961755, 77.51126721318181),\n",
       " 'Peenya': (13.0329419, 77.5273253),\n",
       " 'KR Puram': (13.007516, 77.695935)}"
      ]
     },
     "execution_count": 9,
     "metadata": {},
     "output_type": "execute_result"
    }
   ],
   "source": [
    "def get_geo_info_location(location):\n",
    "    geo_info = geolocator.geocode(location)\n",
    "    if geo_info is None:\n",
    "        return np.nan, np.nan\n",
    "    return geo_info.latitude, geo_info.longitude\n",
    "\n",
    "\n",
    "def get_location_coordinate(df):\n",
    "    all_location = df[\"location\"].unique()\n",
    "    coordinate = dict()\n",
    "    for location in all_location:\n",
    "        coordinate[location] = get_geo_info_location(location + \", Bangalore\")\n",
    "    return coordinate\n",
    "\n",
    "\n",
    "geolocator=Nominatim(user_agent=\"app\")   \n",
    "lat_lon_location = get_location_coordinate(df)\n",
    "lat_lon_location"
   ]
  },
  {
   "cell_type": "markdown",
   "metadata": {},
   "source": [
    "_The output shows all the location and their cooridinates_"
   ]
  },
  {
   "cell_type": "markdown",
   "metadata": {},
   "source": [
    "#### _Data transformation --- encode features_\n",
    "\n",
    "_The following code encodes all the columns to numeric forms for later training processes excepts for rate, price, and votes in which they are in the numeric form already._"
   ]
  },
  {
   "cell_type": "code",
   "execution_count": 10,
   "metadata": {
    "scrolled": true
   },
   "outputs": [
    {
     "data": {
      "text/html": [
       "<div>\n",
       "<style scoped>\n",
       "    .dataframe tbody tr th:only-of-type {\n",
       "        vertical-align: middle;\n",
       "    }\n",
       "\n",
       "    .dataframe tbody tr th {\n",
       "        vertical-align: top;\n",
       "    }\n",
       "\n",
       "    .dataframe thead th {\n",
       "        text-align: right;\n",
       "    }\n",
       "</style>\n",
       "<table border=\"1\" class=\"dataframe\">\n",
       "  <thead>\n",
       "    <tr style=\"text-align: right;\">\n",
       "      <th></th>\n",
       "      <th>online_order</th>\n",
       "      <th>book_table</th>\n",
       "      <th>rate</th>\n",
       "      <th>votes</th>\n",
       "      <th>location</th>\n",
       "      <th>rest_type</th>\n",
       "      <th>price</th>\n",
       "      <th>meal_type</th>\n",
       "    </tr>\n",
       "  </thead>\n",
       "  <tbody>\n",
       "    <tr>\n",
       "      <th>0</th>\n",
       "      <td>0</td>\n",
       "      <td>0</td>\n",
       "      <td>4.1</td>\n",
       "      <td>775</td>\n",
       "      <td>0</td>\n",
       "      <td>0</td>\n",
       "      <td>800</td>\n",
       "      <td>0</td>\n",
       "    </tr>\n",
       "    <tr>\n",
       "      <th>1</th>\n",
       "      <td>0</td>\n",
       "      <td>1</td>\n",
       "      <td>4.1</td>\n",
       "      <td>787</td>\n",
       "      <td>0</td>\n",
       "      <td>0</td>\n",
       "      <td>800</td>\n",
       "      <td>0</td>\n",
       "    </tr>\n",
       "    <tr>\n",
       "      <th>2</th>\n",
       "      <td>0</td>\n",
       "      <td>1</td>\n",
       "      <td>3.8</td>\n",
       "      <td>918</td>\n",
       "      <td>0</td>\n",
       "      <td>1</td>\n",
       "      <td>800</td>\n",
       "      <td>0</td>\n",
       "    </tr>\n",
       "    <tr>\n",
       "      <th>3</th>\n",
       "      <td>1</td>\n",
       "      <td>1</td>\n",
       "      <td>3.7</td>\n",
       "      <td>88</td>\n",
       "      <td>0</td>\n",
       "      <td>2</td>\n",
       "      <td>300</td>\n",
       "      <td>0</td>\n",
       "    </tr>\n",
       "    <tr>\n",
       "      <th>4</th>\n",
       "      <td>1</td>\n",
       "      <td>1</td>\n",
       "      <td>3.8</td>\n",
       "      <td>166</td>\n",
       "      <td>1</td>\n",
       "      <td>0</td>\n",
       "      <td>600</td>\n",
       "      <td>0</td>\n",
       "    </tr>\n",
       "  </tbody>\n",
       "</table>\n",
       "</div>"
      ],
      "text/plain": [
       "   online_order  book_table  rate  votes  location  rest_type  price  \\\n",
       "0             0           0   4.1    775         0          0    800   \n",
       "1             0           1   4.1    787         0          0    800   \n",
       "2             0           1   3.8    918         0          1    800   \n",
       "3             1           1   3.7     88         0          2    300   \n",
       "4             1           1   3.8    166         1          0    600   \n",
       "\n",
       "   meal_type  \n",
       "0          0  \n",
       "1          0  \n",
       "2          0  \n",
       "3          0  \n",
       "4          0  "
      ]
     },
     "execution_count": 10,
     "metadata": {},
     "output_type": "execute_result"
    }
   ],
   "source": [
    "def Encode(df):\n",
    "    column_dict = dict()\n",
    "    for column in df.columns[~df.columns.isin(['rate', 'price', 'votes'])]:\n",
    "        df[column], column_dict[column] = df[column].factorize()\n",
    "    return df, column_dict\n",
    "\n",
    "\n",
    "df_float, column_dict = Encode(df.copy())\n",
    "df_float.head()"
   ]
  },
  {
   "cell_type": "markdown",
   "metadata": {},
   "source": [
    "_The output shows all the values as a number in the table._"
   ]
  },
  {
   "cell_type": "markdown",
   "metadata": {},
   "source": [
    "#### _Data transformation --- encode feature for prediction_\n",
    "\n",
    "_The following code encodes all the columns to numeric forms for later training processes excepts for rate, price, and votes in which they are in the numeric form already._"
   ]
  },
  {
   "cell_type": "code",
   "execution_count": 11,
   "metadata": {
    "scrolled": true
   },
   "outputs": [],
   "source": [
    "def encode_predict(df):\n",
    "    df_encode = df.copy()\n",
    "    for column in df.columns[~df.columns.isin(['rate', 'price', 'votes'])]:\n",
    "        index = list(column_dict[column]).index(df[column].item())\n",
    "        df_encode[column] = index\n",
    "    return df_encode\n",
    "\n",
    "\n",
    "df_example = df[:1].iloc[:,[0, 1, 4, 5, 6, 7]]\n",
    "df_exm_encode = encode_predict(df_example)"
   ]
  },
  {
   "cell_type": "markdown",
   "metadata": {},
   "source": [
    "_The output shows all the values as a number in the table._"
   ]
  },
  {
   "cell_type": "markdown",
   "metadata": {},
   "source": [
    "#### _Model training and evaluation --- data division_\n",
    "\n",
    "_The following code divides data into train data and test data for model training and validation, respectively._"
   ]
  },
  {
   "cell_type": "code",
   "execution_count": 12,
   "metadata": {},
   "outputs": [
    {
     "data": {
      "text/html": [
       "<div>\n",
       "<style scoped>\n",
       "    .dataframe tbody tr th:only-of-type {\n",
       "        vertical-align: middle;\n",
       "    }\n",
       "\n",
       "    .dataframe tbody tr th {\n",
       "        vertical-align: top;\n",
       "    }\n",
       "\n",
       "    .dataframe thead th {\n",
       "        text-align: right;\n",
       "    }\n",
       "</style>\n",
       "<table border=\"1\" class=\"dataframe\">\n",
       "  <thead>\n",
       "    <tr style=\"text-align: right;\">\n",
       "      <th></th>\n",
       "      <th>online_order</th>\n",
       "      <th>book_table</th>\n",
       "      <th>location</th>\n",
       "      <th>rest_type</th>\n",
       "      <th>price</th>\n",
       "      <th>meal_type</th>\n",
       "    </tr>\n",
       "  </thead>\n",
       "  <tbody>\n",
       "    <tr>\n",
       "      <th>51429</th>\n",
       "      <td>1</td>\n",
       "      <td>1</td>\n",
       "      <td>25</td>\n",
       "      <td>2</td>\n",
       "      <td>300</td>\n",
       "      <td>4</td>\n",
       "    </tr>\n",
       "    <tr>\n",
       "      <th>47599</th>\n",
       "      <td>0</td>\n",
       "      <td>1</td>\n",
       "      <td>1</td>\n",
       "      <td>2</td>\n",
       "      <td>200</td>\n",
       "      <td>2</td>\n",
       "    </tr>\n",
       "    <tr>\n",
       "      <th>47100</th>\n",
       "      <td>1</td>\n",
       "      <td>1</td>\n",
       "      <td>52</td>\n",
       "      <td>2</td>\n",
       "      <td>300</td>\n",
       "      <td>4</td>\n",
       "    </tr>\n",
       "    <tr>\n",
       "      <th>46558</th>\n",
       "      <td>1</td>\n",
       "      <td>1</td>\n",
       "      <td>6</td>\n",
       "      <td>0</td>\n",
       "      <td>600</td>\n",
       "      <td>2</td>\n",
       "    </tr>\n",
       "    <tr>\n",
       "      <th>17827</th>\n",
       "      <td>0</td>\n",
       "      <td>1</td>\n",
       "      <td>72</td>\n",
       "      <td>2</td>\n",
       "      <td>150</td>\n",
       "      <td>2</td>\n",
       "    </tr>\n",
       "  </tbody>\n",
       "</table>\n",
       "</div>"
      ],
      "text/plain": [
       "       online_order  book_table  location  rest_type  price  meal_type\n",
       "51429             1           1        25          2    300          4\n",
       "47599             0           1         1          2    200          2\n",
       "47100             1           1        52          2    300          4\n",
       "46558             1           1         6          0    600          2\n",
       "17827             0           1        72          2    150          2"
      ]
     },
     "execution_count": 12,
     "metadata": {},
     "output_type": "execute_result"
    }
   ],
   "source": [
    "def get_train_test_data(df_float):\n",
    "    x = df_float.iloc[:,[0, 1, 4, 5, 6, 7]]\n",
    "    y = df_float.iloc[:,[2, 3]]\n",
    "    x_train, x_test, y_train, y_test = train_test_split(x, y, test_size=.1, random_state=111)\n",
    "    return x_train, x_test, y_train, y_test\n",
    "\n",
    "\n",
    "x_train, x_test, y_train, y_test = get_train_test_data(df_float)\n",
    "x_train.head()"
   ]
  },
  {
   "cell_type": "markdown",
   "metadata": {},
   "source": [
    "_The output shows the first 5 of the train data._"
   ]
  },
  {
   "cell_type": "markdown",
   "metadata": {},
   "source": [
    "#### _Model training --- decision trees_\n",
    "\n",
    "_The following code uses decision tree regression to predict the outcome._"
   ]
  },
  {
   "cell_type": "code",
   "execution_count": 13,
   "metadata": {},
   "outputs": [],
   "source": [
    "def train_decision_tree(x_train, y_train):\n",
    "    decision_tree = DecisionTreeRegressor()\n",
    "    decision_tree.fit(x_train, y_train)\n",
    "    return decision_tree\n",
    "\n",
    "\n",
    "DT_model = train_decision_tree(x_train, y_train)"
   ]
  },
  {
   "cell_type": "markdown",
   "metadata": {},
   "source": [
    "#### _Model training --- linear regression_\n",
    "\n",
    "_The following code uses linear regression to predict the outcome._"
   ]
  },
  {
   "cell_type": "code",
   "execution_count": 14,
   "metadata": {},
   "outputs": [],
   "source": [
    "def train_linear_regression(x_train, y_train):\n",
    "    linear_regression = LinearRegression()\n",
    "    linear_regression.fit(x_train, y_train)\n",
    "    return linear_regression\n",
    "\n",
    "\n",
    "LR_model = train_linear_regression(x_train, y_train)"
   ]
  },
  {
   "cell_type": "markdown",
   "metadata": {},
   "source": [
    "#### _Model training --- random forest_\n",
    "\n",
    "_The following code uses random forest regression to predict the outcome._"
   ]
  },
  {
   "cell_type": "code",
   "execution_count": 15,
   "metadata": {},
   "outputs": [],
   "source": [
    "def train_random_forest(x_train, y_train):\n",
    "    random_forest = RandomForestRegressor(n_estimators=500, min_samples_leaf=.0001)\n",
    "    random_forest.fit(x_train, y_train)\n",
    "    return random_forest\n",
    "\n",
    "\n",
    "RF_model = train_random_forest(x_train, y_train)"
   ]
  },
  {
   "cell_type": "markdown",
   "metadata": {},
   "source": [
    "#### _Model training --- extra trees_\n",
    "\n",
    "_The following code uses extra tree regression to predict the outcome._"
   ]
  },
  {
   "cell_type": "code",
   "execution_count": 16,
   "metadata": {},
   "outputs": [],
   "source": [
    "def train_extra_tree(x_train, y_train):\n",
    "    extra_tree = ExtraTreesRegressor(n_estimators = 100)\n",
    "    extra_tree.fit(x_train, y_train)\n",
    "    return extra_tree\n",
    "\n",
    "\n",
    "ET_model = train_extra_tree(x_train, y_train)"
   ]
  },
  {
   "cell_type": "markdown",
   "metadata": {},
   "source": [
    "#### _Model evaulation --- general model evaluation_\n",
    "\n",
    "_The following code use the R2 score to show how well the model given at predicting test data for all the models below._"
   ]
  },
  {
   "cell_type": "code",
   "execution_count": 17,
   "metadata": {},
   "outputs": [],
   "source": [
    "def test_model(model, x_test, y_test):\n",
    "    y_predict=model.predict(x_test)\n",
    "    score = r2_score(y_test, y_predict)\n",
    "    return score"
   ]
  },
  {
   "cell_type": "markdown",
   "metadata": {},
   "source": [
    "#### _Model evaulation --- all 4 model evalutate_\n",
    "\n",
    "_The following code use the R2 score to show how well the model given at predicting test data for all the models below._"
   ]
  },
  {
   "cell_type": "code",
   "execution_count": 18,
   "metadata": {},
   "outputs": [
    {
     "data": {
      "text/html": [
       "<div>\n",
       "<style scoped>\n",
       "    .dataframe tbody tr th:only-of-type {\n",
       "        vertical-align: middle;\n",
       "    }\n",
       "\n",
       "    .dataframe tbody tr th {\n",
       "        vertical-align: top;\n",
       "    }\n",
       "\n",
       "    .dataframe thead th {\n",
       "        text-align: right;\n",
       "    }\n",
       "</style>\n",
       "<table border=\"1\" class=\"dataframe\">\n",
       "  <thead>\n",
       "    <tr style=\"text-align: right;\">\n",
       "      <th></th>\n",
       "      <th>Model</th>\n",
       "      <th>R^2 Score</th>\n",
       "    </tr>\n",
       "  </thead>\n",
       "  <tbody>\n",
       "    <tr>\n",
       "      <th>0</th>\n",
       "      <td>Extra Trees</td>\n",
       "      <td>0.712553</td>\n",
       "    </tr>\n",
       "    <tr>\n",
       "      <th>1</th>\n",
       "      <td>Decision Tree</td>\n",
       "      <td>0.704545</td>\n",
       "    </tr>\n",
       "    <tr>\n",
       "      <th>2</th>\n",
       "      <td>Random Forest</td>\n",
       "      <td>0.696247</td>\n",
       "    </tr>\n",
       "    <tr>\n",
       "      <th>3</th>\n",
       "      <td>Linear Regression</td>\n",
       "      <td>0.239628</td>\n",
       "    </tr>\n",
       "  </tbody>\n",
       "</table>\n",
       "</div>"
      ],
      "text/plain": [
       "               Model  R^2 Score\n",
       "0        Extra Trees   0.712553\n",
       "1      Decision Tree   0.704545\n",
       "2      Random Forest   0.696247\n",
       "3  Linear Regression   0.239628"
      ]
     },
     "execution_count": 18,
     "metadata": {},
     "output_type": "execute_result"
    }
   ],
   "source": [
    "RF_score = test_model(RF_model, x_test, y_test)\n",
    "DT_score = test_model(DT_model, x_test, y_test)\n",
    "LR_score = test_model(LR_model, x_test, y_test)\n",
    "ET_score = test_model(ET_model, x_test, y_test)\n",
    "\n",
    "\n",
    "evaluation = pd.DataFrame({\"Model\": [\"Random Forest\", \"Decision Tree\", \"Linear Regression\", \"Extra Trees\"], \n",
    "                           \"R^2 Score\": [RF_score, DT_score, LR_score, ET_score]})\n",
    "\n",
    "evaluation.sort_values(by = 'R^2 Score', ascending = False, ignore_index=True)"
   ]
  },
  {
   "cell_type": "markdown",
   "metadata": {},
   "source": [
    "The table contains models and their corresponding R2 score in predicting restaurants' success."
   ]
  },
  {
   "cell_type": "markdown",
   "metadata": {},
   "source": [
    "#### _Data analysis part I_\n",
    "\n",
    "_The following code divide dataframe into n_cluster different clusters._"
   ]
  },
  {
   "cell_type": "code",
   "execution_count": 19,
   "metadata": {},
   "outputs": [],
   "source": [
    "def success_cluster(n_cluster=5):\n",
    "    df_cluster = df.copy()\n",
    "    kmean = KMeans(n_clusters=n_cluster, random_state=100).fit(df_cluster[[\"rate\", \"votes\"]])\n",
    "    df_cluster[\"cluster\"] = kmean.labels_\n",
    "    return df_cluster"
   ]
  },
  {
   "cell_type": "markdown",
   "metadata": {},
   "source": [
    "#### _Data analysis part II_\n",
    "\n",
    "_The following code show the data distribution of 3 numeric features._"
   ]
  },
  {
   "cell_type": "code",
   "execution_count": 20,
   "metadata": {
    "scrolled": true
   },
   "outputs": [
    {
     "data": {
      "text/html": [
       "<div>\n",
       "<style scoped>\n",
       "    .dataframe tbody tr th:only-of-type {\n",
       "        vertical-align: middle;\n",
       "    }\n",
       "\n",
       "    .dataframe tbody tr th {\n",
       "        vertical-align: top;\n",
       "    }\n",
       "\n",
       "    .dataframe thead th {\n",
       "        text-align: right;\n",
       "    }\n",
       "</style>\n",
       "<table border=\"1\" class=\"dataframe\">\n",
       "  <thead>\n",
       "    <tr style=\"text-align: right;\">\n",
       "      <th></th>\n",
       "      <th>rate</th>\n",
       "      <th>votes</th>\n",
       "      <th>price</th>\n",
       "    </tr>\n",
       "  </thead>\n",
       "  <tbody>\n",
       "    <tr>\n",
       "      <th>count</th>\n",
       "      <td>29596.000000</td>\n",
       "      <td>29596.000000</td>\n",
       "      <td>29596.000000</td>\n",
       "    </tr>\n",
       "    <tr>\n",
       "      <th>mean</th>\n",
       "      <td>3.732795</td>\n",
       "      <td>425.418807</td>\n",
       "      <td>634.191039</td>\n",
       "    </tr>\n",
       "    <tr>\n",
       "      <th>std</th>\n",
       "      <td>0.452360</td>\n",
       "      <td>1007.120697</td>\n",
       "      <td>481.071328</td>\n",
       "    </tr>\n",
       "    <tr>\n",
       "      <th>min</th>\n",
       "      <td>1.800000</td>\n",
       "      <td>0.000000</td>\n",
       "      <td>40.000000</td>\n",
       "    </tr>\n",
       "    <tr>\n",
       "      <th>25%</th>\n",
       "      <td>3.400000</td>\n",
       "      <td>24.000000</td>\n",
       "      <td>300.000000</td>\n",
       "    </tr>\n",
       "    <tr>\n",
       "      <th>50%</th>\n",
       "      <td>3.800000</td>\n",
       "      <td>93.000000</td>\n",
       "      <td>500.000000</td>\n",
       "    </tr>\n",
       "    <tr>\n",
       "      <th>75%</th>\n",
       "      <td>4.100000</td>\n",
       "      <td>356.000000</td>\n",
       "      <td>800.000000</td>\n",
       "    </tr>\n",
       "    <tr>\n",
       "      <th>max</th>\n",
       "      <td>4.900000</td>\n",
       "      <td>16832.000000</td>\n",
       "      <td>6000.000000</td>\n",
       "    </tr>\n",
       "  </tbody>\n",
       "</table>\n",
       "</div>"
      ],
      "text/plain": [
       "               rate         votes         price\n",
       "count  29596.000000  29596.000000  29596.000000\n",
       "mean       3.732795    425.418807    634.191039\n",
       "std        0.452360   1007.120697    481.071328\n",
       "min        1.800000      0.000000     40.000000\n",
       "25%        3.400000     24.000000    300.000000\n",
       "50%        3.800000     93.000000    500.000000\n",
       "75%        4.100000    356.000000    800.000000\n",
       "max        4.900000  16832.000000   6000.000000"
      ]
     },
     "execution_count": 20,
     "metadata": {},
     "output_type": "execute_result"
    }
   ],
   "source": [
    "df.describe()"
   ]
  },
  {
   "cell_type": "markdown",
   "metadata": {},
   "source": [
    "_The output shows the distribution of rate, votes, and price._"
   ]
  },
  {
   "cell_type": "markdown",
   "metadata": {},
   "source": [
    "#### _Data analysis part III_\n",
    "\n",
    "_The following code divide dataframe into n_cluster different clusters._"
   ]
  },
  {
   "cell_type": "code",
   "execution_count": 21,
   "metadata": {},
   "outputs": [],
   "source": [
    "def predict(model, restaurant_plan):\n",
    "    plan_encode = encode_predict(restaurant_plan)\n",
    "    return model.predict(plan_encode)"
   ]
  },
  {
   "cell_type": "markdown",
   "metadata": {},
   "source": [
    "#### _Data analysis part IV_\n",
    "\n",
    "_The following code provide an overview for the feature price which are going to be used in Objective 1._"
   ]
  },
  {
   "cell_type": "code",
   "execution_count": 22,
   "metadata": {},
   "outputs": [
    {
     "data": {
      "text/plain": [
       "count    29596.000000\n",
       "mean       634.191039\n",
       "std        481.071328\n",
       "min         40.000000\n",
       "25%        300.000000\n",
       "50%        500.000000\n",
       "75%        800.000000\n",
       "max       6000.000000\n",
       "Name: price, dtype: float64"
      ]
     },
     "execution_count": 22,
     "metadata": {},
     "output_type": "execute_result"
    }
   ],
   "source": [
    "df[\"price\"].describe()"
   ]
  },
  {
   "cell_type": "code",
   "execution_count": 23,
   "metadata": {
    "scrolled": false
   },
   "outputs": [
    {
     "data": {
      "text/plain": [
       "BTM                      2091\n",
       "Indiranagar              1581\n",
       "Koramangala 5th Block    1557\n",
       "Whitefield               1540\n",
       "HSR                      1477\n",
       "Marathahalli             1367\n",
       "JP Nagar                 1150\n",
       "Jayanagar                1114\n",
       "Bellandur                 952\n",
       "Bannerghatta Road         856\n",
       "Name: location, dtype: int64"
      ]
     },
     "execution_count": 23,
     "metadata": {},
     "output_type": "execute_result"
    }
   ],
   "source": [
    "df['location'].value_counts()[:10]"
   ]
  },
  {
   "cell_type": "code",
   "execution_count": 24,
   "metadata": {
    "scrolled": false
   },
   "outputs": [
    {
     "data": {
      "text/html": [
       "<div>\n",
       "<style scoped>\n",
       "    .dataframe tbody tr th:only-of-type {\n",
       "        vertical-align: middle;\n",
       "    }\n",
       "\n",
       "    .dataframe tbody tr th {\n",
       "        vertical-align: top;\n",
       "    }\n",
       "\n",
       "    .dataframe thead th {\n",
       "        text-align: right;\n",
       "    }\n",
       "</style>\n",
       "<table border=\"1\" class=\"dataframe\">\n",
       "  <thead>\n",
       "    <tr style=\"text-align: right;\">\n",
       "      <th></th>\n",
       "      <th>price</th>\n",
       "    </tr>\n",
       "    <tr>\n",
       "      <th>location</th>\n",
       "      <th></th>\n",
       "    </tr>\n",
       "  </thead>\n",
       "  <tbody>\n",
       "    <tr>\n",
       "      <th>Nagarbhavi</th>\n",
       "      <td>250.000000</td>\n",
       "    </tr>\n",
       "    <tr>\n",
       "      <th>North Bangalore</th>\n",
       "      <td>300.000000</td>\n",
       "    </tr>\n",
       "    <tr>\n",
       "      <th>Peenya</th>\n",
       "      <td>300.000000</td>\n",
       "    </tr>\n",
       "    <tr>\n",
       "      <th>Yelahanka</th>\n",
       "      <td>325.000000</td>\n",
       "    </tr>\n",
       "    <tr>\n",
       "      <th>South Bangalore</th>\n",
       "      <td>326.190476</td>\n",
       "    </tr>\n",
       "    <tr>\n",
       "      <th>...</th>\n",
       "      <td>...</td>\n",
       "    </tr>\n",
       "    <tr>\n",
       "      <th>Infantry Road</th>\n",
       "      <td>1259.876543</td>\n",
       "    </tr>\n",
       "    <tr>\n",
       "      <th>MG Road</th>\n",
       "      <td>1296.327684</td>\n",
       "    </tr>\n",
       "    <tr>\n",
       "      <th>Race Course Road</th>\n",
       "      <td>1380.434783</td>\n",
       "    </tr>\n",
       "    <tr>\n",
       "      <th>Lavelle Road</th>\n",
       "      <td>1435.488127</td>\n",
       "    </tr>\n",
       "    <tr>\n",
       "      <th>Sankey Road</th>\n",
       "      <td>2522.500000</td>\n",
       "    </tr>\n",
       "  </tbody>\n",
       "</table>\n",
       "<p>92 rows × 1 columns</p>\n",
       "</div>"
      ],
      "text/plain": [
       "                        price\n",
       "location                     \n",
       "Nagarbhavi         250.000000\n",
       "North Bangalore    300.000000\n",
       "Peenya             300.000000\n",
       "Yelahanka          325.000000\n",
       "South Bangalore    326.190476\n",
       "...                       ...\n",
       "Infantry Road     1259.876543\n",
       "MG Road           1296.327684\n",
       "Race Course Road  1380.434783\n",
       "Lavelle Road      1435.488127\n",
       "Sankey Road       2522.500000\n",
       "\n",
       "[92 rows x 1 columns]"
      ]
     },
     "execution_count": 24,
     "metadata": {},
     "output_type": "execute_result"
    }
   ],
   "source": [
    "pd.DataFrame(df.groupby(['location'])['price'].mean()).sort_values([\"price\"])"
   ]
  },
  {
   "cell_type": "code",
   "execution_count": 25,
   "metadata": {},
   "outputs": [
    {
     "data": {
      "text/html": [
       "<div>\n",
       "<style scoped>\n",
       "    .dataframe tbody tr th:only-of-type {\n",
       "        vertical-align: middle;\n",
       "    }\n",
       "\n",
       "    .dataframe tbody tr th {\n",
       "        vertical-align: top;\n",
       "    }\n",
       "\n",
       "    .dataframe thead th {\n",
       "        text-align: right;\n",
       "    }\n",
       "</style>\n",
       "<table border=\"1\" class=\"dataframe\">\n",
       "  <thead>\n",
       "    <tr style=\"text-align: right;\">\n",
       "      <th></th>\n",
       "      <th>price</th>\n",
       "    </tr>\n",
       "    <tr>\n",
       "      <th>location</th>\n",
       "      <th></th>\n",
       "    </tr>\n",
       "  </thead>\n",
       "  <tbody>\n",
       "    <tr>\n",
       "      <th>North Bangalore</th>\n",
       "      <td>250</td>\n",
       "    </tr>\n",
       "    <tr>\n",
       "      <th>Nagarbhavi</th>\n",
       "      <td>250</td>\n",
       "    </tr>\n",
       "    <tr>\n",
       "      <th>Magadi Road</th>\n",
       "      <td>300</td>\n",
       "    </tr>\n",
       "    <tr>\n",
       "      <th>Varthur Main Road, Whitefield</th>\n",
       "      <td>300</td>\n",
       "    </tr>\n",
       "    <tr>\n",
       "      <th>Basavanagudi</th>\n",
       "      <td>300</td>\n",
       "    </tr>\n",
       "    <tr>\n",
       "      <th>...</th>\n",
       "      <td>...</td>\n",
       "    </tr>\n",
       "    <tr>\n",
       "      <th>Race Course Road</th>\n",
       "      <td>1100</td>\n",
       "    </tr>\n",
       "    <tr>\n",
       "      <th>Infantry Road</th>\n",
       "      <td>1100</td>\n",
       "    </tr>\n",
       "    <tr>\n",
       "      <th>MG Road</th>\n",
       "      <td>1200</td>\n",
       "    </tr>\n",
       "    <tr>\n",
       "      <th>Lavelle Road</th>\n",
       "      <td>1400</td>\n",
       "    </tr>\n",
       "    <tr>\n",
       "      <th>Sankey Road</th>\n",
       "      <td>2400</td>\n",
       "    </tr>\n",
       "  </tbody>\n",
       "</table>\n",
       "<p>92 rows × 1 columns</p>\n",
       "</div>"
      ],
      "text/plain": [
       "                               price\n",
       "location                            \n",
       "North Bangalore                  250\n",
       "Nagarbhavi                       250\n",
       "Magadi Road                      300\n",
       "Varthur Main Road, Whitefield    300\n",
       "Basavanagudi                     300\n",
       "...                              ...\n",
       "Race Course Road                1100\n",
       "Infantry Road                   1100\n",
       "MG Road                         1200\n",
       "Lavelle Road                    1400\n",
       "Sankey Road                     2400\n",
       "\n",
       "[92 rows x 1 columns]"
      ]
     },
     "execution_count": 25,
     "metadata": {},
     "output_type": "execute_result"
    }
   ],
   "source": [
    "pd.DataFrame(df.groupby(['location'])['price'].median()).sort_values([\"price\"])"
   ]
  },
  {
   "cell_type": "code",
   "execution_count": 26,
   "metadata": {},
   "outputs": [
    {
     "data": {
      "text/plain": [
       "online_order    0.855183\n",
       "book_table      0.855183\n",
       "rate            0.855183\n",
       "votes           0.855183\n",
       "location        0.855183\n",
       "rest_type       0.855183\n",
       "price           0.855183\n",
       "meal_type       0.855183\n",
       "dtype: float64"
      ]
     },
     "execution_count": 26,
     "metadata": {},
     "output_type": "execute_result"
    }
   ],
   "source": [
    "df[df[\"price\"] <= 1000].count()/ df.count()"
   ]
  },
  {
   "cell_type": "code",
   "execution_count": 27,
   "metadata": {},
   "outputs": [
    {
     "data": {
      "text/plain": [
       "online_order    0.128801\n",
       "book_table      0.128801\n",
       "rate            0.128801\n",
       "votes           0.128801\n",
       "location        0.128801\n",
       "rest_type       0.128801\n",
       "price           0.128801\n",
       "meal_type       0.128801\n",
       "dtype: float64"
      ]
     },
     "execution_count": 27,
     "metadata": {},
     "output_type": "execute_result"
    }
   ],
   "source": [
    "df[(1000 < df[\"price\"]) &  (df[\"price\"] <= 2000)].count()/ df.count()"
   ]
  },
  {
   "cell_type": "markdown",
   "metadata": {},
   "source": [
    "#### _Visualisation --- heat map_\n",
    "\n",
    "The following cells produce several heat maps based on different information to be used later in Objective 1"
   ]
  },
  {
   "cell_type": "code",
   "execution_count": 28,
   "metadata": {
    "scrolled": false
   },
   "outputs": [],
   "source": [
    "def heatmap_generate(lat_lon_location, location_info, need_clustering=False):\n",
    "    map_info = []\n",
    "    for location in location_info:\n",
    "        if not np.isnan(lat_lon_location[location][0]):\n",
    "            map_info.append(list(lat_lon_location[location]) + [float(location_info[location]) ** 2])\n",
    "    base_map = Map(location=[12.9716, 77.5946], zoom_start=11)\n",
    "    HeatMap(map_info ,zoom=20,radius=15).add_to(base_map)\n",
    "    if need_clustering:\n",
    "        FastMarkerCluster(map_info).add_to(base_map)\n",
    "    return base_map"
   ]
  },
  {
   "cell_type": "code",
   "execution_count": 29,
   "metadata": {},
   "outputs": [],
   "source": [
    "def generate_count_heatmap():\n",
    "    location_count = dict(df['location'].value_counts())\n",
    "    heatmap_count = heatmap_generate(lat_lon_location, location_count)\n",
    "    return heatmap_count"
   ]
  },
  {
   "cell_type": "code",
   "execution_count": 30,
   "metadata": {},
   "outputs": [],
   "source": [
    "def generate_avg_price_heatmap():\n",
    "    avg_price = dict(df.groupby(['location'])['price'].mean())\n",
    "    heatmap_avg = heatmap_generate(lat_lon_location, avg_price, need_clustering=True)\n",
    "    return heatmap_avg"
   ]
  },
  {
   "cell_type": "code",
   "execution_count": 31,
   "metadata": {},
   "outputs": [],
   "source": [
    "def generate_med_price_heatmap():\n",
    "    med_price = dict(df.groupby(['location'])['price'].median())\n",
    "    heatmap_med = heatmap_generate(lat_lon_location, med_price, need_clustering=True)\n",
    "    return heatmap_med"
   ]
  },
  {
   "cell_type": "markdown",
   "metadata": {},
   "source": [
    "#### _Visualisation --- distribution graph_\n",
    "\n",
    "The following cells produce price distribution."
   ]
  },
  {
   "cell_type": "code",
   "execution_count": 32,
   "metadata": {},
   "outputs": [],
   "source": [
    "def plot_price_dist():\n",
    "    fig, ax = plt.subplots(figsize=[10,4])\n",
    "    sns.distplot(df[\"price\"], ax=ax, axlabel=\"price of restaurant \").set_title(\"Figure 1\")"
   ]
  },
  {
   "cell_type": "markdown",
   "metadata": {},
   "source": [
    "#### _Visualisation --- cluster_\n",
    "\n",
    "The following cells produce several dot plots based on restaurants' cluster."
   ]
  },
  {
   "cell_type": "code",
   "execution_count": 33,
   "metadata": {
    "scrolled": true
   },
   "outputs": [],
   "source": [
    "def plot_rate_votes_cluster(n_cluster=5):\n",
    "    df_cluster = success_cluster(n_cluster)\n",
    "    colors = [\"g\", \"r\", \"b\", \"c\", \"m\", \"y\"]\n",
    "    \n",
    "    plt.figure(figsize = (8,5))\n",
    "    \n",
    "    for i in range(n_cluster):\n",
    "        selected = df_cluster[df_cluster[\"cluster\"] == i]\n",
    "        plt.plot(selected[\"rate\"], selected[\"votes\"], \"ob\", color=colors[i])\n",
    "    plt.xlabel(\"rate\")\n",
    "    plt.ylabel(\"votes\")\n",
    "    plt.title(\"Figure 2\")\n",
    "    plt.show()"
   ]
  },
  {
   "cell_type": "code",
   "execution_count": 34,
   "metadata": {},
   "outputs": [],
   "source": [
    "def plot_rate_price_cluster(n_cluster=5):\n",
    "    df_cluster = success_cluster(n_cluster)\n",
    "    colors = [\"g\", \"r\", \"b\", \"c\", \"m\", \"y\"]\n",
    "    plt.figure(figsize = (8,5))\n",
    "    for i in range(n_cluster):\n",
    "        selected = df_cluster[df_cluster[\"cluster\"] == i]\n",
    "        plt.plot(selected[\"rate\"], selected[\"price\"], \"ob\", color=colors[i])\n",
    "    plt.xlabel(\"rate\")\n",
    "    plt.ylabel(\"price\")\n",
    "    plt.title(\"Figure 3\")\n",
    "    plt.show()"
   ]
  },
  {
   "cell_type": "code",
   "execution_count": 35,
   "metadata": {
    "scrolled": false
   },
   "outputs": [],
   "source": [
    "def plot_votes_price_cluster(n_cluster=5):\n",
    "    df_cluster = success_cluster(n_cluster)\n",
    "    colors = [\"g\", \"r\", \"b\", \"c\", \"m\", \"y\"]\n",
    "    plt.figure(figsize = (8,5))\n",
    "    for i in range(n_cluster):\n",
    "        selected = df_cluster[df_cluster[\"cluster\"] == i]\n",
    "        plt.plot(selected[\"votes\"], selected[\"price\"], \"ob\", color=colors[i])\n",
    "    plt.xlabel(\"votes\")\n",
    "    plt.ylabel(\"price\")\n",
    "    plt.title(\"Figure 4\")\n",
    "    plt.show()"
   ]
  },
  {
   "cell_type": "markdown",
   "metadata": {},
   "source": [
    "# Project Outcome (10 + 10 marks)"
   ]
  },
  {
   "cell_type": "markdown",
   "metadata": {
    "slideshow": {
     "slide_type": "fragment"
    }
   },
   "source": [
    "## Overview of Results\n",
    "Throughout the distribution of price and various heat maps, we can conclude that a reasonable price range for a restaurant should be set between 0 and 2000, which we will discuss in detail in Objective 1 below. Furthermore, the high density of restaurants in the BTM area assumes that BTM has better customers with high competitivity. If we choose to open a restaurant inside BTM, we need to obtain a higher success rate to prevent expected loss.\n",
    "\n",
    "We then apply the selected model to predict the success of a case and, by moving the parameters around, select a more suitable combination of restaurant characteristics to achieve a higher chance of success which explanation will be given in Objective 2. "
   ]
  },
  {
   "cell_type": "markdown",
   "metadata": {},
   "source": [
    "## Objective 1\n",
    "\n",
    "### Explanation of Results\n",
    "\n",
    "Based on the distribution of price shown below and the output of the data analysis part 4 above, we observe that the majority of restaurants are within the 1000 price range, which accounts for approximately 86% of the total. The majority costs of the remaining restaurants are also between 1000 and 2000, which accounts for around 12% of the total. Those two parts occupy over 98%. The average price of a restaurant is 634, and its median is 500. However, in extreme cases, a restaurant can spend up to 6000, and the lowest is 40.\n",
    "\n",
    "We have classified the restaurants according to the K-mean algorithm regarding rate and votes. As shown in Figure 2 below, they are divided into five groups, from cyan, which represents the highest success at the beginning, to green, which is the most mediocre. The number distribution is reversed. In Figure 3, the x-axis is the rate, and the y-axis is the price. We can observe that the more successful the colour is, the more it appears in the bottom right corner of the image, and it indicates that overpriced restaurants cannot reach a higher level of success. In Figure 4, the two dimensions are price and votes, and we can observe that the most successful restaurants are concentrated within the price range of 2000, while the most successful ones are in the price range of 1000-2000.\n",
    "\n",
    "Since the size of the data is not tiny, we calculate the square of the relevant weight in order to make the image show the characteristics of the data better, for example, if the number of restaurants in a region is 10, then its weight on the graph will be 100.\n",
    "The first heat map in Figure 5 shows a heat map of the distribution of restaurants in the city. We can observe three areas of concentration: the BTM area with 2,091 restaurants, with the second to fifth places being around 1,500 restaurants. The second heat map is based on each location's average price, and we have added the cluster function to it. This feature allows the heat map to cluster the restaurants in nearby locations, and it can form different combinations at different scales, giving a more visual representation. In the graph, we can see the red area representing Sankey Road, and it has an average value of 2522, over 1000 higher than Lavelle Road in second place. In third place is the restaurant door on Race Course Road, with a value of 1380. The third heat map is for the median price. We thought that the data distribution would deviate from the mean graph, but they are all very similar. Sankey Road still occupies first place with a value of 2400, and Lavelle Road still occupies second place with a value of 1400.\n",
    "\n",
    "### Visualisation\n",
    "The following graph is named from Figure 1 to 7."
   ]
  },
  {
   "cell_type": "code",
   "execution_count": 36,
   "metadata": {
    "scrolled": true
   },
   "outputs": [
    {
     "data": {
      "image/png": "[encoded data removed]",
      "text/plain": [
       "<Figure size 720x288 with 1 Axes>"
      ]
     },
     "metadata": {
      "needs_background": "light"
     },
     "output_type": "display_data"
    }
   ],
   "source": [
    "plot_price_dist()"
   ]
  },
  {
   "cell_type": "markdown",
   "metadata": {},
   "source": [
    "Figure 1 shows the distribution of price"
   ]
  },
  {
   "cell_type": "code",
   "execution_count": 37,
   "metadata": {
    "scrolled": true
   },
   "outputs": [
    {
     "data": {
      "image/png": "[encoded data removed]",
      "text/plain": [
       "<Figure size 576x360 with 1 Axes>"
      ]
     },
     "metadata": {
      "needs_background": "light"
     },
     "output_type": "display_data"
    }
   ],
   "source": [
    "plot_rate_votes_cluster(n_cluster=5)"
   ]
  },
  {
   "cell_type": "markdown",
   "metadata": {},
   "source": [
    "Figure 2 shows the cluster group across rate and votes."
   ]
  },
  {
   "cell_type": "code",
   "execution_count": 38,
   "metadata": {
    "scrolled": false
   },
   "outputs": [
    {
     "data": {
      "image/png": "[encoded data removed]",
      "text/plain": [
       "<Figure size 576x360 with 1 Axes>"
      ]
     },
     "metadata": {
      "needs_background": "light"
     },
     "output_type": "display_data"
    }
   ],
   "source": [
    "plot_rate_price_cluster(n_cluster=5)"
   ]
  },
  {
   "cell_type": "markdown",
   "metadata": {},
   "source": [
    "Figure 3 shows the cluster group defined by success across rate and price."
   ]
  },
  {
   "cell_type": "code",
   "execution_count": 39,
   "metadata": {
    "scrolled": true
   },
   "outputs": [
    {
     "data": {
      "image/png": "[encoded data removed]",
      "text/plain": [
       "<Figure size 576x360 with 1 Axes>"
      ]
     },
     "metadata": {
      "needs_background": "light"
     },
     "output_type": "display_data"
    }
   ],
   "source": [
    "plot_votes_price_cluster(n_cluster=5)"
   ]
  },
  {
   "cell_type": "markdown",
   "metadata": {},
   "source": [
    "Figure 4 shows the cluster group defined by success across votes and price."
   ]
  },
  {
   "cell_type": "code",
   "execution_count": 40,
   "metadata": {
    "scrolled": false
   },
   "outputs": [
    {
     "data": {
      "text/html": [
       "<div style=\"width:100%;\"><div style=\"position:relative;width:100%;height:0;padding-bottom:60%;\"><span style=\"color:#565656\">Make this Notebook Trusted to load map: File -> Trust Notebook</span><iframe src=\"about:blank\" style=\"position:absolute;width:100%;height:100%;left:0;top:0;border:none !important;\" data-html=%3C%21DOCTYPE%20html%3E%0A%3Chead%3E%20%20%20%20%0A%20%20%20%20%3Cmeta%20http-equiv%3D%22content-type%22%20content%3D%22text/html%3B%20charset%3DUTF-8%22%20/%3E%0A%20%20%20%20%0A%20%20%20%20%20%20%20%20%3Cscript%3E%0A%20%20%20%20%20%20%20%20%20%20%20%20L_NO_TOUCH%20%3D%20false%3B%0A%20%20%20%20%20%20%20%20%20%20%20%20L_DISABLE_3D%20%3D%20false%3B%0A%20%20%20%20%20%20%20%20%3C/script%3E%0A%20%20%20%20%0A%20%20%20%20%3Cstyle%3Ehtml%2C%20body%20%7Bwidth%3A%20100%25%3Bheight%3A%20100%25%3Bmargin%3A%200%3Bpadding%3A%200%3B%7D%3C/style%3E%0A%20%20%20%20%3Cstyle%3E%23map%20%7Bposition%3Aabsolute%3Btop%3A0%3Bbottom%3A0%3Bright%3A0%3Bleft%3A0%3B%7D%3C/style%3E%0A%20%20%20%20%3Cscript%20src%3D%22https%3A//cdn.jsdelivr.net/npm/leaflet%401.6.0/dist/leaflet.js%22%3E%3C/script%3E%0A%20%20%20%20%3Cscript%20src%3D%22https%3A//code.jquery.com/jquery-1.12.4.min.js%22%3E%3C/script%3E%0A%20%20%20%20%3Cscript%20src%3D%22https%3A//maxcdn.bootstrapcdn.com/bootstrap/3.2.0/js/bootstrap.min.js%22%3E%3C/script%3E%0A%20%20%20%20%3Cscript%20src%3D%22https%3A//cdnjs.cloudflare.com/ajax/libs/Leaflet.awesome-markers/2.0.2/leaflet.awesome-markers.js%22%3E%3C/script%3E%0A%20%20%20%20%3Clink%20rel%3D%22stylesheet%22%20href%3D%22https%3A//cdn.jsdelivr.net/npm/leaflet%401.6.0/dist/leaflet.css%22/%3E%0A%20%20%20%20%3Clink%20rel%3D%22stylesheet%22%20href%3D%22https%3A//maxcdn.bootstrapcdn.com/bootstrap/3.2.0/css/bootstrap.min.css%22/%3E%0A%20%20%20%20%3Clink%20rel%3D%22stylesheet%22%20href%3D%22https%3A//maxcdn.bootstrapcdn.com/bootstrap/3.2.0/css/bootstrap-theme.min.css%22/%3E%0A%20%20%20%20%3Clink%20rel%3D%22stylesheet%22%20href%3D%22https%3A//maxcdn.bootstrapcdn.com/font-awesome/4.6.3/css/font-awesome.min.css%22/%3E%0A%20%20%20%20%3Clink%20rel%3D%22stylesheet%22%20href%3D%22https%3A//cdnjs.cloudflare.com/ajax/libs/Leaflet.awesome-markers/2.0.2/leaflet.awesome-markers.css%22/%3E%0A%20%20%20%20%3Clink%20rel%3D%22stylesheet%22%20href%3D%22https%3A//cdn.jsdelivr.net/gh/python-visualization/folium/folium/templates/leaflet.awesome.rotate.min.css%22/%3E%0A%20%20%20%20%0A%20%20%20%20%20%20%20%20%20%20%20%20%3Cmeta%20name%3D%22viewport%22%20content%3D%22width%3Ddevice-width%2C%0A%20%20%20%20%20%20%20%20%20%20%20%20%20%20%20%20initial-scale%3D1.0%2C%20maximum-scale%3D1.0%2C%20user-scalable%3Dno%22%20/%3E%0A%20%20%20%20%20%20%20%20%20%20%20%20%3Cstyle%3E%0A%20%20%20%20%20%20%20%20%20%20%20%20%20%20%20%20%23map_47ed04eefc4d42c687a702bf84d8454a%20%7B%0A%20%20%20%20%20%20%20%20%20%20%20%20%20%20%20%20%20%20%20%20position%3A%20relative%3B%0A%20%20%20%20%20%20%20%20%20%20%20%20%20%20%20%20%20%20%20%20width%3A%20100.0%25%3B%0A%20%20%20%20%20%20%20%20%20%20%20%20%20%20%20%20%20%20%20%20height%3A%20100.0%25%3B%0A%20%20%20%20%20%20%20%20%20%20%20%20%20%20%20%20%20%20%20%20left%3A%200.0%25%3B%0A%20%20%20%20%20%20%20%20%20%20%20%20%20%20%20%20%20%20%20%20top%3A%200.0%25%3B%0A%20%20%20%20%20%20%20%20%20%20%20%20%20%20%20%20%7D%0A%20%20%20%20%20%20%20%20%20%20%20%20%3C/style%3E%0A%20%20%20%20%20%20%20%20%0A%20%20%20%20%3Cscript%20src%3D%22https%3A//cdn.jsdelivr.net/gh/python-visualization/folium%40master/folium/templates/leaflet_heat.min.js%22%3E%3C/script%3E%0A%3C/head%3E%0A%3Cbody%3E%20%20%20%20%0A%20%20%20%20%0A%20%20%20%20%20%20%20%20%20%20%20%20%3Cdiv%20class%3D%22folium-map%22%20id%3D%22map_47ed04eefc4d42c687a702bf84d8454a%22%20%3E%3C/div%3E%0A%20%20%20%20%20%20%20%20%0A%3C/body%3E%0A%3Cscript%3E%20%20%20%20%0A%20%20%20%20%0A%20%20%20%20%20%20%20%20%20%20%20%20var%20map_47ed04eefc4d42c687a702bf84d8454a%20%3D%20L.map%28%0A%20%20%20%20%20%20%20%20%20%20%20%20%20%20%20%20%22map_47ed04eefc4d42c687a702bf84d8454a%22%2C%0A%20%20%20%20%20%20%20%20%20%20%20%20%20%20%20%20%7B%0A%20%20%20%20%20%20%20%20%20%20%20%20%20%20%20%20%20%20%20%20center%3A%20%5B12.9716%2C%2077.5946%5D%2C%0A%20%20%20%20%20%20%20%20%20%20%20%20%20%20%20%20%20%20%20%20crs%3A%20L.CRS.EPSG3857%2C%0A%20%20%20%20%20%20%20%20%20%20%20%20%20%20%20%20%20%20%20%20zoom%3A%2011%2C%0A%20%20%20%20%20%20%20%20%20%20%20%20%20%20%20%20%20%20%20%20zoomControl%3A%20true%2C%0A%20%20%20%20%20%20%20%20%20%20%20%20%20%20%20%20%20%20%20%20preferCanvas%3A%20false%2C%0A%20%20%20%20%20%20%20%20%20%20%20%20%20%20%20%20%7D%0A%20%20%20%20%20%20%20%20%20%20%20%20%29%3B%0A%0A%20%20%20%20%20%20%20%20%20%20%20%20%0A%0A%20%20%20%20%20%20%20%20%0A%20%20%20%20%0A%20%20%20%20%20%20%20%20%20%20%20%20var%20tile_layer_fe8da9e4989a4c8093546f08e78078ef%20%3D%20L.tileLayer%28%0A%20%20%20%20%20%20%20%20%20%20%20%20%20%20%20%20%22https%3A//%7Bs%7D.tile.openstreetmap.org/%7Bz%7D/%7Bx%7D/%7By%7D.png%22%2C%0A%20%20%20%20%20%20%20%20%20%20%20%20%20%20%20%20%7B%22attribution%22%3A%20%22Data%20by%20%5Cu0026copy%3B%20%5Cu003ca%20href%3D%5C%22http%3A//openstreetmap.org%5C%22%5Cu003eOpenStreetMap%5Cu003c/a%5Cu003e%2C%20under%20%5Cu003ca%20href%3D%5C%22http%3A//www.openstreetmap.org/copyright%5C%22%5Cu003eODbL%5Cu003c/a%5Cu003e.%22%2C%20%22detectRetina%22%3A%20false%2C%20%22maxNativeZoom%22%3A%2018%2C%20%22maxZoom%22%3A%2018%2C%20%22minZoom%22%3A%200%2C%20%22noWrap%22%3A%20false%2C%20%22opacity%22%3A%201%2C%20%22subdomains%22%3A%20%22abc%22%2C%20%22tms%22%3A%20false%7D%0A%20%20%20%20%20%20%20%20%20%20%20%20%29.addTo%28map_47ed04eefc4d42c687a702bf84d8454a%29%3B%0A%20%20%20%20%20%20%20%20%0A%20%20%20%20%0A%20%20%20%20%20%20%20%20%20%20%20%20var%20heat_map_7c3291c343e24e00a36b925fe5135055%20%3D%20L.heatLayer%28%0A%20%20%20%20%20%20%20%20%20%20%20%20%20%20%20%20%5B%5B12.911275849999999%2C%2077.60456543431182%2C%204372281.0%5D%2C%20%5B12.9732913%2C%2077.6404672%2C%202499561.0%5D%2C%20%5B12.928080600000001%2C%2077.63071968728623%2C%202424249.0%5D%2C%20%5B12.9696365%2C%2077.7497448%2C%202371600.0%5D%2C%20%5B12.9116225%2C%2077.6388622%2C%202181529.0%5D%2C%20%5B12.9552572%2C%2077.6984163%2C%201868689.0%5D%2C%20%5B12.9072515%2C%2077.5782713%2C%201322500.0%5D%2C%20%5B12.9292731%2C%2077.5824229%2C%201240996.0%5D%2C%20%5B12.93577245%2C%2077.66676103753434%2C%20906304.0%5D%2C%20%5B12.8870547%2C%2077.5969483%2C%20732736.0%5D%2C%20%5B12.8563536%2C%2077.6636073%2C%20669124.0%5D%2C%20%5B12.9242381%2C%2077.6289059%2C%20635209.0%5D%2C%20%5B12.9750605%2C%2077.6080323%2C%20407044.0%5D%2C%20%5B12.928080600000001%2C%2077.63071968728623%2C%20355216.0%5D%2C%20%5B12.9400321%2C%2077.6203272%2C%20320356.0%5D%2C%20%5B12.93433385%2C%2077.63040639553275%2C%20284089.0%5D%2C%20%5B12.9741854%2C%2077.6124135%2C%20281961.0%5D%2C%20%5B12.9668213%2C%2077.7168891%2C%20272484.0%5D%2C%20%5B13.0027353%2C%2077.5703253%2C%20255025.0%5D%2C%20%5B13.0221416%2C%2077.6403368%2C%20252004.0%5D%2C%20%5B12.9778793%2C%2077.6246697%2C%20236196.0%5D%2C%20%5B12.9152208%2C%2077.573598%2C%20220900.0%5D%2C%20%5B13.0343483%2C%2077.5683468%2C%20208849.0%5D%2C%20%5B12.928080600000001%2C%2077.63071968728623%2C%20190969.0%5D%2C%20%5B12.9742939%2C%2077.6525189%2C%20190969.0%5D%2C%20%5B13.0530002%2C%2077.6204833%2C%20163216.0%5D%2C%20%5B12.9417261%2C%2077.5755021%2C%20160000.0%5D%2C%20%5B12.996845%2C%2077.6130165%2C%20156025.0%5D%2C%20%5B12.9750062%2C%2077.5998217%2C%20143641.0%5D%2C%20%5B12.9882338%2C%2077.554883%2C%20138384.0%5D%2C%20%5B12.9592241%2C%2077.6615183%2C%20116281.0%5D%2C%20%5B12.9649453%2C%2077.5982978%2C%20114921.0%5D%2C%20%5B13.0093455%2C%2077.6377094%2C%20114244.0%5D%2C%20%5B13.0141618%2C%2077.6518539%2C%20110889.0%5D%2C%20%5B12.9624669%2C%2077.6381958%2C%2095481.0%5D%2C%20%5B12.9904458%2C%2077.5910041%2C%2080656.0%5D%2C%20%5B12.9678074%2C%2077.6568367%2C%2058081.0%5D%2C%20%5B12.9575547%2C%2077.5979099%2C%2048841.0%5D%2C%20%5B12.988721250000001%2C%2077.58516877601824%2C%2025600.0%5D%2C%20%5B12.9821931%2C%2077.6083132%2C%2019600.0%5D%2C%20%5B12.973936%2C%2077.6509982%2C%2016129.0%5D%2C%20%5B12.9917539%2C%2077.5383401%2C%2015625.0%5D%2C%20%5B12.9417812%2C%2077.6160146%2C%2015376.0%5D%2C%20%5B12.9271867%2C%2077.6266252%2C%2014641.0%5D%2C%20%5B12.9089453%2C%2077.6239038%2C%2014400.0%5D%2C%20%5B12.986391%2C%2077.6075416%2C%2013924.0%5D%2C%20%5B12.9081487%2C%2077.5553179%2C%2012321.0%5D%2C%20%5B12.945245%2C%2077.6269144%2C%2011236.0%5D%2C%20%5B12.9489339%2C%2077.5968273%2C%2010000.0%5D%2C%20%5B12.9931876%2C%2077.5753419%2C%2010000.0%5D%2C%20%5B13.0431413%2C%2077.6209093%2C%209409.0%5D%2C%20%5B12.983801%2C%2077.5808654%2C%208464.0%5D%2C%20%5B13.02383%2C%2077.5529215%2C%207744.0%5D%2C%20%5B12.9757079%2C%2077.5728757%2C%207569.0%5D%2C%20%5B12.9414662%2C%2077.7470942%2C%206561.0%5D%2C%20%5B12.9831774%2C%2077.595831%2C%206561.0%5D%2C%20%5B12.9805381%2C%2077.7273032%2C%206084.0%5D%2C%20%5B13.0258087%2C%2077.6305067%2C%205929.0%5D%2C%20%5B12.9846713%2C%2077.6790908%2C%205184.0%5D%2C%20%5B13.0358698%2C%2077.6323597%2C%204900.0%5D%2C%20%5B12.96595445%2C%2077.61253320881664%2C%203844.0%5D%2C%20%5B12.9854892%2C%2077.6679809%2C%203600.0%5D%2C%20%5B15.8782951%2C%2074.5084834%2C%203249.0%5D%2C%20%5B12.965717999999999%2C%2077.5762705372058%2C%202916.0%5D%2C%20%5B13.0227204%2C%2077.595715%2C%202601.0%5D%2C%20%5B12.9578658%2C%2077.6958748%2C%202209.0%5D%2C%20%5B13.0621474%2C%2077.58006135480495%2C%202025.0%5D%2C%20%5B12.9172247%2C%2077.6143995%2C%201764.0%5D%2C%20%5B12.9243509%2C%2077.6255562%2C%201764.0%5D%2C%20%5B12.9310963%2C%2077.6140388%2C%201444.0%5D%2C%20%5B12.9845687%2C%2077.73766474151809%2C%20625.0%5D%2C%20%5B12.987027%2C%2077.5201369%2C%20576.0%5D%2C%20%5B13.0464531%2C%2077.5483803%2C%20529.0%5D%2C%20%5B13.0035092%2C%2077.5837816%2C%20400.0%5D%2C%20%5B12.9065281%2C%2077.5733344%2C%20361.0%5D%2C%20%5B12.957998%2C%2077.6037312%2C%20256.0%5D%2C%20%5B12.9597523%2C%2077.5561291%2C%20256.0%5D%2C%20%5B13.2923988%2C%2077.7519261%2C%20256.0%5D%2C%20%5B13.0086263%2C%2077.6962756%2C%20256.0%5D%2C%20%5B13.007516%2C%2077.695935%2C%20100.0%5D%2C%20%5B12.9055682%2C%2077.5455438%2C%2081.0%5D%2C%20%5B13.0382184%2C%2077.5919%2C%2064.0%5D%2C%20%5B12.9767936%2C%2077.590082%2C%2049.0%5D%2C%20%5B13.0101286%2C%2077.5548006%2C%2025.0%5D%2C%20%5B12.9176571%2C%2077.4837568%2C%2025.0%5D%2C%20%5B13.1006982%2C%2077.5963454%2C%2016.0%5D%2C%20%5B12.9848519%2C%2077.5400626%2C%209.0%5D%2C%20%5B12.9274413%2C%2077.5155224%2C%204.0%5D%2C%20%5B12.95961755%2C%2077.51126721318181%2C%201.0%5D%2C%20%5B13.0329419%2C%2077.5273253%2C%201.0%5D%5D%2C%0A%20%20%20%20%20%20%20%20%20%20%20%20%20%20%20%20%7B%22blur%22%3A%2015%2C%20%22maxZoom%22%3A%2018%2C%20%22minOpacity%22%3A%200.5%2C%20%22radius%22%3A%2015%2C%20%22zoom%22%3A%2020%7D%0A%20%20%20%20%20%20%20%20%20%20%20%20%29.addTo%28map_47ed04eefc4d42c687a702bf84d8454a%29%3B%0A%20%20%20%20%20%20%20%20%0A%3C/script%3E onload=\"this.contentDocument.open();this.contentDocument.write(    decodeURIComponent(this.getAttribute('data-html')));this.contentDocument.close();\" allowfullscreen webkitallowfullscreen mozallowfullscreen></iframe></div></div>"
      ],
      "text/plain": [
       "<folium.folium.Map at 0x7fa77af9c050>"
      ]
     },
     "execution_count": 40,
     "metadata": {},
     "output_type": "execute_result"
    }
   ],
   "source": [
    "generate_count_heatmap()"
   ]
  },
  {
   "cell_type": "markdown",
   "metadata": {},
   "source": [
    "Figure 5 shows the heat map based on the number of restaurants in the certain location"
   ]
  },
  {
   "cell_type": "code",
   "execution_count": 41,
   "metadata": {
    "scrolled": false
   },
   "outputs": [
    {
     "data": {
      "text/html": [
       "<div style=\"width:100%;\"><div style=\"position:relative;width:100%;height:0;padding-bottom:60%;\"><span style=\"color:#565656\">Make this Notebook Trusted to load map: File -> Trust Notebook</span><iframe src=\"about:blank\" style=\"position:absolute;width:100%;height:100%;left:0;top:0;border:none !important;\" data-html=%3C%21DOCTYPE%20html%3E%0A%3Chead%3E%20%20%20%20%0A%20%20%20%20%3Cmeta%20http-equiv%3D%22content-type%22%20content%3D%22text/html%3B%20charset%3DUTF-8%22%20/%3E%0A%20%20%20%20%0A%20%20%20%20%20%20%20%20%3Cscript%3E%0A%20%20%20%20%20%20%20%20%20%20%20%20L_NO_TOUCH%20%3D%20false%3B%0A%20%20%20%20%20%20%20%20%20%20%20%20L_DISABLE_3D%20%3D%20false%3B%0A%20%20%20%20%20%20%20%20%3C/script%3E%0A%20%20%20%20%0A%20%20%20%20%3Cstyle%3Ehtml%2C%20body%20%7Bwidth%3A%20100%25%3Bheight%3A%20100%25%3Bmargin%3A%200%3Bpadding%3A%200%3B%7D%3C/style%3E%0A%20%20%20%20%3Cstyle%3E%23map%20%7Bposition%3Aabsolute%3Btop%3A0%3Bbottom%3A0%3Bright%3A0%3Bleft%3A0%3B%7D%3C/style%3E%0A%20%20%20%20%3Cscript%20src%3D%22https%3A//cdn.jsdelivr.net/npm/leaflet%401.6.0/dist/leaflet.js%22%3E%3C/script%3E%0A%20%20%20%20%3Cscript%20src%3D%22https%3A//code.jquery.com/jquery-1.12.4.min.js%22%3E%3C/script%3E%0A%20%20%20%20%3Cscript%20src%3D%22https%3A//maxcdn.bootstrapcdn.com/bootstrap/3.2.0/js/bootstrap.min.js%22%3E%3C/script%3E%0A%20%20%20%20%3Cscript%20src%3D%22https%3A//cdnjs.cloudflare.com/ajax/libs/Leaflet.awesome-markers/2.0.2/leaflet.awesome-markers.js%22%3E%3C/script%3E%0A%20%20%20%20%3Clink%20rel%3D%22stylesheet%22%20href%3D%22https%3A//cdn.jsdelivr.net/npm/leaflet%401.6.0/dist/leaflet.css%22/%3E%0A%20%20%20%20%3Clink%20rel%3D%22stylesheet%22%20href%3D%22https%3A//maxcdn.bootstrapcdn.com/bootstrap/3.2.0/css/bootstrap.min.css%22/%3E%0A%20%20%20%20%3Clink%20rel%3D%22stylesheet%22%20href%3D%22https%3A//maxcdn.bootstrapcdn.com/bootstrap/3.2.0/css/bootstrap-theme.min.css%22/%3E%0A%20%20%20%20%3Clink%20rel%3D%22stylesheet%22%20href%3D%22https%3A//maxcdn.bootstrapcdn.com/font-awesome/4.6.3/css/font-awesome.min.css%22/%3E%0A%20%20%20%20%3Clink%20rel%3D%22stylesheet%22%20href%3D%22https%3A//cdnjs.cloudflare.com/ajax/libs/Leaflet.awesome-markers/2.0.2/leaflet.awesome-markers.css%22/%3E%0A%20%20%20%20%3Clink%20rel%3D%22stylesheet%22%20href%3D%22https%3A//cdn.jsdelivr.net/gh/python-visualization/folium/folium/templates/leaflet.awesome.rotate.min.css%22/%3E%0A%20%20%20%20%0A%20%20%20%20%20%20%20%20%20%20%20%20%3Cmeta%20name%3D%22viewport%22%20content%3D%22width%3Ddevice-width%2C%0A%20%20%20%20%20%20%20%20%20%20%20%20%20%20%20%20initial-scale%3D1.0%2C%20maximum-scale%3D1.0%2C%20user-scalable%3Dno%22%20/%3E%0A%20%20%20%20%20%20%20%20%20%20%20%20%3Cstyle%3E%0A%20%20%20%20%20%20%20%20%20%20%20%20%20%20%20%20%23map_9aea4387a95a4f5d86d63cad8fa95df8%20%7B%0A%20%20%20%20%20%20%20%20%20%20%20%20%20%20%20%20%20%20%20%20position%3A%20relative%3B%0A%20%20%20%20%20%20%20%20%20%20%20%20%20%20%20%20%20%20%20%20width%3A%20100.0%25%3B%0A%20%20%20%20%20%20%20%20%20%20%20%20%20%20%20%20%20%20%20%20height%3A%20100.0%25%3B%0A%20%20%20%20%20%20%20%20%20%20%20%20%20%20%20%20%20%20%20%20left%3A%200.0%25%3B%0A%20%20%20%20%20%20%20%20%20%20%20%20%20%20%20%20%20%20%20%20top%3A%200.0%25%3B%0A%20%20%20%20%20%20%20%20%20%20%20%20%20%20%20%20%7D%0A%20%20%20%20%20%20%20%20%20%20%20%20%3C/style%3E%0A%20%20%20%20%20%20%20%20%0A%20%20%20%20%3Cscript%20src%3D%22https%3A//cdn.jsdelivr.net/gh/python-visualization/folium%40master/folium/templates/leaflet_heat.min.js%22%3E%3C/script%3E%0A%20%20%20%20%3Cscript%20src%3D%22https%3A//cdnjs.cloudflare.com/ajax/libs/leaflet.markercluster/1.1.0/leaflet.markercluster.js%22%3E%3C/script%3E%0A%20%20%20%20%3Clink%20rel%3D%22stylesheet%22%20href%3D%22https%3A//cdnjs.cloudflare.com/ajax/libs/leaflet.markercluster/1.1.0/MarkerCluster.css%22/%3E%0A%20%20%20%20%3Clink%20rel%3D%22stylesheet%22%20href%3D%22https%3A//cdnjs.cloudflare.com/ajax/libs/leaflet.markercluster/1.1.0/MarkerCluster.Default.css%22/%3E%0A%3C/head%3E%0A%3Cbody%3E%20%20%20%20%0A%20%20%20%20%0A%20%20%20%20%20%20%20%20%20%20%20%20%3Cdiv%20class%3D%22folium-map%22%20id%3D%22map_9aea4387a95a4f5d86d63cad8fa95df8%22%20%3E%3C/div%3E%0A%20%20%20%20%20%20%20%20%0A%3C/body%3E%0A%3Cscript%3E%20%20%20%20%0A%20%20%20%20%0A%20%20%20%20%20%20%20%20%20%20%20%20var%20map_9aea4387a95a4f5d86d63cad8fa95df8%20%3D%20L.map%28%0A%20%20%20%20%20%20%20%20%20%20%20%20%20%20%20%20%22map_9aea4387a95a4f5d86d63cad8fa95df8%22%2C%0A%20%20%20%20%20%20%20%20%20%20%20%20%20%20%20%20%7B%0A%20%20%20%20%20%20%20%20%20%20%20%20%20%20%20%20%20%20%20%20center%3A%20%5B12.9716%2C%2077.5946%5D%2C%0A%20%20%20%20%20%20%20%20%20%20%20%20%20%20%20%20%20%20%20%20crs%3A%20L.CRS.EPSG3857%2C%0A%20%20%20%20%20%20%20%20%20%20%20%20%20%20%20%20%20%20%20%20zoom%3A%2011%2C%0A%20%20%20%20%20%20%20%20%20%20%20%20%20%20%20%20%20%20%20%20zoomControl%3A%20true%2C%0A%20%20%20%20%20%20%20%20%20%20%20%20%20%20%20%20%20%20%20%20preferCanvas%3A%20false%2C%0A%20%20%20%20%20%20%20%20%20%20%20%20%20%20%20%20%7D%0A%20%20%20%20%20%20%20%20%20%20%20%20%29%3B%0A%0A%20%20%20%20%20%20%20%20%20%20%20%20%0A%0A%20%20%20%20%20%20%20%20%0A%20%20%20%20%0A%20%20%20%20%20%20%20%20%20%20%20%20var%20tile_layer_0226f6c96a1e4b98b8613e2513105513%20%3D%20L.tileLayer%28%0A%20%20%20%20%20%20%20%20%20%20%20%20%20%20%20%20%22https%3A//%7Bs%7D.tile.openstreetmap.org/%7Bz%7D/%7Bx%7D/%7By%7D.png%22%2C%0A%20%20%20%20%20%20%20%20%20%20%20%20%20%20%20%20%7B%22attribution%22%3A%20%22Data%20by%20%5Cu0026copy%3B%20%5Cu003ca%20href%3D%5C%22http%3A//openstreetmap.org%5C%22%5Cu003eOpenStreetMap%5Cu003c/a%5Cu003e%2C%20under%20%5Cu003ca%20href%3D%5C%22http%3A//www.openstreetmap.org/copyright%5C%22%5Cu003eODbL%5Cu003c/a%5Cu003e.%22%2C%20%22detectRetina%22%3A%20false%2C%20%22maxNativeZoom%22%3A%2018%2C%20%22maxZoom%22%3A%2018%2C%20%22minZoom%22%3A%200%2C%20%22noWrap%22%3A%20false%2C%20%22opacity%22%3A%201%2C%20%22subdomains%22%3A%20%22abc%22%2C%20%22tms%22%3A%20false%7D%0A%20%20%20%20%20%20%20%20%20%20%20%20%29.addTo%28map_9aea4387a95a4f5d86d63cad8fa95df8%29%3B%0A%20%20%20%20%20%20%20%20%0A%20%20%20%20%0A%20%20%20%20%20%20%20%20%20%20%20%20var%20heat_map_050f35eb61b84e3c82a7222f29b88cf9%20%3D%20L.heatLayer%28%0A%20%20%20%20%20%20%20%20%20%20%20%20%20%20%20%20%5B%5B12.911275849999999%2C%2077.60456543431182%2C%20186532.28099932277%5D%2C%20%5B12.9152208%2C%2077.573598%2C%20206637.9470348574%5D%2C%20%5B13.0141618%2C%2077.6518539%2C%20196997.35771807845%5D%2C%20%5B12.8870547%2C%2077.5969483%2C%20245985.87008144817%5D%2C%20%5B12.9417261%2C%2077.5755021%2C%20135148.140625%5D%2C%20%5B12.9917539%2C%2077.5383401%2C%20223539.84%5D%2C%20%5B12.93577245%2C%2077.66676103753434%2C%20331616.28813290026%5D%2C%20%5B12.9089453%2C%2077.6239038%2C%20242556.25%5D%2C%20%5B12.9750605%2C%2077.6080323%2C%20645327.6559782234%5D%2C%20%5B12.9668213%2C%2077.7168891%2C%20214482.5475991251%5D%2C%20%5B12.9854892%2C%2077.6679809%2C%20119600.69444444444%5D%2C%20%5B13.0101286%2C%2077.5548006%2C%20168100.0%5D%2C%20%5B12.9742939%2C%2077.6525189%2C%20788926.069152585%5D%2C%20%5B12.965717999999999%2C%2077.5762705372058%2C%20119255.1111111111%5D%2C%20%5B12.9821931%2C%2077.6083132%2C%20171336.86224489796%5D%2C%20%5B12.9904458%2C%2077.5910041%2C%20783598.988295973%5D%2C%20%5B12.9624669%2C%2077.6381958%2C%20477530.19867827103%5D%2C%20%5B12.9845687%2C%2077.73766474151809%2C%20173056.0%5D%2C%20%5B12.945245%2C%2077.6269144%2C%20116951.09469562121%5D%2C%20%5B12.8563536%2C%2077.6636073%2C%20318783.0992461786%5D%2C%20%5B12.996845%2C%2077.6130165%2C%20227130.6681621535%5D%2C%20%5B13.0358698%2C%2077.6323597%2C%20265961.22448979586%5D%2C%20%5B12.9116225%2C%2077.6388622%2C%20268832.0696630666%5D%2C%20%5B13.0382184%2C%2077.5919%2C%20180625.0%5D%2C%20%5B13.0258087%2C%2077.6305067%2C%20164709.47883285547%5D%2C%20%5B12.9310963%2C%2077.6140388%2C%20402222.9916897507%5D%2C%20%5B12.9805381%2C%2077.7273032%2C%20347041.8310322156%5D%2C%20%5B12.9732913%2C%2077.6404672%2C%20497109.72846831894%5D%2C%20%5B12.9831774%2C%2077.595831%2C%201587288.9041304677%5D%2C%20%5B12.9072515%2C%2077.5782713%2C%20344466.92060491495%5D%2C%20%5B13.0464531%2C%2077.5483803%2C%20149735.34971644613%5D%2C%20%5B12.9292731%2C%2077.5824229%2C%20276285.1794042849%5D%2C%20%5B12.9678074%2C%2077.6568367%2C%20166707.87348702675%5D%2C%20%5B13.007516%2C%2077.695935%2C%20148225.0%5D%2C%20%5B12.9846713%2C%2077.6790908%2C%20185378.0864197531%5D%2C%20%5B13.0221416%2C%2077.6403368%2C%20430958.24867859244%5D%2C%20%5B13.0093455%2C%2077.6377094%2C%20268219.7971009419%5D%2C%20%5B12.9065281%2C%2077.5733344%2C%20274245.1523545707%5D%2C%20%5B12.9176571%2C%2077.4837568%2C%20250000.0%5D%2C%20%5B13.2923988%2C%2077.7519261%2C%20145351.5625%5D%2C%20%5B12.928080600000001%2C%2077.63071968728623%2C%20230597.75408574168%5D%2C%20%5B12.9243509%2C%2077.6255562%2C%20430273.5260770975%5D%2C%20%5B12.9271867%2C%2077.6266252%2C%20778332.2518953623%5D%2C%20%5B12.93433385%2C%2077.63040639553275%2C%20679619.2742415229%5D%2C%20%5B12.928080600000001%2C%2077.63071968728623%2C%20582373.8568109134%5D%2C%20%5B12.9400321%2C%2077.6203272%2C%20456460.18804080464%5D%2C%20%5B12.928080600000001%2C%2077.63071968728623%2C%20465645.9450024774%5D%2C%20%5B12.9417812%2C%2077.6160146%2C%20175858.48074921957%5D%2C%20%5B12.9081487%2C%2077.5553179%2C%20146944.44444444444%5D%2C%20%5B12.957998%2C%2077.6037312%2C%20711914.0625%5D%2C%20%5B12.9750062%2C%2077.5998217%2C%202060626.1617504752%5D%2C%20%5B12.9741854%2C%2077.6124135%2C%201680465.4633087558%5D%2C%20%5B12.987027%2C%2077.5201369%2C%20131406.25%5D%2C%20%5B12.9757079%2C%2077.5728757%2C%20220468.02748051265%5D%2C%20%5B13.0027353%2C%2077.5703253%2C%20395877.6888540339%5D%2C%20%5B12.9552572%2C%2077.6984163%2C%20308768.42535060673%5D%2C%20%5B12.9597523%2C%2077.5561291%2C%20219726.5625%5D%2C%20%5B12.95961755%2C%2077.51126721318181%2C%2062500.0%5D%2C%20%5B13.0431413%2C%2077.6209093%2C%20208575.83165054736%5D%2C%20%5B13.0343483%2C%2077.5683468%2C%20301898.54871222755%5D%2C%20%5B12.9767936%2C%2077.590082%2C%2090000.0%5D%2C%20%5B12.9592241%2C%2077.6615183%2C%20588212.527412045%5D%2C%20%5B13.0086263%2C%2077.6962756%2C%20208164.0625%5D%2C%20%5B13.0329419%2C%2077.5273253%2C%2090000.0%5D%2C%20%5B13.0227204%2C%2077.595715%2C%20203383.31410995772%5D%2C%20%5B12.983801%2C%2077.5808654%2C%201905600.1890359172%5D%2C%20%5B12.9882338%2C%2077.554883%2C%20251076.42502023355%5D%2C%20%5B12.9274413%2C%2077.5155224%2C%20525625.0%5D%2C%20%5B13.0530002%2C%2077.6204833%2C%201143152.6474120182%5D%2C%20%5B12.9649453%2C%2077.5982978%2C%20959128.4447577032%5D%2C%20%5B15.8782951%2C%2074.5084834%2C%20578400.2770083102%5D%2C%20%5B13.0621474%2C%2077.58006135480495%2C%20205511.1111111111%5D%2C%20%5B12.9578658%2C%2077.6958748%2C%20121015.16523313714%5D%2C%20%5B13.0035092%2C%2077.5837816%2C%206363006.25%5D%2C%20%5B12.9242381%2C%2077.6289059%2C%20382395.593418859%5D%2C%20%5B12.9931876%2C%2077.5753419%2C%20613089.0%5D%2C%20%5B12.9575547%2C%2077.5979099%2C%20327639.6879670768%5D%2C%20%5B12.986391%2C%2077.6075416%2C%20209422.57971847174%5D%2C%20%5B12.9172247%2C%2077.6143995%2C%20106400.22675736963%5D%2C%20%5B12.973936%2C%2077.6509982%2C%20151609.0582181164%5D%2C%20%5B12.9778793%2C%2077.6246697%2C%20717959.8299717184%5D%2C%20%5B12.9055682%2C%2077.5455438%2C%20173611.11111111112%5D%2C%20%5B12.9414662%2C%2077.7470942%2C%20119493.97957628408%5D%2C%20%5B12.988721250000001%2C%2077.58516877601824%2C%20502326.5625%5D%2C%20%5B12.96595445%2C%2077.61253320881664%2C%20156535.09365244536%5D%2C%20%5B12.9848519%2C%2077.5400626%2C%20217777.77777777778%5D%2C%20%5B12.9696365%2C%2077.7497448%2C%20465318.87755102036%5D%2C%20%5B12.9489339%2C%2077.5968273%2C%20180625.0%5D%2C%20%5B13.1006982%2C%2077.5963454%2C%20105625.0%5D%2C%20%5B13.02383%2C%2077.5529215%2C%20183534.34917355375%5D%5D%2C%0A%20%20%20%20%20%20%20%20%20%20%20%20%20%20%20%20%7B%22blur%22%3A%2015%2C%20%22maxZoom%22%3A%2018%2C%20%22minOpacity%22%3A%200.5%2C%20%22radius%22%3A%2015%2C%20%22zoom%22%3A%2020%7D%0A%20%20%20%20%20%20%20%20%20%20%20%20%29.addTo%28map_9aea4387a95a4f5d86d63cad8fa95df8%29%3B%0A%20%20%20%20%20%20%20%20%0A%20%20%20%20%0A%20%20%20%20%20%20%20%20%20%20%20%20var%20fast_marker_cluster_4099da84c28c4abea069c01db4d38569%20%3D%20%28function%28%29%7B%0A%20%20%20%20%20%20%20%20%20%20%20%20%20%20%20%20%0A%20%20%20%20%20%20%20%20%20%20%20%20%20%20%20%20var%20callback%20%3D%20function%20%28row%29%20%7B%0A%20%20%20%20%20%20%20%20%20%20%20%20%20%20%20%20%20%20%20%20var%20icon%20%3D%20L.AwesomeMarkers.icon%28%29%3B%0A%20%20%20%20%20%20%20%20%20%20%20%20%20%20%20%20%20%20%20%20var%20marker%20%3D%20L.marker%28new%20L.LatLng%28row%5B0%5D%2C%20row%5B1%5D%29%29%3B%0A%20%20%20%20%20%20%20%20%20%20%20%20%20%20%20%20%20%20%20%20marker.setIcon%28icon%29%3B%0A%20%20%20%20%20%20%20%20%20%20%20%20%20%20%20%20%20%20%20%20return%20marker%3B%0A%20%20%20%20%20%20%20%20%20%20%20%20%20%20%20%20%7D%3B%0A%0A%20%20%20%20%20%20%20%20%20%20%20%20%20%20%20%20var%20data%20%3D%20%5B%5B12.911275849999999%2C%2077.60456543431182%2C%20186532.28099932277%5D%2C%20%5B12.9152208%2C%2077.573598%2C%20206637.9470348574%5D%2C%20%5B13.0141618%2C%2077.6518539%2C%20196997.35771807845%5D%2C%20%5B12.8870547%2C%2077.5969483%2C%20245985.87008144817%5D%2C%20%5B12.9417261%2C%2077.5755021%2C%20135148.140625%5D%2C%20%5B12.9917539%2C%2077.5383401%2C%20223539.84%5D%2C%20%5B12.93577245%2C%2077.66676103753434%2C%20331616.28813290026%5D%2C%20%5B12.9089453%2C%2077.6239038%2C%20242556.25%5D%2C%20%5B12.9750605%2C%2077.6080323%2C%20645327.6559782234%5D%2C%20%5B12.9668213%2C%2077.7168891%2C%20214482.5475991251%5D%2C%20%5B12.9854892%2C%2077.6679809%2C%20119600.69444444444%5D%2C%20%5B13.0101286%2C%2077.5548006%2C%20168100.0%5D%2C%20%5B12.9742939%2C%2077.6525189%2C%20788926.069152585%5D%2C%20%5B12.965717999999999%2C%2077.5762705372058%2C%20119255.1111111111%5D%2C%20%5B12.9821931%2C%2077.6083132%2C%20171336.86224489796%5D%2C%20%5B12.9904458%2C%2077.5910041%2C%20783598.988295973%5D%2C%20%5B12.9624669%2C%2077.6381958%2C%20477530.19867827103%5D%2C%20%5B12.9845687%2C%2077.73766474151809%2C%20173056.0%5D%2C%20%5B12.945245%2C%2077.6269144%2C%20116951.09469562121%5D%2C%20%5B12.8563536%2C%2077.6636073%2C%20318783.0992461786%5D%2C%20%5B12.996845%2C%2077.6130165%2C%20227130.6681621535%5D%2C%20%5B13.0358698%2C%2077.6323597%2C%20265961.22448979586%5D%2C%20%5B12.9116225%2C%2077.6388622%2C%20268832.0696630666%5D%2C%20%5B13.0382184%2C%2077.5919%2C%20180625.0%5D%2C%20%5B13.0258087%2C%2077.6305067%2C%20164709.47883285547%5D%2C%20%5B12.9310963%2C%2077.6140388%2C%20402222.9916897507%5D%2C%20%5B12.9805381%2C%2077.7273032%2C%20347041.8310322156%5D%2C%20%5B12.9732913%2C%2077.6404672%2C%20497109.72846831894%5D%2C%20%5B12.9831774%2C%2077.595831%2C%201587288.9041304677%5D%2C%20%5B12.9072515%2C%2077.5782713%2C%20344466.92060491495%5D%2C%20%5B13.0464531%2C%2077.5483803%2C%20149735.34971644613%5D%2C%20%5B12.9292731%2C%2077.5824229%2C%20276285.1794042849%5D%2C%20%5B12.9678074%2C%2077.6568367%2C%20166707.87348702675%5D%2C%20%5B13.007516%2C%2077.695935%2C%20148225.0%5D%2C%20%5B12.9846713%2C%2077.6790908%2C%20185378.0864197531%5D%2C%20%5B13.0221416%2C%2077.6403368%2C%20430958.24867859244%5D%2C%20%5B13.0093455%2C%2077.6377094%2C%20268219.7971009419%5D%2C%20%5B12.9065281%2C%2077.5733344%2C%20274245.1523545707%5D%2C%20%5B12.9176571%2C%2077.4837568%2C%20250000.0%5D%2C%20%5B13.2923988%2C%2077.7519261%2C%20145351.5625%5D%2C%20%5B12.928080600000001%2C%2077.63071968728623%2C%20230597.75408574168%5D%2C%20%5B12.9243509%2C%2077.6255562%2C%20430273.5260770975%5D%2C%20%5B12.9271867%2C%2077.6266252%2C%20778332.2518953623%5D%2C%20%5B12.93433385%2C%2077.63040639553275%2C%20679619.2742415229%5D%2C%20%5B12.928080600000001%2C%2077.63071968728623%2C%20582373.8568109134%5D%2C%20%5B12.9400321%2C%2077.6203272%2C%20456460.18804080464%5D%2C%20%5B12.928080600000001%2C%2077.63071968728623%2C%20465645.9450024774%5D%2C%20%5B12.9417812%2C%2077.6160146%2C%20175858.48074921957%5D%2C%20%5B12.9081487%2C%2077.5553179%2C%20146944.44444444444%5D%2C%20%5B12.957998%2C%2077.6037312%2C%20711914.0625%5D%2C%20%5B12.9750062%2C%2077.5998217%2C%202060626.1617504752%5D%2C%20%5B12.9741854%2C%2077.6124135%2C%201680465.4633087558%5D%2C%20%5B12.987027%2C%2077.5201369%2C%20131406.25%5D%2C%20%5B12.9757079%2C%2077.5728757%2C%20220468.02748051265%5D%2C%20%5B13.0027353%2C%2077.5703253%2C%20395877.6888540339%5D%2C%20%5B12.9552572%2C%2077.6984163%2C%20308768.42535060673%5D%2C%20%5B12.9597523%2C%2077.5561291%2C%20219726.5625%5D%2C%20%5B12.95961755%2C%2077.51126721318181%2C%2062500.0%5D%2C%20%5B13.0431413%2C%2077.6209093%2C%20208575.83165054736%5D%2C%20%5B13.0343483%2C%2077.5683468%2C%20301898.54871222755%5D%2C%20%5B12.9767936%2C%2077.590082%2C%2090000.0%5D%2C%20%5B12.9592241%2C%2077.6615183%2C%20588212.527412045%5D%2C%20%5B13.0086263%2C%2077.6962756%2C%20208164.0625%5D%2C%20%5B13.0329419%2C%2077.5273253%2C%2090000.0%5D%2C%20%5B13.0227204%2C%2077.595715%2C%20203383.31410995772%5D%2C%20%5B12.983801%2C%2077.5808654%2C%201905600.1890359172%5D%2C%20%5B12.9882338%2C%2077.554883%2C%20251076.42502023355%5D%2C%20%5B12.9274413%2C%2077.5155224%2C%20525625.0%5D%2C%20%5B13.0530002%2C%2077.6204833%2C%201143152.6474120182%5D%2C%20%5B12.9649453%2C%2077.5982978%2C%20959128.4447577032%5D%2C%20%5B15.8782951%2C%2074.5084834%2C%20578400.2770083102%5D%2C%20%5B13.0621474%2C%2077.58006135480495%2C%20205511.1111111111%5D%2C%20%5B12.9578658%2C%2077.6958748%2C%20121015.16523313714%5D%2C%20%5B13.0035092%2C%2077.5837816%2C%206363006.25%5D%2C%20%5B12.9242381%2C%2077.6289059%2C%20382395.593418859%5D%2C%20%5B12.9931876%2C%2077.5753419%2C%20613089.0%5D%2C%20%5B12.9575547%2C%2077.5979099%2C%20327639.6879670768%5D%2C%20%5B12.986391%2C%2077.6075416%2C%20209422.57971847174%5D%2C%20%5B12.9172247%2C%2077.6143995%2C%20106400.22675736963%5D%2C%20%5B12.973936%2C%2077.6509982%2C%20151609.0582181164%5D%2C%20%5B12.9778793%2C%2077.6246697%2C%20717959.8299717184%5D%2C%20%5B12.9055682%2C%2077.5455438%2C%20173611.11111111112%5D%2C%20%5B12.9414662%2C%2077.7470942%2C%20119493.97957628408%5D%2C%20%5B12.988721250000001%2C%2077.58516877601824%2C%20502326.5625%5D%2C%20%5B12.96595445%2C%2077.61253320881664%2C%20156535.09365244536%5D%2C%20%5B12.9848519%2C%2077.5400626%2C%20217777.77777777778%5D%2C%20%5B12.9696365%2C%2077.7497448%2C%20465318.87755102036%5D%2C%20%5B12.9489339%2C%2077.5968273%2C%20180625.0%5D%2C%20%5B13.1006982%2C%2077.5963454%2C%20105625.0%5D%2C%20%5B13.02383%2C%2077.5529215%2C%20183534.34917355375%5D%5D%3B%0A%20%20%20%20%20%20%20%20%20%20%20%20%20%20%20%20var%20cluster%20%3D%20L.markerClusterGroup%28%7B%7D%29%3B%0A%0A%20%20%20%20%20%20%20%20%20%20%20%20%20%20%20%20for%20%28var%20i%20%3D%200%3B%20i%20%3C%20data.length%3B%20i%2B%2B%29%20%7B%0A%20%20%20%20%20%20%20%20%20%20%20%20%20%20%20%20%20%20%20%20var%20row%20%3D%20data%5Bi%5D%3B%0A%20%20%20%20%20%20%20%20%20%20%20%20%20%20%20%20%20%20%20%20var%20marker%20%3D%20callback%28row%29%3B%0A%20%20%20%20%20%20%20%20%20%20%20%20%20%20%20%20%20%20%20%20marker.addTo%28cluster%29%3B%0A%20%20%20%20%20%20%20%20%20%20%20%20%20%20%20%20%7D%0A%0A%20%20%20%20%20%20%20%20%20%20%20%20%20%20%20%20cluster.addTo%28map_9aea4387a95a4f5d86d63cad8fa95df8%29%3B%0A%20%20%20%20%20%20%20%20%20%20%20%20%20%20%20%20return%20cluster%3B%0A%20%20%20%20%20%20%20%20%20%20%20%20%7D%29%28%29%3B%0A%20%20%20%20%20%20%20%20%0A%3C/script%3E onload=\"this.contentDocument.open();this.contentDocument.write(    decodeURIComponent(this.getAttribute('data-html')));this.contentDocument.close();\" allowfullscreen webkitallowfullscreen mozallowfullscreen></iframe></div></div>"
      ],
      "text/plain": [
       "<folium.folium.Map at 0x7fa77bc0f150>"
      ]
     },
     "execution_count": 41,
     "metadata": {},
     "output_type": "execute_result"
    }
   ],
   "source": [
    "generate_avg_price_heatmap()"
   ]
  },
  {
   "cell_type": "markdown",
   "metadata": {},
   "source": [
    "Figure 6 shows the heat map based on the average price of restaurants in the certain location"
   ]
  },
  {
   "cell_type": "code",
   "execution_count": 46,
   "metadata": {
    "scrolled": false
   },
   "outputs": [
    {
     "data": {
      "text/html": [
       "<div style=\"width:100%;\"><div style=\"position:relative;width:100%;height:0;padding-bottom:60%;\"><span style=\"color:#565656\">Make this Notebook Trusted to load map: File -> Trust Notebook</span><iframe src=\"about:blank\" style=\"position:absolute;width:100%;height:100%;left:0;top:0;border:none !important;\" data-html=%3C%21DOCTYPE%20html%3E%0A%3Chead%3E%20%20%20%20%0A%20%20%20%20%3Cmeta%20http-equiv%3D%22content-type%22%20content%3D%22text/html%3B%20charset%3DUTF-8%22%20/%3E%0A%20%20%20%20%0A%20%20%20%20%20%20%20%20%3Cscript%3E%0A%20%20%20%20%20%20%20%20%20%20%20%20L_NO_TOUCH%20%3D%20false%3B%0A%20%20%20%20%20%20%20%20%20%20%20%20L_DISABLE_3D%20%3D%20false%3B%0A%20%20%20%20%20%20%20%20%3C/script%3E%0A%20%20%20%20%0A%20%20%20%20%3Cstyle%3Ehtml%2C%20body%20%7Bwidth%3A%20100%25%3Bheight%3A%20100%25%3Bmargin%3A%200%3Bpadding%3A%200%3B%7D%3C/style%3E%0A%20%20%20%20%3Cstyle%3E%23map%20%7Bposition%3Aabsolute%3Btop%3A0%3Bbottom%3A0%3Bright%3A0%3Bleft%3A0%3B%7D%3C/style%3E%0A%20%20%20%20%3Cscript%20src%3D%22https%3A//cdn.jsdelivr.net/npm/leaflet%401.6.0/dist/leaflet.js%22%3E%3C/script%3E%0A%20%20%20%20%3Cscript%20src%3D%22https%3A//code.jquery.com/jquery-1.12.4.min.js%22%3E%3C/script%3E%0A%20%20%20%20%3Cscript%20src%3D%22https%3A//maxcdn.bootstrapcdn.com/bootstrap/3.2.0/js/bootstrap.min.js%22%3E%3C/script%3E%0A%20%20%20%20%3Cscript%20src%3D%22https%3A//cdnjs.cloudflare.com/ajax/libs/Leaflet.awesome-markers/2.0.2/leaflet.awesome-markers.js%22%3E%3C/script%3E%0A%20%20%20%20%3Clink%20rel%3D%22stylesheet%22%20href%3D%22https%3A//cdn.jsdelivr.net/npm/leaflet%401.6.0/dist/leaflet.css%22/%3E%0A%20%20%20%20%3Clink%20rel%3D%22stylesheet%22%20href%3D%22https%3A//maxcdn.bootstrapcdn.com/bootstrap/3.2.0/css/bootstrap.min.css%22/%3E%0A%20%20%20%20%3Clink%20rel%3D%22stylesheet%22%20href%3D%22https%3A//maxcdn.bootstrapcdn.com/bootstrap/3.2.0/css/bootstrap-theme.min.css%22/%3E%0A%20%20%20%20%3Clink%20rel%3D%22stylesheet%22%20href%3D%22https%3A//maxcdn.bootstrapcdn.com/font-awesome/4.6.3/css/font-awesome.min.css%22/%3E%0A%20%20%20%20%3Clink%20rel%3D%22stylesheet%22%20href%3D%22https%3A//cdnjs.cloudflare.com/ajax/libs/Leaflet.awesome-markers/2.0.2/leaflet.awesome-markers.css%22/%3E%0A%20%20%20%20%3Clink%20rel%3D%22stylesheet%22%20href%3D%22https%3A//cdn.jsdelivr.net/gh/python-visualization/folium/folium/templates/leaflet.awesome.rotate.min.css%22/%3E%0A%20%20%20%20%0A%20%20%20%20%20%20%20%20%20%20%20%20%3Cmeta%20name%3D%22viewport%22%20content%3D%22width%3Ddevice-width%2C%0A%20%20%20%20%20%20%20%20%20%20%20%20%20%20%20%20initial-scale%3D1.0%2C%20maximum-scale%3D1.0%2C%20user-scalable%3Dno%22%20/%3E%0A%20%20%20%20%20%20%20%20%20%20%20%20%3Cstyle%3E%0A%20%20%20%20%20%20%20%20%20%20%20%20%20%20%20%20%23map_837aa8de742542d5a3011bb290315f26%20%7B%0A%20%20%20%20%20%20%20%20%20%20%20%20%20%20%20%20%20%20%20%20position%3A%20relative%3B%0A%20%20%20%20%20%20%20%20%20%20%20%20%20%20%20%20%20%20%20%20width%3A%20100.0%25%3B%0A%20%20%20%20%20%20%20%20%20%20%20%20%20%20%20%20%20%20%20%20height%3A%20100.0%25%3B%0A%20%20%20%20%20%20%20%20%20%20%20%20%20%20%20%20%20%20%20%20left%3A%200.0%25%3B%0A%20%20%20%20%20%20%20%20%20%20%20%20%20%20%20%20%20%20%20%20top%3A%200.0%25%3B%0A%20%20%20%20%20%20%20%20%20%20%20%20%20%20%20%20%7D%0A%20%20%20%20%20%20%20%20%20%20%20%20%3C/style%3E%0A%20%20%20%20%20%20%20%20%0A%20%20%20%20%3Cscript%20src%3D%22https%3A//cdn.jsdelivr.net/gh/python-visualization/folium%40master/folium/templates/leaflet_heat.min.js%22%3E%3C/script%3E%0A%20%20%20%20%3Cscript%20src%3D%22https%3A//cdnjs.cloudflare.com/ajax/libs/leaflet.markercluster/1.1.0/leaflet.markercluster.js%22%3E%3C/script%3E%0A%20%20%20%20%3Clink%20rel%3D%22stylesheet%22%20href%3D%22https%3A//cdnjs.cloudflare.com/ajax/libs/leaflet.markercluster/1.1.0/MarkerCluster.css%22/%3E%0A%20%20%20%20%3Clink%20rel%3D%22stylesheet%22%20href%3D%22https%3A//cdnjs.cloudflare.com/ajax/libs/leaflet.markercluster/1.1.0/MarkerCluster.Default.css%22/%3E%0A%3C/head%3E%0A%3Cbody%3E%20%20%20%20%0A%20%20%20%20%0A%20%20%20%20%20%20%20%20%20%20%20%20%3Cdiv%20class%3D%22folium-map%22%20id%3D%22map_837aa8de742542d5a3011bb290315f26%22%20%3E%3C/div%3E%0A%20%20%20%20%20%20%20%20%0A%3C/body%3E%0A%3Cscript%3E%20%20%20%20%0A%20%20%20%20%0A%20%20%20%20%20%20%20%20%20%20%20%20var%20map_837aa8de742542d5a3011bb290315f26%20%3D%20L.map%28%0A%20%20%20%20%20%20%20%20%20%20%20%20%20%20%20%20%22map_837aa8de742542d5a3011bb290315f26%22%2C%0A%20%20%20%20%20%20%20%20%20%20%20%20%20%20%20%20%7B%0A%20%20%20%20%20%20%20%20%20%20%20%20%20%20%20%20%20%20%20%20center%3A%20%5B12.9716%2C%2077.5946%5D%2C%0A%20%20%20%20%20%20%20%20%20%20%20%20%20%20%20%20%20%20%20%20crs%3A%20L.CRS.EPSG3857%2C%0A%20%20%20%20%20%20%20%20%20%20%20%20%20%20%20%20%20%20%20%20zoom%3A%2011%2C%0A%20%20%20%20%20%20%20%20%20%20%20%20%20%20%20%20%20%20%20%20zoomControl%3A%20true%2C%0A%20%20%20%20%20%20%20%20%20%20%20%20%20%20%20%20%20%20%20%20preferCanvas%3A%20false%2C%0A%20%20%20%20%20%20%20%20%20%20%20%20%20%20%20%20%7D%0A%20%20%20%20%20%20%20%20%20%20%20%20%29%3B%0A%0A%20%20%20%20%20%20%20%20%20%20%20%20%0A%0A%20%20%20%20%20%20%20%20%0A%20%20%20%20%0A%20%20%20%20%20%20%20%20%20%20%20%20var%20tile_layer_8ce13d7064ae4e5993f7f478fdeab980%20%3D%20L.tileLayer%28%0A%20%20%20%20%20%20%20%20%20%20%20%20%20%20%20%20%22https%3A//%7Bs%7D.tile.openstreetmap.org/%7Bz%7D/%7Bx%7D/%7By%7D.png%22%2C%0A%20%20%20%20%20%20%20%20%20%20%20%20%20%20%20%20%7B%22attribution%22%3A%20%22Data%20by%20%5Cu0026copy%3B%20%5Cu003ca%20href%3D%5C%22http%3A//openstreetmap.org%5C%22%5Cu003eOpenStreetMap%5Cu003c/a%5Cu003e%2C%20under%20%5Cu003ca%20href%3D%5C%22http%3A//www.openstreetmap.org/copyright%5C%22%5Cu003eODbL%5Cu003c/a%5Cu003e.%22%2C%20%22detectRetina%22%3A%20false%2C%20%22maxNativeZoom%22%3A%2018%2C%20%22maxZoom%22%3A%2018%2C%20%22minZoom%22%3A%200%2C%20%22noWrap%22%3A%20false%2C%20%22opacity%22%3A%201%2C%20%22subdomains%22%3A%20%22abc%22%2C%20%22tms%22%3A%20false%7D%0A%20%20%20%20%20%20%20%20%20%20%20%20%29.addTo%28map_837aa8de742542d5a3011bb290315f26%29%3B%0A%20%20%20%20%20%20%20%20%0A%20%20%20%20%0A%20%20%20%20%20%20%20%20%20%20%20%20var%20heat_map_f0cbe9d9376842e0a58f057c9dbf9e78%20%3D%20L.heatLayer%28%0A%20%20%20%20%20%20%20%20%20%20%20%20%20%20%20%20%5B%5B12.911275849999999%2C%2077.60456543431182%2C%20160000.0%5D%2C%20%5B12.9152208%2C%2077.573598%2C%20160000.0%5D%2C%20%5B13.0141618%2C%2077.6518539%2C%20160000.0%5D%2C%20%5B12.8870547%2C%2077.5969483%2C%20160000.0%5D%2C%20%5B12.9417261%2C%2077.5755021%2C%2090000.0%5D%2C%20%5B12.9917539%2C%2077.5383401%2C%20160000.0%5D%2C%20%5B12.93577245%2C%2077.66676103753434%2C%20250000.0%5D%2C%20%5B12.9089453%2C%2077.6239038%2C%20202500.0%5D%2C%20%5B12.9750605%2C%2077.6080323%2C%20360000.0%5D%2C%20%5B12.9668213%2C%2077.7168891%2C%20160000.0%5D%2C%20%5B12.9854892%2C%2077.6679809%2C%2090000.0%5D%2C%20%5B13.0101286%2C%2077.5548006%2C%20202500.0%5D%2C%20%5B12.9742939%2C%2077.6525189%2C%20810000.0%5D%2C%20%5B12.965717999999999%2C%2077.5762705372058%2C%20122500.0%5D%2C%20%5B12.9821931%2C%2077.6083132%2C%20122500.0%5D%2C%20%5B12.9904458%2C%2077.5910041%2C%20562500.0%5D%2C%20%5B12.9624669%2C%2077.6381958%2C%20250000.0%5D%2C%20%5B12.9845687%2C%2077.73766474151809%2C%20160000.0%5D%2C%20%5B12.945245%2C%2077.6269144%2C%2090000.0%5D%2C%20%5B12.8563536%2C%2077.6636073%2C%20160000.0%5D%2C%20%5B12.996845%2C%2077.6130165%2C%20202500.0%5D%2C%20%5B13.0358698%2C%2077.6323597%2C%20160000.0%5D%2C%20%5B12.9116225%2C%2077.6388622%2C%20202500.0%5D%2C%20%5B13.0382184%2C%2077.5919%2C%20160000.0%5D%2C%20%5B13.0258087%2C%2077.6305067%2C%20160000.0%5D%2C%20%5B12.9310963%2C%2077.6140388%2C%20250000.0%5D%2C%20%5B12.9805381%2C%2077.7273032%2C%20250000.0%5D%2C%20%5B12.9732913%2C%2077.6404672%2C%20360000.0%5D%2C%20%5B12.9831774%2C%2077.595831%2C%201210000.0%5D%2C%20%5B12.9072515%2C%2077.5782713%2C%20250000.0%5D%2C%20%5B13.0464531%2C%2077.5483803%2C%20160000.0%5D%2C%20%5B12.9292731%2C%2077.5824229%2C%20160000.0%5D%2C%20%5B12.9678074%2C%2077.6568367%2C%20160000.0%5D%2C%20%5B13.007516%2C%2077.695935%2C%20160000.0%5D%2C%20%5B12.9846713%2C%2077.6790908%2C%20160000.0%5D%2C%20%5B13.0221416%2C%2077.6403368%2C%20360000.0%5D%2C%20%5B13.0093455%2C%2077.6377094%2C%20250000.0%5D%2C%20%5B12.9065281%2C%2077.5733344%2C%20250000.0%5D%2C%20%5B12.9176571%2C%2077.4837568%2C%20250000.0%5D%2C%20%5B13.2923988%2C%2077.7519261%2C%20160000.0%5D%2C%20%5B12.928080600000001%2C%2077.63071968728623%2C%20160000.0%5D%2C%20%5B12.9243509%2C%2077.6255562%2C%20360000.0%5D%2C%20%5B12.9271867%2C%2077.6266252%2C%20810000.0%5D%2C%20%5B12.93433385%2C%2077.63040639553275%2C%20562500.0%5D%2C%20%5B12.928080600000001%2C%2077.63071968728623%2C%20490000.0%5D%2C%20%5B12.9400321%2C%2077.6203272%2C%20250000.0%5D%2C%20%5B12.928080600000001%2C%2077.63071968728623%2C%20360000.0%5D%2C%20%5B12.9417812%2C%2077.6160146%2C%20160000.0%5D%2C%20%5B12.9081487%2C%2077.5553179%2C%20122500.0%5D%2C%20%5B12.957998%2C%2077.6037312%2C%201000000.0%5D%2C%20%5B12.9750062%2C%2077.5998217%2C%201960000.0%5D%2C%20%5B12.9741854%2C%2077.6124135%2C%201440000.0%5D%2C%20%5B12.987027%2C%2077.5201369%2C%2090000.0%5D%2C%20%5B12.9757079%2C%2077.5728757%2C%20160000.0%5D%2C%20%5B13.0027353%2C%2077.5703253%2C%20160000.0%5D%2C%20%5B12.9552572%2C%2077.6984163%2C%20202500.0%5D%2C%20%5B12.9597523%2C%2077.5561291%2C%20122500.0%5D%2C%20%5B12.95961755%2C%2077.51126721318181%2C%2062500.0%5D%2C%20%5B13.0431413%2C%2077.6209093%2C%20160000.0%5D%2C%20%5B13.0343483%2C%2077.5683468%2C%20250000.0%5D%2C%20%5B12.9767936%2C%2077.590082%2C%2062500.0%5D%2C%20%5B12.9592241%2C%2077.6615183%2C%20250000.0%5D%2C%20%5B13.0086263%2C%2077.6962756%2C%20160000.0%5D%2C%20%5B13.0329419%2C%2077.5273253%2C%2090000.0%5D%2C%20%5B13.0227204%2C%2077.595715%2C%20160000.0%5D%2C%20%5B12.983801%2C%2077.5808654%2C%201210000.0%5D%2C%20%5B12.9882338%2C%2077.554883%2C%20160000.0%5D%2C%20%5B12.9274413%2C%2077.5155224%2C%20525625.0%5D%2C%20%5B13.0530002%2C%2077.6204833%2C%20640000.0%5D%2C%20%5B12.9649453%2C%2077.5982978%2C%20490000.0%5D%2C%20%5B15.8782951%2C%2074.5084834%2C%20640000.0%5D%2C%20%5B13.0621474%2C%2077.58006135480495%2C%20160000.0%5D%2C%20%5B12.9578658%2C%2077.6958748%2C%2090000.0%5D%2C%20%5B13.0035092%2C%2077.5837816%2C%205760000.0%5D%2C%20%5B12.9242381%2C%2077.6289059%2C%20250000.0%5D%2C%20%5B12.9931876%2C%2077.5753419%2C%20360000.0%5D%2C%20%5B12.9575547%2C%2077.5979099%2C%20250000.0%5D%2C%20%5B12.986391%2C%2077.6075416%2C%20122500.0%5D%2C%20%5B12.9172247%2C%2077.6143995%2C%2090000.0%5D%2C%20%5B12.973936%2C%2077.6509982%2C%20122500.0%5D%2C%20%5B12.9778793%2C%2077.6246697%2C%20360000.0%5D%2C%20%5B12.9055682%2C%2077.5455438%2C%20160000.0%5D%2C%20%5B12.9414662%2C%2077.7470942%2C%2090000.0%5D%2C%20%5B12.988721250000001%2C%2077.58516877601824%2C%20250000.0%5D%2C%20%5B12.96595445%2C%2077.61253320881664%2C%20122500.0%5D%2C%20%5B12.9848519%2C%2077.5400626%2C%20202500.0%5D%2C%20%5B12.9696365%2C%2077.7497448%2C%20250000.0%5D%2C%20%5B12.9489339%2C%2077.5968273%2C%20122500.0%5D%2C%20%5B13.1006982%2C%2077.5963454%2C%20105625.0%5D%2C%20%5B13.02383%2C%2077.5529215%2C%20160000.0%5D%5D%2C%0A%20%20%20%20%20%20%20%20%20%20%20%20%20%20%20%20%7B%22blur%22%3A%2015%2C%20%22maxZoom%22%3A%2018%2C%20%22minOpacity%22%3A%200.5%2C%20%22radius%22%3A%2015%2C%20%22zoom%22%3A%2020%7D%0A%20%20%20%20%20%20%20%20%20%20%20%20%29.addTo%28map_837aa8de742542d5a3011bb290315f26%29%3B%0A%20%20%20%20%20%20%20%20%0A%20%20%20%20%0A%20%20%20%20%20%20%20%20%20%20%20%20var%20fast_marker_cluster_ad364a0280af4dc394ea6c31b01628c7%20%3D%20%28function%28%29%7B%0A%20%20%20%20%20%20%20%20%20%20%20%20%20%20%20%20%0A%20%20%20%20%20%20%20%20%20%20%20%20%20%20%20%20var%20callback%20%3D%20function%20%28row%29%20%7B%0A%20%20%20%20%20%20%20%20%20%20%20%20%20%20%20%20%20%20%20%20var%20icon%20%3D%20L.AwesomeMarkers.icon%28%29%3B%0A%20%20%20%20%20%20%20%20%20%20%20%20%20%20%20%20%20%20%20%20var%20marker%20%3D%20L.marker%28new%20L.LatLng%28row%5B0%5D%2C%20row%5B1%5D%29%29%3B%0A%20%20%20%20%20%20%20%20%20%20%20%20%20%20%20%20%20%20%20%20marker.setIcon%28icon%29%3B%0A%20%20%20%20%20%20%20%20%20%20%20%20%20%20%20%20%20%20%20%20return%20marker%3B%0A%20%20%20%20%20%20%20%20%20%20%20%20%20%20%20%20%7D%3B%0A%0A%20%20%20%20%20%20%20%20%20%20%20%20%20%20%20%20var%20data%20%3D%20%5B%5B12.911275849999999%2C%2077.60456543431182%2C%20160000.0%5D%2C%20%5B12.9152208%2C%2077.573598%2C%20160000.0%5D%2C%20%5B13.0141618%2C%2077.6518539%2C%20160000.0%5D%2C%20%5B12.8870547%2C%2077.5969483%2C%20160000.0%5D%2C%20%5B12.9417261%2C%2077.5755021%2C%2090000.0%5D%2C%20%5B12.9917539%2C%2077.5383401%2C%20160000.0%5D%2C%20%5B12.93577245%2C%2077.66676103753434%2C%20250000.0%5D%2C%20%5B12.9089453%2C%2077.6239038%2C%20202500.0%5D%2C%20%5B12.9750605%2C%2077.6080323%2C%20360000.0%5D%2C%20%5B12.9668213%2C%2077.7168891%2C%20160000.0%5D%2C%20%5B12.9854892%2C%2077.6679809%2C%2090000.0%5D%2C%20%5B13.0101286%2C%2077.5548006%2C%20202500.0%5D%2C%20%5B12.9742939%2C%2077.6525189%2C%20810000.0%5D%2C%20%5B12.965717999999999%2C%2077.5762705372058%2C%20122500.0%5D%2C%20%5B12.9821931%2C%2077.6083132%2C%20122500.0%5D%2C%20%5B12.9904458%2C%2077.5910041%2C%20562500.0%5D%2C%20%5B12.9624669%2C%2077.6381958%2C%20250000.0%5D%2C%20%5B12.9845687%2C%2077.73766474151809%2C%20160000.0%5D%2C%20%5B12.945245%2C%2077.6269144%2C%2090000.0%5D%2C%20%5B12.8563536%2C%2077.6636073%2C%20160000.0%5D%2C%20%5B12.996845%2C%2077.6130165%2C%20202500.0%5D%2C%20%5B13.0358698%2C%2077.6323597%2C%20160000.0%5D%2C%20%5B12.9116225%2C%2077.6388622%2C%20202500.0%5D%2C%20%5B13.0382184%2C%2077.5919%2C%20160000.0%5D%2C%20%5B13.0258087%2C%2077.6305067%2C%20160000.0%5D%2C%20%5B12.9310963%2C%2077.6140388%2C%20250000.0%5D%2C%20%5B12.9805381%2C%2077.7273032%2C%20250000.0%5D%2C%20%5B12.9732913%2C%2077.6404672%2C%20360000.0%5D%2C%20%5B12.9831774%2C%2077.595831%2C%201210000.0%5D%2C%20%5B12.9072515%2C%2077.5782713%2C%20250000.0%5D%2C%20%5B13.0464531%2C%2077.5483803%2C%20160000.0%5D%2C%20%5B12.9292731%2C%2077.5824229%2C%20160000.0%5D%2C%20%5B12.9678074%2C%2077.6568367%2C%20160000.0%5D%2C%20%5B13.007516%2C%2077.695935%2C%20160000.0%5D%2C%20%5B12.9846713%2C%2077.6790908%2C%20160000.0%5D%2C%20%5B13.0221416%2C%2077.6403368%2C%20360000.0%5D%2C%20%5B13.0093455%2C%2077.6377094%2C%20250000.0%5D%2C%20%5B12.9065281%2C%2077.5733344%2C%20250000.0%5D%2C%20%5B12.9176571%2C%2077.4837568%2C%20250000.0%5D%2C%20%5B13.2923988%2C%2077.7519261%2C%20160000.0%5D%2C%20%5B12.928080600000001%2C%2077.63071968728623%2C%20160000.0%5D%2C%20%5B12.9243509%2C%2077.6255562%2C%20360000.0%5D%2C%20%5B12.9271867%2C%2077.6266252%2C%20810000.0%5D%2C%20%5B12.93433385%2C%2077.63040639553275%2C%20562500.0%5D%2C%20%5B12.928080600000001%2C%2077.63071968728623%2C%20490000.0%5D%2C%20%5B12.9400321%2C%2077.6203272%2C%20250000.0%5D%2C%20%5B12.928080600000001%2C%2077.63071968728623%2C%20360000.0%5D%2C%20%5B12.9417812%2C%2077.6160146%2C%20160000.0%5D%2C%20%5B12.9081487%2C%2077.5553179%2C%20122500.0%5D%2C%20%5B12.957998%2C%2077.6037312%2C%201000000.0%5D%2C%20%5B12.9750062%2C%2077.5998217%2C%201960000.0%5D%2C%20%5B12.9741854%2C%2077.6124135%2C%201440000.0%5D%2C%20%5B12.987027%2C%2077.5201369%2C%2090000.0%5D%2C%20%5B12.9757079%2C%2077.5728757%2C%20160000.0%5D%2C%20%5B13.0027353%2C%2077.5703253%2C%20160000.0%5D%2C%20%5B12.9552572%2C%2077.6984163%2C%20202500.0%5D%2C%20%5B12.9597523%2C%2077.5561291%2C%20122500.0%5D%2C%20%5B12.95961755%2C%2077.51126721318181%2C%2062500.0%5D%2C%20%5B13.0431413%2C%2077.6209093%2C%20160000.0%5D%2C%20%5B13.0343483%2C%2077.5683468%2C%20250000.0%5D%2C%20%5B12.9767936%2C%2077.590082%2C%2062500.0%5D%2C%20%5B12.9592241%2C%2077.6615183%2C%20250000.0%5D%2C%20%5B13.0086263%2C%2077.6962756%2C%20160000.0%5D%2C%20%5B13.0329419%2C%2077.5273253%2C%2090000.0%5D%2C%20%5B13.0227204%2C%2077.595715%2C%20160000.0%5D%2C%20%5B12.983801%2C%2077.5808654%2C%201210000.0%5D%2C%20%5B12.9882338%2C%2077.554883%2C%20160000.0%5D%2C%20%5B12.9274413%2C%2077.5155224%2C%20525625.0%5D%2C%20%5B13.0530002%2C%2077.6204833%2C%20640000.0%5D%2C%20%5B12.9649453%2C%2077.5982978%2C%20490000.0%5D%2C%20%5B15.8782951%2C%2074.5084834%2C%20640000.0%5D%2C%20%5B13.0621474%2C%2077.58006135480495%2C%20160000.0%5D%2C%20%5B12.9578658%2C%2077.6958748%2C%2090000.0%5D%2C%20%5B13.0035092%2C%2077.5837816%2C%205760000.0%5D%2C%20%5B12.9242381%2C%2077.6289059%2C%20250000.0%5D%2C%20%5B12.9931876%2C%2077.5753419%2C%20360000.0%5D%2C%20%5B12.9575547%2C%2077.5979099%2C%20250000.0%5D%2C%20%5B12.986391%2C%2077.6075416%2C%20122500.0%5D%2C%20%5B12.9172247%2C%2077.6143995%2C%2090000.0%5D%2C%20%5B12.973936%2C%2077.6509982%2C%20122500.0%5D%2C%20%5B12.9778793%2C%2077.6246697%2C%20360000.0%5D%2C%20%5B12.9055682%2C%2077.5455438%2C%20160000.0%5D%2C%20%5B12.9414662%2C%2077.7470942%2C%2090000.0%5D%2C%20%5B12.988721250000001%2C%2077.58516877601824%2C%20250000.0%5D%2C%20%5B12.96595445%2C%2077.61253320881664%2C%20122500.0%5D%2C%20%5B12.9848519%2C%2077.5400626%2C%20202500.0%5D%2C%20%5B12.9696365%2C%2077.7497448%2C%20250000.0%5D%2C%20%5B12.9489339%2C%2077.5968273%2C%20122500.0%5D%2C%20%5B13.1006982%2C%2077.5963454%2C%20105625.0%5D%2C%20%5B13.02383%2C%2077.5529215%2C%20160000.0%5D%5D%3B%0A%20%20%20%20%20%20%20%20%20%20%20%20%20%20%20%20var%20cluster%20%3D%20L.markerClusterGroup%28%7B%7D%29%3B%0A%0A%20%20%20%20%20%20%20%20%20%20%20%20%20%20%20%20for%20%28var%20i%20%3D%200%3B%20i%20%3C%20data.length%3B%20i%2B%2B%29%20%7B%0A%20%20%20%20%20%20%20%20%20%20%20%20%20%20%20%20%20%20%20%20var%20row%20%3D%20data%5Bi%5D%3B%0A%20%20%20%20%20%20%20%20%20%20%20%20%20%20%20%20%20%20%20%20var%20marker%20%3D%20callback%28row%29%3B%0A%20%20%20%20%20%20%20%20%20%20%20%20%20%20%20%20%20%20%20%20marker.addTo%28cluster%29%3B%0A%20%20%20%20%20%20%20%20%20%20%20%20%20%20%20%20%7D%0A%0A%20%20%20%20%20%20%20%20%20%20%20%20%20%20%20%20cluster.addTo%28map_837aa8de742542d5a3011bb290315f26%29%3B%0A%20%20%20%20%20%20%20%20%20%20%20%20%20%20%20%20return%20cluster%3B%0A%20%20%20%20%20%20%20%20%20%20%20%20%7D%29%28%29%3B%0A%20%20%20%20%20%20%20%20%0A%3C/script%3E onload=\"this.contentDocument.open();this.contentDocument.write(    decodeURIComponent(this.getAttribute('data-html')));this.contentDocument.close();\" allowfullscreen webkitallowfullscreen mozallowfullscreen></iframe></div></div>"
      ],
      "text/plain": [
       "<folium.folium.Map at 0x7fa77b917c90>"
      ]
     },
     "execution_count": 46,
     "metadata": {},
     "output_type": "execute_result"
    }
   ],
   "source": [
    "generate_med_price_heatmap()"
   ]
  },
  {
   "cell_type": "markdown",
   "metadata": {},
   "source": [
    "Figure 7 shows the heat map based on the median price of restaurants in the certain location"
   ]
  },
  {
   "cell_type": "markdown",
   "metadata": {},
   "source": [
    "## Objective 2 \n",
    "### Explanation of Results\n",
    "We selected four algorithmic models that fit this dataset relatively well. We divided the dataset into ten parts, one for testing and the remaining nine parts for training. After training, the R2 score is used to test the accuracy of models' predictions. Except for Linear Regression, which has a relatively poor performance, all three models have a good level of accuracy. Extra trees had the highest score. Thus we had chosen this model as this project's prediction model.\n",
    "\n",
    "\n",
    "Based on this model, we could adjust the restaurant opening strategy to a certain extent to achieve a higher level of success. A clear example of this application is shown below. When we chose to open a buffet type cafe in BTM at the price of 1000, which could be ordered online but not available for booking a table, our model predicted that the plan would only get a rating of 3.4 and only 152 votes. However, when we choose to make the cafe not available for online ordering but table reservations, the rating reaches 4.1 and the votes, which is a side indicator of the number of visitors, soars to 1145. If we want to take it a step further, then let go of online ordering and seat reservations, and the rating can come in at about 4.3 out of 1199, while votes remain at a similar level at 1090.\n",
    "\n",
    "With a few simple changes, we can increase the plan's rating forecast by 25 per cent and seven times more votes. Although they are just data on a screen, they give the restaurant an additional point of reference to negate some unreasonable decisions and give advice.\n",
    "\n"
   ]
  },
  {
   "cell_type": "code",
   "execution_count": 43,
   "metadata": {},
   "outputs": [
    {
     "data": {
      "text/plain": [
       "array([[  3.375     , 151.50166667]])"
      ]
     },
     "execution_count": 43,
     "metadata": {},
     "output_type": "execute_result"
    }
   ],
   "source": [
    "predict_0 = pd.DataFrame([{\"online_order\": \"Yes\", \"book_table\": \"No\", \"location\": \"BTM\", \n",
    "                        \"rest_type\": \"Cafe\", \"price\": 1000, \"meal_type\": \"Buffet\"}])\n",
    "predict(ET_model, predict_0)"
   ]
  },
  {
   "cell_type": "code",
   "execution_count": 44,
   "metadata": {},
   "outputs": [
    {
     "data": {
      "text/plain": [
       "array([[   4.11258333, 1145.4675    ]])"
      ]
     },
     "execution_count": 44,
     "metadata": {},
     "output_type": "execute_result"
    }
   ],
   "source": [
    "predict_0 = pd.DataFrame([{\"online_order\": \"No\", \"book_table\": \"Yes\", \"location\": \"BTM\", \n",
    "                        \"rest_type\": \"Cafe\", \"price\": 1000, \"meal_type\": \"Buffet\"}])\n",
    "predict(ET_model, predict_0)"
   ]
  },
  {
   "cell_type": "code",
   "execution_count": 45,
   "metadata": {},
   "outputs": [
    {
     "data": {
      "text/plain": [
       "array([[   4.269, 1199.29 ]])"
      ]
     },
     "execution_count": 45,
     "metadata": {},
     "output_type": "execute_result"
    }
   ],
   "source": [
    "predict_0 = pd.DataFrame([{\"online_order\": \"Yes\", \"book_table\": \"Yes\", \"location\": \"BTM\", \n",
    "                         \"rest_type\": \"Cafe\", \"price\": 1000, \"meal_type\": \"Buffet\"}])\n",
    "predict(ET_model, predict_0)"
   ]
  },
  {
   "cell_type": "markdown",
   "metadata": {},
   "source": [
    "# Conclusion (5 marks)\n",
    "\n",
    "### Achievements\n",
    "\n",
    "Our data analysis suggests that a reasonable price for a restaurant in Bangalore is the 0-2000 range. If a higher probability of success is required, 1000-2000 would be a good choice. On the visualised heat map, most restaurants were in the BTM location, while the restaurants in the Sankey Road are in the most expensive group. We then use the prediction model using the Extra Trees algorithm to correct restaurant characteristics to achieve higher predictive success: higher ratings and reviews.\n",
    "\n",
    "### Limitations\n",
    "\n",
    "Our project has certain limitations in the three areas of data quality, data processing and data analysis.\n",
    "Firstly, there is a particular bias in our data, and as a city with a giant population, the actual restaurant data should far exceed the magnitude of the data we get. Moreover, the restaurants that are not being recorded are more likely to be lower-priced restaurants that are not connected to the internet, which can bias the data analysis towards the middle and upper reaches.\n",
    "\n",
    "When getting the corresponding coordinates of the restaurant, we have tried to use the restaurant's address to find the corresponding latitude and longitude in the first place. However, as the external library takes a few seconds on average to fetch a piece of data, our time does not allow us to fetch them one by one. With tens of thousands of pieces of data, we do not have the time to fetch them one by one, so we use the location's coordinates instead, which only have less than 100 unique values.\n",
    "\n",
    "Also, in doing the prediction models, the models were taken more from a portion of the more basic algorithms, and they all produced r 2 scores around 0.70. There may be algorithms that have higher performance for this dataset.\n",
    "\n",
    "### Future Work\n",
    "\n",
    "In response to the limitation above, we also give three directions for future work accordingly. The first direction will be to obtain more data, including offline restaurants. Furthermore, the next one is to obtain address data and convert it to coordinate data. The last one is to use more models to test the data."
   ]
  }
 ],
 "metadata": {
  "kernelspec": {
   "display_name": "Python 3",
   "language": "python",
   "name": "python3"
  },
  "language_info": {
   "codemirror_mode": {
    "name": "ipython",
    "version": 3
   },
   "file_extension": ".py",
   "mimetype": "text/x-python",
   "name": "python",
   "nbconvert_exporter": "python",
   "pygments_lexer": "ipython3",
   "version": "3.7.6"
  }
 },
 "nbformat": 4,
 "nbformat_minor": 4
}
