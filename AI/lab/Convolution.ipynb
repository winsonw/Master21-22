{
 "cells": [
  {
   "cell_type": "markdown",
   "metadata": {},
   "source": [
    "# Convolution\n",
    "\n",
    "\n",
    "The aim of this notebook is for you to learn about convolution applied to images.\n",
    "\n",
    "First load the modules we need."
   ]
  },
  {
   "cell_type": "code",
   "execution_count": null,
   "metadata": {},
   "outputs": [],
   "source": [
    "import numpy as np\n",
    "import matplotlib.pyplot as plt\n",
    "import matplotlib.colors as colors\n",
    "import matplotlib.patches as patches\n",
    "import scipy.signal\n",
    "\n",
    "#%matplotlib notebook\n",
    "%matplotlib inline"
   ]
  },
  {
   "cell_type": "markdown",
   "metadata": {},
   "source": [
    "Convert an RGB image to a single channel greyscale image.\n"
   ]
  },
  {
   "cell_type": "code",
   "execution_count": null,
   "metadata": {},
   "outputs": [],
   "source": [
    "im = plt.imread('archway.jpg')\n",
    "\n",
    "gim = np.mean(im,2)/255\n",
    "\n",
    "fig = plt.figure(figsize=(2*6.4,2*4.8))\n",
    "\n",
    "ax = plt.subplot(1,2,1)\n",
    "plt.imshow(im)\n",
    "ax.axis('off')\n",
    "\n",
    "ax = plt.subplot(1,2,2)\n",
    "plt.imshow(gim, cmap='gray')\n",
    "ax.axis('off')\n",
    "plt.show()"
   ]
  },
  {
   "cell_type": "markdown",
   "metadata": {},
   "source": [
    "Convolve the grey-scale image with four masks sensitive to vertical and horizontal intensity edges in the image (both light to dark, and dark to light)."
   ]
  },
  {
   "cell_type": "code",
   "execution_count": null,
   "metadata": {
    "scrolled": true
   },
   "outputs": [],
   "source": [
    "\n",
    "fig = plt.figure(figsize=(2*6.4,2*4.8))\n",
    "\n",
    "# Define four 3x3 convolution masks\n",
    "masks = (\n",
    "    [[-1,0,1],[-2,0,2],[-1,0,1]],\n",
    "    [[1,0,-1],[2,0,-2],[1,0,-1]],\n",
    "    [[-1,-2,-1],[0,0,0],[1,2,1]],    \n",
    "    [[1,2,1],[0,0,0],[-1,-2,-1]]\n",
    ")\n",
    "\n",
    "N = len(masks)   # number of masks\n",
    "h,w = gim.shape\n",
    "r = np.zeros((N,h,w))    # array for convolved images\n",
    "\n",
    "clist = (\"r\", \"g\", \"b\", \"y\")    # four matplotlib colours\n",
    "\n",
    "# convolve with each mask and show the results\n",
    "for i, mask in enumerate(masks):\n",
    "    r[i,:,:] = scipy.signal.convolve2d(gim,mask,mode='same')\n",
    "    ax = plt.subplot(3,3,i+1)    # note: adjust row and column counts for subplot to match the number of masks \n",
    "    plt.imshow(r[i,:,:]>0.5, cmap='gray')    # threshold at 0.5 to highlight high values and show the result\n",
    "    plt.title(f'{mask}')\n",
    "    ax.axis('off')\n",
    "    p = patches.Circle((w-20,20),radius=15, color=clist[i])\n",
    "    ax.add_patch(p)\n",
    "    \n",
    "fig.savefig(\"fourmasks.svg\")"
   ]
  },
  {
   "cell_type": "code",
   "execution_count": null,
   "metadata": {},
   "outputs": [],
   "source": [
    "Show a composite visualisation of the highest valued output at each pixel location"
   ]
  },
  {
   "cell_type": "code",
   "execution_count": null,
   "metadata": {},
   "outputs": [],
   "source": [
    "fig = plt.figure(figsize=(2*6.4,2*4.8))\n",
    "s = np.argmax(r,axis=0)    # index in the range [0,N-1] of the largest output at each location\n",
    "ax = plt.subplot(111)      # a single sub plot\n",
    "clrs = np.array([colors.to_rgb(c) for c in clist])    # convert matplotlib colours to RGB\n",
    "image = clrs[s]                                       # use advanced indexing to create an RGB image from the index array\n",
    "plt.imshow(image)\n",
    "ax.axis('off')\n",
    "\n",
    "fig.savefig(\"composite.svg\")"
   ]
  },
  {
   "cell_type": "markdown",
   "metadata": {},
   "source": [
    "# Exercise\n",
    "\n",
    "\n"
   ]
  },
  {
   "cell_type": "markdown",
   "metadata": {},
   "source": [
    "Add four more masks for diagonal edges. Display all eight thresholded feature maps and the composite visualisation for the dominant features at each location (as above). You will need to add more colours (see https://matplotlib.org/stable/gallery/color/named_colors.html)."
   ]
  }
 ],
 "metadata": {
  "kernelspec": {
   "display_name": "Python 3",
   "language": "python",
   "name": "python3"
  },
  "language_info": {
   "codemirror_mode": {
    "name": "ipython",
    "version": 3
   },
   "file_extension": ".py",
   "mimetype": "text/x-python",
   "name": "python",
   "nbconvert_exporter": "python",
   "pygments_lexer": "ipython3",
   "version": "3.7.6"
  }
 },
 "nbformat": 4,
 "nbformat_minor": 4
}
